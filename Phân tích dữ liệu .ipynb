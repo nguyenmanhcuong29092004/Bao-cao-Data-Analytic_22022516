{
 "cells": [
  {
   "cell_type": "code",
   "execution_count": 1,
   "id": "b3f84382",
   "metadata": {},
   "outputs": [],
   "source": [
    "import pandas as pd\n",
    "import matplotlib.pyplot as plt\n",
    "import seaborn as sns\n",
    "import numpy as np\n",
    "import matplotlib.dates as mdates\n",
    "from datetime import datetime\n",
    "from sklearn.linear_model import LinearRegression\n",
    "from sklearn.model_selection import train_test_split\n",
    "from sklearn.metrics import mean_squared_error\n",
    "from collections import Counter\n",
    "import nltk\n",
    "from nltk.corpus import wordnet"
   ]
  },
  {
   "cell_type": "code",
   "execution_count": 2,
   "id": "f9e46c47",
   "metadata": {},
   "outputs": [],
   "source": [
    "df = pd.read_csv('repository_info7.csv')"
   ]
  },
  {
   "cell_type": "code",
   "execution_count": 3,
   "id": "1a2ac32b",
   "metadata": {
    "scrolled": true
   },
   "outputs": [
    {
     "data": {
      "text/html": [
       "<div>\n",
       "<style scoped>\n",
       "    .dataframe tbody tr th:only-of-type {\n",
       "        vertical-align: middle;\n",
       "    }\n",
       "\n",
       "    .dataframe tbody tr th {\n",
       "        vertical-align: top;\n",
       "    }\n",
       "\n",
       "    .dataframe thead th {\n",
       "        text-align: right;\n",
       "    }\n",
       "</style>\n",
       "<table border=\"1\" class=\"dataframe\">\n",
       "  <thead>\n",
       "    <tr style=\"text-align: right;\">\n",
       "      <th></th>\n",
       "      <th>Commit ID</th>\n",
       "      <th>Commit Message</th>\n",
       "      <th>Commit Date</th>\n",
       "      <th>Changed Files</th>\n",
       "      <th>Num Changed Files</th>\n",
       "      <th>Additions</th>\n",
       "      <th>Deletions</th>\n",
       "      <th>Author Name</th>\n",
       "      <th>Author Email</th>\n",
       "    </tr>\n",
       "  </thead>\n",
       "  <tbody>\n",
       "    <tr>\n",
       "      <th>0</th>\n",
       "      <td>db5176773299b67a2a75c5889fb2aba7fd0fea8a</td>\n",
       "      <td>fix indent</td>\n",
       "      <td>2020-11-30 04:34:51</td>\n",
       "      <td>['tflearn/activations.py', 'tflearn/objectives...</td>\n",
       "      <td>2</td>\n",
       "      <td>12</td>\n",
       "      <td>14</td>\n",
       "      <td>aymericdamien</td>\n",
       "      <td>aymeric.damien@gmail.com</td>\n",
       "    </tr>\n",
       "    <tr>\n",
       "      <th>1</th>\n",
       "      <td>0f44f97c823179d3473e6a17eaa127bdae7360d7</td>\n",
       "      <td>Adding triplet loss (#1161)\\n\\n* Added fashion...</td>\n",
       "      <td>2020-11-24 06:21:54</td>\n",
       "      <td>['tflearn/objectives.py']</td>\n",
       "      <td>1</td>\n",
       "      <td>25</td>\n",
       "      <td>0</td>\n",
       "      <td>Hemant Rakesh</td>\n",
       "      <td>basketballlife600@gmail.com</td>\n",
       "    </tr>\n",
       "    <tr>\n",
       "      <th>2</th>\n",
       "      <td>a497518b6ed0196744cca5ff4ad0a4d4329152c2</td>\n",
       "      <td>Added fashion_mnist dataset (#1160)</td>\n",
       "      <td>2020-11-14 10:41:01</td>\n",
       "      <td>['tflearn/datasets/fashion_mnist.py']</td>\n",
       "      <td>1</td>\n",
       "      <td>173</td>\n",
       "      <td>0</td>\n",
       "      <td>Hemant Rakesh</td>\n",
       "      <td>basketballlife600@gmail.com</td>\n",
       "    </tr>\n",
       "    <tr>\n",
       "      <th>3</th>\n",
       "      <td>dc31ec05aafe67081552f964ad57cc995dfc2ff6</td>\n",
       "      <td>Fix syntax warning over comparison of literals...</td>\n",
       "      <td>2020-11-11 21:09:30</td>\n",
       "      <td>['examples/nlp/lstm_generator_textfile.py', 't...</td>\n",
       "      <td>3</td>\n",
       "      <td>4</td>\n",
       "      <td>4</td>\n",
       "      <td>Karthikeyan Singaravelan</td>\n",
       "      <td>tir.karthi@gmail.com</td>\n",
       "    </tr>\n",
       "    <tr>\n",
       "      <th>4</th>\n",
       "      <td>e7148af1d97522fa4df899f57673df7f4e2680e1</td>\n",
       "      <td>merge (#1159)</td>\n",
       "      <td>2020-11-11 20:42:52</td>\n",
       "      <td>['tflearn/activations.py']</td>\n",
       "      <td>1</td>\n",
       "      <td>25</td>\n",
       "      <td>6</td>\n",
       "      <td>Aymeric Damien</td>\n",
       "      <td>aymeric.damien@gmail.com</td>\n",
       "    </tr>\n",
       "    <tr>\n",
       "      <th>...</th>\n",
       "      <td>...</td>\n",
       "      <td>...</td>\n",
       "      <td>...</td>\n",
       "      <td>...</td>\n",
       "      <td>...</td>\n",
       "      <td>...</td>\n",
       "      <td>...</td>\n",
       "      <td>...</td>\n",
       "      <td>...</td>\n",
       "    </tr>\n",
       "    <tr>\n",
       "      <th>608</th>\n",
       "      <td>d040e6f1b6b62d9f2e276da1d5e8699c704b5a1a</td>\n",
       "      <td>fix typo</td>\n",
       "      <td>2016-04-02 06:47:17</td>\n",
       "      <td>['README.md', 'docs/templates/index.md']</td>\n",
       "      <td>2</td>\n",
       "      <td>2</td>\n",
       "      <td>2</td>\n",
       "      <td>aymericdamien</td>\n",
       "      <td>aymeric.damien@gmail.com</td>\n",
       "    </tr>\n",
       "    <tr>\n",
       "      <th>609</th>\n",
       "      <td>f50bb1df4cdc1c5bfee2cb6508257edc4a27584b</td>\n",
       "      <td>updated docs</td>\n",
       "      <td>2016-03-31 15:56:49</td>\n",
       "      <td>['README.md', 'docs/templates/getting_started....</td>\n",
       "      <td>2</td>\n",
       "      <td>14</td>\n",
       "      <td>19</td>\n",
       "      <td>aymericdamien</td>\n",
       "      <td>aymeric.damien@gmail.com</td>\n",
       "    </tr>\n",
       "    <tr>\n",
       "      <th>610</th>\n",
       "      <td>7e79b72d329a7d8605d8d712736f6b3a84c2a235</td>\n",
       "      <td>added residual nets</td>\n",
       "      <td>2016-03-31 15:56:03</td>\n",
       "      <td>['examples/images/residual_network_cifar10.py'...</td>\n",
       "      <td>3</td>\n",
       "      <td>117</td>\n",
       "      <td>10</td>\n",
       "      <td>aymericdamien</td>\n",
       "      <td>aymeric.damien@gmail.com</td>\n",
       "    </tr>\n",
       "    <tr>\n",
       "      <th>611</th>\n",
       "      <td>d421f2d1e51090e607634604ee80ff889410ddd2</td>\n",
       "      <td>fix examples link</td>\n",
       "      <td>2016-03-31 12:12:17</td>\n",
       "      <td>['README.md', 'docs/templates/examples.md', 'e...</td>\n",
       "      <td>3</td>\n",
       "      <td>3</td>\n",
       "      <td>3</td>\n",
       "      <td>aymericdamien</td>\n",
       "      <td>aymeric.damien@gmail.com</td>\n",
       "    </tr>\n",
       "    <tr>\n",
       "      <th>612</th>\n",
       "      <td>2868b0be9865b5fcbf0280de5e0201875c2eda0b</td>\n",
       "      <td>initial release</td>\n",
       "      <td>2016-03-31 12:06:35</td>\n",
       "      <td>['CONTRIBUTING.md', 'LICENSE', 'README.md', 'R...</td>\n",
       "      <td>80</td>\n",
       "      <td>10047</td>\n",
       "      <td>0</td>\n",
       "      <td>aymericdamien</td>\n",
       "      <td>aymeric.damien@gmail.com</td>\n",
       "    </tr>\n",
       "  </tbody>\n",
       "</table>\n",
       "<p>613 rows × 9 columns</p>\n",
       "</div>"
      ],
      "text/plain": [
       "                                    Commit ID  \\\n",
       "0    db5176773299b67a2a75c5889fb2aba7fd0fea8a   \n",
       "1    0f44f97c823179d3473e6a17eaa127bdae7360d7   \n",
       "2    a497518b6ed0196744cca5ff4ad0a4d4329152c2   \n",
       "3    dc31ec05aafe67081552f964ad57cc995dfc2ff6   \n",
       "4    e7148af1d97522fa4df899f57673df7f4e2680e1   \n",
       "..                                        ...   \n",
       "608  d040e6f1b6b62d9f2e276da1d5e8699c704b5a1a   \n",
       "609  f50bb1df4cdc1c5bfee2cb6508257edc4a27584b   \n",
       "610  7e79b72d329a7d8605d8d712736f6b3a84c2a235   \n",
       "611  d421f2d1e51090e607634604ee80ff889410ddd2   \n",
       "612  2868b0be9865b5fcbf0280de5e0201875c2eda0b   \n",
       "\n",
       "                                        Commit Message          Commit Date  \\\n",
       "0                                           fix indent  2020-11-30 04:34:51   \n",
       "1    Adding triplet loss (#1161)\\n\\n* Added fashion...  2020-11-24 06:21:54   \n",
       "2                  Added fashion_mnist dataset (#1160)  2020-11-14 10:41:01   \n",
       "3    Fix syntax warning over comparison of literals...  2020-11-11 21:09:30   \n",
       "4                                        merge (#1159)  2020-11-11 20:42:52   \n",
       "..                                                 ...                  ...   \n",
       "608                                           fix typo  2016-04-02 06:47:17   \n",
       "609                                       updated docs  2016-03-31 15:56:49   \n",
       "610                                added residual nets  2016-03-31 15:56:03   \n",
       "611                                  fix examples link  2016-03-31 12:12:17   \n",
       "612                                    initial release  2016-03-31 12:06:35   \n",
       "\n",
       "                                         Changed Files  Num Changed Files  \\\n",
       "0    ['tflearn/activations.py', 'tflearn/objectives...                  2   \n",
       "1                            ['tflearn/objectives.py']                  1   \n",
       "2                ['tflearn/datasets/fashion_mnist.py']                  1   \n",
       "3    ['examples/nlp/lstm_generator_textfile.py', 't...                  3   \n",
       "4                           ['tflearn/activations.py']                  1   \n",
       "..                                                 ...                ...   \n",
       "608           ['README.md', 'docs/templates/index.md']                  2   \n",
       "609  ['README.md', 'docs/templates/getting_started....                  2   \n",
       "610  ['examples/images/residual_network_cifar10.py'...                  3   \n",
       "611  ['README.md', 'docs/templates/examples.md', 'e...                  3   \n",
       "612  ['CONTRIBUTING.md', 'LICENSE', 'README.md', 'R...                 80   \n",
       "\n",
       "     Additions  Deletions               Author Name  \\\n",
       "0           12         14             aymericdamien   \n",
       "1           25          0             Hemant Rakesh   \n",
       "2          173          0             Hemant Rakesh   \n",
       "3            4          4  Karthikeyan Singaravelan   \n",
       "4           25          6            Aymeric Damien   \n",
       "..         ...        ...                       ...   \n",
       "608          2          2             aymericdamien   \n",
       "609         14         19             aymericdamien   \n",
       "610        117         10             aymericdamien   \n",
       "611          3          3             aymericdamien   \n",
       "612      10047          0             aymericdamien   \n",
       "\n",
       "                    Author Email  \n",
       "0       aymeric.damien@gmail.com  \n",
       "1    basketballlife600@gmail.com  \n",
       "2    basketballlife600@gmail.com  \n",
       "3           tir.karthi@gmail.com  \n",
       "4       aymeric.damien@gmail.com  \n",
       "..                           ...  \n",
       "608     aymeric.damien@gmail.com  \n",
       "609     aymeric.damien@gmail.com  \n",
       "610     aymeric.damien@gmail.com  \n",
       "611     aymeric.damien@gmail.com  \n",
       "612     aymeric.damien@gmail.com  \n",
       "\n",
       "[613 rows x 9 columns]"
      ]
     },
     "execution_count": 3,
     "metadata": {},
     "output_type": "execute_result"
    }
   ],
   "source": [
    "df"
   ]
  },
  {
   "cell_type": "markdown",
   "id": "0d941a53",
   "metadata": {},
   "source": [
    "# Làm sạch và xử lí dữ liệu"
   ]
  },
  {
   "cell_type": "code",
   "execution_count": 4,
   "id": "f5725ce2",
   "metadata": {},
   "outputs": [
    {
     "name": "stdout",
     "output_type": "stream",
     "text": [
      "<class 'pandas.core.frame.DataFrame'>\n",
      "RangeIndex: 613 entries, 0 to 612\n",
      "Data columns (total 9 columns):\n",
      " #   Column             Non-Null Count  Dtype \n",
      "---  ------             --------------  ----- \n",
      " 0   Commit ID          613 non-null    object\n",
      " 1   Commit Message     613 non-null    object\n",
      " 2   Commit Date        613 non-null    object\n",
      " 3   Changed Files      613 non-null    object\n",
      " 4   Num Changed Files  613 non-null    int64 \n",
      " 5   Additions          613 non-null    int64 \n",
      " 6   Deletions          613 non-null    int64 \n",
      " 7   Author Name        613 non-null    object\n",
      " 8   Author Email       613 non-null    object\n",
      "dtypes: int64(3), object(6)\n",
      "memory usage: 43.2+ KB\n"
     ]
    }
   ],
   "source": [
    "#1.In ra thông tin của data frame\n",
    "df.info()"
   ]
  },
  {
   "cell_type": "markdown",
   "id": "816da3f5",
   "metadata": {},
   "source": [
    "### Kiểm tra giá trị null"
   ]
  },
  {
   "cell_type": "code",
   "execution_count": 5,
   "id": "61e123ed",
   "metadata": {},
   "outputs": [
    {
     "data": {
      "text/plain": [
       "Commit ID            0\n",
       "Commit Message       0\n",
       "Commit Date          0\n",
       "Changed Files        0\n",
       "Num Changed Files    0\n",
       "Additions            0\n",
       "Deletions            0\n",
       "Author Name          0\n",
       "Author Email         0\n",
       "dtype: int64"
      ]
     },
     "execution_count": 5,
     "metadata": {},
     "output_type": "execute_result"
    }
   ],
   "source": [
    "#2.Trả về tổng số dữ liệu null trong cột\n",
    "df.isnull().sum()"
   ]
  },
  {
   "cell_type": "markdown",
   "id": "8c831bb9",
   "metadata": {},
   "source": [
    "### Kiểm tra giá trị trùng lặp"
   ]
  },
  {
   "cell_type": "code",
   "execution_count": 6,
   "id": "5c2a9d6c",
   "metadata": {},
   "outputs": [
    {
     "data": {
      "text/plain": [
       "0"
      ]
     },
     "execution_count": 6,
     "metadata": {},
     "output_type": "execute_result"
    }
   ],
   "source": [
    "#3.Kiểm tra các giá trị trùng lặp\n",
    "df.duplicated(subset=None,keep='first').sum()"
   ]
  },
  {
   "cell_type": "code",
   "execution_count": 7,
   "id": "56f5c3ee",
   "metadata": {},
   "outputs": [
    {
     "data": {
      "text/html": [
       "<div>\n",
       "<style scoped>\n",
       "    .dataframe tbody tr th:only-of-type {\n",
       "        vertical-align: middle;\n",
       "    }\n",
       "\n",
       "    .dataframe tbody tr th {\n",
       "        vertical-align: top;\n",
       "    }\n",
       "\n",
       "    .dataframe thead th {\n",
       "        text-align: right;\n",
       "    }\n",
       "</style>\n",
       "<table border=\"1\" class=\"dataframe\">\n",
       "  <thead>\n",
       "    <tr style=\"text-align: right;\">\n",
       "      <th></th>\n",
       "      <th>Num Changed Files</th>\n",
       "      <th>Additions</th>\n",
       "      <th>Deletions</th>\n",
       "    </tr>\n",
       "  </thead>\n",
       "  <tbody>\n",
       "    <tr>\n",
       "      <th>count</th>\n",
       "      <td>613.00</td>\n",
       "      <td>613.00</td>\n",
       "      <td>613.00</td>\n",
       "    </tr>\n",
       "    <tr>\n",
       "      <th>mean</th>\n",
       "      <td>2.12</td>\n",
       "      <td>55.04</td>\n",
       "      <td>13.44</td>\n",
       "    </tr>\n",
       "    <tr>\n",
       "      <th>std</th>\n",
       "      <td>4.52</td>\n",
       "      <td>421.10</td>\n",
       "      <td>83.14</td>\n",
       "    </tr>\n",
       "    <tr>\n",
       "      <th>min</th>\n",
       "      <td>0.00</td>\n",
       "      <td>0.00</td>\n",
       "      <td>0.00</td>\n",
       "    </tr>\n",
       "    <tr>\n",
       "      <th>25%</th>\n",
       "      <td>1.00</td>\n",
       "      <td>2.00</td>\n",
       "      <td>1.00</td>\n",
       "    </tr>\n",
       "    <tr>\n",
       "      <th>50%</th>\n",
       "      <td>1.00</td>\n",
       "      <td>6.00</td>\n",
       "      <td>2.00</td>\n",
       "    </tr>\n",
       "    <tr>\n",
       "      <th>75%</th>\n",
       "      <td>2.00</td>\n",
       "      <td>27.00</td>\n",
       "      <td>6.00</td>\n",
       "    </tr>\n",
       "    <tr>\n",
       "      <th>max</th>\n",
       "      <td>80.00</td>\n",
       "      <td>10047.00</td>\n",
       "      <td>1623.00</td>\n",
       "    </tr>\n",
       "  </tbody>\n",
       "</table>\n",
       "</div>"
      ],
      "text/plain": [
       "       Num Changed Files  Additions  Deletions\n",
       "count             613.00     613.00     613.00\n",
       "mean                2.12      55.04      13.44\n",
       "std                 4.52     421.10      83.14\n",
       "min                 0.00       0.00       0.00\n",
       "25%                 1.00       2.00       1.00\n",
       "50%                 1.00       6.00       2.00\n",
       "75%                 2.00      27.00       6.00\n",
       "max                80.00   10047.00    1623.00"
      ]
     },
     "execution_count": 7,
     "metadata": {},
     "output_type": "execute_result"
    }
   ],
   "source": [
    "df.describe().round(decimals=2)"
   ]
  },
  {
   "cell_type": "markdown",
   "id": "5256d7d7",
   "metadata": {},
   "source": [
    "### Làm sạch và xử lí dữ liệu cột Commit Message"
   ]
  },
  {
   "cell_type": "markdown",
   "id": "86aeb8c2",
   "metadata": {},
   "source": [
    "<span style=\"color: blue;\">TÌM CÁC COMMIT MESSAGE TRÙNG LẶP<span>"
   ]
  },
  {
   "cell_type": "code",
   "execution_count": 8,
   "id": "90d98dde",
   "metadata": {
    "scrolled": true
   },
   "outputs": [
    {
     "name": "stdout",
     "output_type": "stream",
     "text": [
      "Số lượng giá trị trùng lặp trong cột 'Commit Message': 62\n",
      "Các giá trị trùng lặp trong cột 'Commit Message':\n",
      "['minor fix' 'fix bug' 'fix generator' 'fix typo'\n",
      " \"Merge remote-tracking branch 'origin/master'\" 'Update README.md'\n",
      " 'fix TF 0.12 serialization warnings' 'add code'\n",
      " 'fix variable_scope for older TF' 'update tests'\n",
      " \"Merge remote-tracking branch 'upstream/master'\" 'update docs'\n",
      " 'update installation doc' 'fix doc'\n",
      " \"Merge remote-tracking branch 'tflearn/master'\" 'python 3 compatibility'\n",
      " 'update getting_started docs']\n",
      "Các dòng có giá trị trùng lặp trong cột 'Commit Message':\n"
     ]
    },
    {
     "data": {
      "text/html": [
       "<div>\n",
       "<style scoped>\n",
       "    .dataframe tbody tr th:only-of-type {\n",
       "        vertical-align: middle;\n",
       "    }\n",
       "\n",
       "    .dataframe tbody tr th {\n",
       "        vertical-align: top;\n",
       "    }\n",
       "\n",
       "    .dataframe thead th {\n",
       "        text-align: right;\n",
       "    }\n",
       "</style>\n",
       "<table border=\"1\" class=\"dataframe\">\n",
       "  <thead>\n",
       "    <tr style=\"text-align: right;\">\n",
       "      <th></th>\n",
       "      <th>Commit ID</th>\n",
       "      <th>Commit Message</th>\n",
       "      <th>Commit Date</th>\n",
       "      <th>Changed Files</th>\n",
       "      <th>Num Changed Files</th>\n",
       "      <th>Additions</th>\n",
       "      <th>Deletions</th>\n",
       "      <th>Author Name</th>\n",
       "      <th>Author Email</th>\n",
       "    </tr>\n",
       "  </thead>\n",
       "  <tbody>\n",
       "    <tr>\n",
       "      <th>29</th>\n",
       "      <td>b2225273d26e70249621d02f5328dbbf8b9b360b</td>\n",
       "      <td>minor fix</td>\n",
       "      <td>2018-01-11 19:55:02</td>\n",
       "      <td>['tflearn/data_utils.py']</td>\n",
       "      <td>1</td>\n",
       "      <td>1</td>\n",
       "      <td>3</td>\n",
       "      <td>aymericdamien</td>\n",
       "      <td>aymeric.damien@gmail.com</td>\n",
       "    </tr>\n",
       "    <tr>\n",
       "      <th>31</th>\n",
       "      <td>83d08d1a3e6740d4867588c6570d25c8d40c850c</td>\n",
       "      <td>fix bug</td>\n",
       "      <td>2018-01-09 19:23:08</td>\n",
       "      <td>['tflearn/data_utils.py']</td>\n",
       "      <td>1</td>\n",
       "      <td>1</td>\n",
       "      <td>1</td>\n",
       "      <td>aymericdamien</td>\n",
       "      <td>aymeric.damien@gmail.com</td>\n",
       "    </tr>\n",
       "    <tr>\n",
       "      <th>49</th>\n",
       "      <td>6b05603010b9002e5ad8999fb5d54eabaa0a9fb6</td>\n",
       "      <td>fix bug</td>\n",
       "      <td>2017-07-26 22:51:53</td>\n",
       "      <td>['tflearn/layers/conv.py']</td>\n",
       "      <td>1</td>\n",
       "      <td>3</td>\n",
       "      <td>3</td>\n",
       "      <td>aymericdamien</td>\n",
       "      <td>aymeric.damien@gmail.com</td>\n",
       "    </tr>\n",
       "    <tr>\n",
       "      <th>72</th>\n",
       "      <td>21ba73d5f76288386b053cdf31513344bacf4c80</td>\n",
       "      <td>fix generator</td>\n",
       "      <td>2017-05-25 16:21:41</td>\n",
       "      <td>['tflearn/models/generator.py']</td>\n",
       "      <td>1</td>\n",
       "      <td>1</td>\n",
       "      <td>1</td>\n",
       "      <td>aymericdamien</td>\n",
       "      <td>aymeric.damien@gmail.com</td>\n",
       "    </tr>\n",
       "    <tr>\n",
       "      <th>75</th>\n",
       "      <td>fea41d468255478f8e4f734912c097bdebe5f767</td>\n",
       "      <td>fix typo</td>\n",
       "      <td>2017-05-23 18:12:53</td>\n",
       "      <td>['docs/templates/examples.md', 'examples/READM...</td>\n",
       "      <td>2</td>\n",
       "      <td>2</td>\n",
       "      <td>2</td>\n",
       "      <td>aymericdamien</td>\n",
       "      <td>aymeric.damien@gmail.com</td>\n",
       "    </tr>\n",
       "  </tbody>\n",
       "</table>\n",
       "</div>"
      ],
      "text/plain": [
       "                                   Commit ID Commit Message  \\\n",
       "29  b2225273d26e70249621d02f5328dbbf8b9b360b      minor fix   \n",
       "31  83d08d1a3e6740d4867588c6570d25c8d40c850c        fix bug   \n",
       "49  6b05603010b9002e5ad8999fb5d54eabaa0a9fb6        fix bug   \n",
       "72  21ba73d5f76288386b053cdf31513344bacf4c80  fix generator   \n",
       "75  fea41d468255478f8e4f734912c097bdebe5f767       fix typo   \n",
       "\n",
       "            Commit Date                                      Changed Files  \\\n",
       "29  2018-01-11 19:55:02                          ['tflearn/data_utils.py']   \n",
       "31  2018-01-09 19:23:08                          ['tflearn/data_utils.py']   \n",
       "49  2017-07-26 22:51:53                         ['tflearn/layers/conv.py']   \n",
       "72  2017-05-25 16:21:41                    ['tflearn/models/generator.py']   \n",
       "75  2017-05-23 18:12:53  ['docs/templates/examples.md', 'examples/READM...   \n",
       "\n",
       "    Num Changed Files  Additions  Deletions    Author Name  \\\n",
       "29                  1          1          3  aymericdamien   \n",
       "31                  1          1          1  aymericdamien   \n",
       "49                  1          3          3  aymericdamien   \n",
       "72                  1          1          1  aymericdamien   \n",
       "75                  2          2          2  aymericdamien   \n",
       "\n",
       "                Author Email  \n",
       "29  aymeric.damien@gmail.com  \n",
       "31  aymeric.damien@gmail.com  \n",
       "49  aymeric.damien@gmail.com  \n",
       "72  aymeric.damien@gmail.com  \n",
       "75  aymeric.damien@gmail.com  "
      ]
     },
     "execution_count": 8,
     "metadata": {},
     "output_type": "execute_result"
    }
   ],
   "source": [
    "#Clean cột 'Commit Message'\n",
    "#Kiểm tra các giá trị trùng lặp\n",
    "# Lọc các dòng có giá trị trùng lặp trong cột \"Commit Message\"\n",
    "duplicate_rows = df[df.duplicated(subset='Commit Message', keep=False)]\n",
    "\n",
    "# Hiển thị số lượng giá trị trùng lặp\n",
    "duplicate_count = duplicate_rows.shape[0]\n",
    "print(\"Số lượng giá trị trùng lặp trong cột 'Commit Message':\", duplicate_count)\n",
    "\n",
    "# Hiển thị các giá trị trùng lặp\n",
    "duplicate_values = duplicate_rows['Commit Message'].unique()\n",
    "print(\"Các giá trị trùng lặp trong cột 'Commit Message':\")\n",
    "print(duplicate_values)\n",
    "\n",
    "\n",
    "# Hiển thị các dòng có giá trị trùng lặp\n",
    "print(\"Các dòng có giá trị trùng lặp trong cột 'Commit Message':\")\n",
    "duplicate_rows.head()\n",
    "\n"
   ]
  },
  {
   "cell_type": "markdown",
   "id": "71944766",
   "metadata": {},
   "source": [
    "<span style=\"color: blue;\">XỬ LÍ CÁC COMMIT MESSAGE TRÙNG LẶP BẰNG CÁCH ĐÁNH SỐ<span>"
   ]
  },
  {
   "cell_type": "code",
   "execution_count": 9,
   "id": "6a8722d0",
   "metadata": {},
   "outputs": [
    {
     "data": {
      "text/html": [
       "<div>\n",
       "<style scoped>\n",
       "    .dataframe tbody tr th:only-of-type {\n",
       "        vertical-align: middle;\n",
       "    }\n",
       "\n",
       "    .dataframe tbody tr th {\n",
       "        vertical-align: top;\n",
       "    }\n",
       "\n",
       "    .dataframe thead th {\n",
       "        text-align: right;\n",
       "    }\n",
       "</style>\n",
       "<table border=\"1\" class=\"dataframe\">\n",
       "  <thead>\n",
       "    <tr style=\"text-align: right;\">\n",
       "      <th></th>\n",
       "      <th>Commit ID</th>\n",
       "      <th>Commit Message</th>\n",
       "      <th>Commit Date</th>\n",
       "      <th>Changed Files</th>\n",
       "      <th>Num Changed Files</th>\n",
       "      <th>Additions</th>\n",
       "      <th>Deletions</th>\n",
       "      <th>Author Name</th>\n",
       "      <th>Author Email</th>\n",
       "    </tr>\n",
       "  </thead>\n",
       "  <tbody>\n",
       "    <tr>\n",
       "      <th>0</th>\n",
       "      <td>db5176773299b67a2a75c5889fb2aba7fd0fea8a</td>\n",
       "      <td>fix indent</td>\n",
       "      <td>2020-11-30 04:34:51</td>\n",
       "      <td>['tflearn/activations.py', 'tflearn/objectives...</td>\n",
       "      <td>2</td>\n",
       "      <td>12</td>\n",
       "      <td>14</td>\n",
       "      <td>aymericdamien</td>\n",
       "      <td>aymeric.damien@gmail.com</td>\n",
       "    </tr>\n",
       "    <tr>\n",
       "      <th>1</th>\n",
       "      <td>0f44f97c823179d3473e6a17eaa127bdae7360d7</td>\n",
       "      <td>Adding triplet loss (#1161)\\n\\n* Added fashion...</td>\n",
       "      <td>2020-11-24 06:21:54</td>\n",
       "      <td>['tflearn/objectives.py']</td>\n",
       "      <td>1</td>\n",
       "      <td>25</td>\n",
       "      <td>0</td>\n",
       "      <td>Hemant Rakesh</td>\n",
       "      <td>basketballlife600@gmail.com</td>\n",
       "    </tr>\n",
       "    <tr>\n",
       "      <th>2</th>\n",
       "      <td>a497518b6ed0196744cca5ff4ad0a4d4329152c2</td>\n",
       "      <td>Added fashion_mnist dataset (#1160)</td>\n",
       "      <td>2020-11-14 10:41:01</td>\n",
       "      <td>['tflearn/datasets/fashion_mnist.py']</td>\n",
       "      <td>1</td>\n",
       "      <td>173</td>\n",
       "      <td>0</td>\n",
       "      <td>Hemant Rakesh</td>\n",
       "      <td>basketballlife600@gmail.com</td>\n",
       "    </tr>\n",
       "    <tr>\n",
       "      <th>3</th>\n",
       "      <td>dc31ec05aafe67081552f964ad57cc995dfc2ff6</td>\n",
       "      <td>Fix syntax warning over comparison of literals...</td>\n",
       "      <td>2020-11-11 21:09:30</td>\n",
       "      <td>['examples/nlp/lstm_generator_textfile.py', 't...</td>\n",
       "      <td>3</td>\n",
       "      <td>4</td>\n",
       "      <td>4</td>\n",
       "      <td>Karthikeyan Singaravelan</td>\n",
       "      <td>tir.karthi@gmail.com</td>\n",
       "    </tr>\n",
       "    <tr>\n",
       "      <th>4</th>\n",
       "      <td>e7148af1d97522fa4df899f57673df7f4e2680e1</td>\n",
       "      <td>merge (#1159)</td>\n",
       "      <td>2020-11-11 20:42:52</td>\n",
       "      <td>['tflearn/activations.py']</td>\n",
       "      <td>1</td>\n",
       "      <td>25</td>\n",
       "      <td>6</td>\n",
       "      <td>Aymeric Damien</td>\n",
       "      <td>aymeric.damien@gmail.com</td>\n",
       "    </tr>\n",
       "  </tbody>\n",
       "</table>\n",
       "</div>"
      ],
      "text/plain": [
       "                                  Commit ID  \\\n",
       "0  db5176773299b67a2a75c5889fb2aba7fd0fea8a   \n",
       "1  0f44f97c823179d3473e6a17eaa127bdae7360d7   \n",
       "2  a497518b6ed0196744cca5ff4ad0a4d4329152c2   \n",
       "3  dc31ec05aafe67081552f964ad57cc995dfc2ff6   \n",
       "4  e7148af1d97522fa4df899f57673df7f4e2680e1   \n",
       "\n",
       "                                      Commit Message          Commit Date  \\\n",
       "0                                         fix indent  2020-11-30 04:34:51   \n",
       "1  Adding triplet loss (#1161)\\n\\n* Added fashion...  2020-11-24 06:21:54   \n",
       "2                Added fashion_mnist dataset (#1160)  2020-11-14 10:41:01   \n",
       "3  Fix syntax warning over comparison of literals...  2020-11-11 21:09:30   \n",
       "4                                      merge (#1159)  2020-11-11 20:42:52   \n",
       "\n",
       "                                       Changed Files  Num Changed Files  \\\n",
       "0  ['tflearn/activations.py', 'tflearn/objectives...                  2   \n",
       "1                          ['tflearn/objectives.py']                  1   \n",
       "2              ['tflearn/datasets/fashion_mnist.py']                  1   \n",
       "3  ['examples/nlp/lstm_generator_textfile.py', 't...                  3   \n",
       "4                         ['tflearn/activations.py']                  1   \n",
       "\n",
       "   Additions  Deletions               Author Name                 Author Email  \n",
       "0         12         14             aymericdamien     aymeric.damien@gmail.com  \n",
       "1         25          0             Hemant Rakesh  basketballlife600@gmail.com  \n",
       "2        173          0             Hemant Rakesh  basketballlife600@gmail.com  \n",
       "3          4          4  Karthikeyan Singaravelan         tir.karthi@gmail.com  \n",
       "4         25          6            Aymeric Damien     aymeric.damien@gmail.com  "
      ]
     },
     "execution_count": 9,
     "metadata": {},
     "output_type": "execute_result"
    }
   ],
   "source": [
    "#Đánh dấu những ô có giá trị trùng lặp trong Commit Message\n",
    "# Tạo một Series chứa thông tin về việc trùng lặp\n",
    "duplicates = df['Commit Message'].duplicated(keep=False)\n",
    "\n",
    "# Đếm số lần xuất hiện của các giá trị trùng lặp\n",
    "count = 1\n",
    "\n",
    "# Duyệt qua từng hàng trong DataFrame\n",
    "for index, row in df.iterrows():\n",
    "    # Kiểm tra nếu giá trị trong cột \"Commit Message\" là giá trị trùng lặp\n",
    "    if duplicates[index]:\n",
    "        # Thêm tiền tố đánh số vào giá trị trong cột \"Commit Message\"\n",
    "        df.at[index, 'Commit Message'] = f'{count} - {row[\"Commit Message\"]}'\n",
    "        count += 1\n",
    "df.head()\n",
    "\n"
   ]
  },
  {
   "cell_type": "markdown",
   "id": "98339e63",
   "metadata": {},
   "source": [
    "### Làm sạch và xử lí dữ liệu cột Commit Date"
   ]
  },
  {
   "cell_type": "markdown",
   "id": "b66f510d",
   "metadata": {},
   "source": [
    "<span style=\"color: blue;\">CHUYỂN ĐỔI KIỂU TỪ OBJECT SANG DATE TIME<span>"
   ]
  },
  {
   "cell_type": "code",
   "execution_count": 10,
   "id": "94c29032",
   "metadata": {},
   "outputs": [],
   "source": [
    "#Clean cột 'Commit Date'\n",
    "#Chuyển đổi kiểu dữ liệu của Commit Date sang định dạng ngày tháng năm\n",
    "df['Commit Date'] = pd.to_datetime(df['Commit Date'])"
   ]
  },
  {
   "cell_type": "code",
   "execution_count": 11,
   "id": "b682bb2c",
   "metadata": {},
   "outputs": [
    {
     "name": "stdout",
     "output_type": "stream",
     "text": [
      "count                              613\n",
      "mean     2016-11-13 05:10:29.642740736\n",
      "min                2016-03-31 12:06:35\n",
      "25%                2016-05-28 06:31:12\n",
      "50%                2016-09-13 21:14:53\n",
      "75%                2017-02-16 03:15:38\n",
      "max                2020-11-30 04:34:51\n",
      "Name: Commit Date, dtype: object\n"
     ]
    }
   ],
   "source": [
    "print(df['Commit Date'].describe(datetime_is_numeric=True))"
   ]
  },
  {
   "cell_type": "markdown",
   "id": "48f0c404",
   "metadata": {},
   "source": [
    "### Làm sạch và xử lí dữ liệu cột Additions"
   ]
  },
  {
   "cell_type": "markdown",
   "id": "2a33c542",
   "metadata": {},
   "source": [
    "<span style=\"color: blue;\">LOẠI CÁC GIÁ TRỊ QUÁ LỚN HOẶC QUÁ BÉ<span>"
   ]
  },
  {
   "cell_type": "code",
   "execution_count": 12,
   "id": "4db8ac71",
   "metadata": {},
   "outputs": [],
   "source": [
    "#Clean cột'Additions'\n",
    "df= df.loc[(df['Additions'] >= df['Additions'].quantile(0.025)) & (df['Additions'] <= df['Additions'].quantile(0.975))]"
   ]
  },
  {
   "cell_type": "markdown",
   "id": "38e4c8d0",
   "metadata": {},
   "source": [
    "### Làm sạch và xử lí dữ liệu cột Deletions"
   ]
  },
  {
   "cell_type": "markdown",
   "id": "f2942849",
   "metadata": {},
   "source": [
    "<span style=\"color: blue;\">LOẠI CÁC GIÁ TRỊ QUÁ LỚN HOẶC QUÁ BÉ<span>"
   ]
  },
  {
   "cell_type": "code",
   "execution_count": 13,
   "id": "5380df15",
   "metadata": {},
   "outputs": [],
   "source": [
    "#Clean cột'Deletions'\n",
    "df= df.loc[(df['Deletions'] >= df['Deletions'].quantile(0.025)) & (df['Deletions'] <= df['Deletions'].quantile(0.975))]"
   ]
  },
  {
   "cell_type": "markdown",
   "id": "a3bc76bc",
   "metadata": {},
   "source": [
    "### Làm sạch và xử lí dữ liệu cột Num Changed Files"
   ]
  },
  {
   "cell_type": "markdown",
   "id": "e0790e3b",
   "metadata": {},
   "source": [
    "<span style=\"color: blue;\">LOẠI CÁC GIÁ TRỊ QUÁ LỚN HOẶC QUÁ BÉ<span>"
   ]
  },
  {
   "cell_type": "code",
   "execution_count": 14,
   "id": "98ac2504",
   "metadata": {},
   "outputs": [],
   "source": [
    "#Clean cột'Num Changed Files'\n",
    "df= df.loc[(df['Num Changed Files'] >= df['Num Changed Files'].quantile(0.025)) & (df['Num Changed Files'] <= df['Num Changed Files'].quantile(0.975))]"
   ]
  },
  {
   "cell_type": "markdown",
   "id": "d354e048",
   "metadata": {},
   "source": [
    "# Phân tích dữ liệu "
   ]
  },
  {
   "cell_type": "markdown",
   "id": "12404e87",
   "metadata": {},
   "source": [
    "## Phân tích cột 'Commit ID'"
   ]
  },
  {
   "cell_type": "markdown",
   "id": "a12fdc21",
   "metadata": {},
   "source": [
    "### Câu hỏi phân tích"
   ]
  },
  {
   "cell_type": "code",
   "execution_count": 15,
   "id": "bf231880",
   "metadata": {},
   "outputs": [],
   "source": [
    "#1.Có bao nhiêu commit được ghi lại trong dữ liệu?\n",
    "#2.Tìm tập hợp các tháng trong từng năm không có commit nào? Ta thấy gì về sự tăng dần hoặc giảm dần số lượng commit theo thời gian?\n",
    "#3.Tháng nào trong năm mà thường không có commit nào, tháng nào luôn có commit? \n",
    "#4.Mối quan hệ giữa số lượng submission với dữ liệu tháng và dữ liệu năm là như thế nào?\n",
    "#5.Dự đoán số lượng commit đạt được trong trong năm 2021?"
   ]
  },
  {
   "cell_type": "markdown",
   "id": "683f95f9",
   "metadata": {},
   "source": [
    "### 1.Có bao nhiêu commit được ghi lại trong dữ liệu?"
   ]
  },
  {
   "cell_type": "code",
   "execution_count": 16,
   "id": "ba0405a2",
   "metadata": {},
   "outputs": [
    {
     "name": "stdout",
     "output_type": "stream",
     "text": [
      "Số lượng commit được ghi lại trong dữ liệu: 560\n"
     ]
    }
   ],
   "source": [
    "commit_count = len(df['Commit ID'])\n",
    "print(\"Số lượng commit được ghi lại trong dữ liệu:\", commit_count)"
   ]
  },
  {
   "cell_type": "markdown",
   "id": "903a82d4",
   "metadata": {},
   "source": [
    "### 2.Tìm tập hợp các tháng trong từng năm không có commit nào? Ta thấy gì về sự tăng dần hoặc giảm dần số lượng commit theo thời gian?"
   ]
  },
  {
   "cell_type": "markdown",
   "id": "b1039791",
   "metadata": {},
   "source": [
    "<span style=\"color: blue;\">TẠO 1 DATA FRAME GỒM CỘT YEAR, MONTH, COUNT_COMMIT, DATE</span>\n"
   ]
  },
  {
   "cell_type": "code",
   "execution_count": 17,
   "id": "02562466",
   "metadata": {
    "scrolled": true
   },
   "outputs": [
    {
     "data": {
      "text/html": [
       "<div>\n",
       "<style scoped>\n",
       "    .dataframe tbody tr th:only-of-type {\n",
       "        vertical-align: middle;\n",
       "    }\n",
       "\n",
       "    .dataframe tbody tr th {\n",
       "        vertical-align: top;\n",
       "    }\n",
       "\n",
       "    .dataframe thead th {\n",
       "        text-align: right;\n",
       "    }\n",
       "</style>\n",
       "<table border=\"1\" class=\"dataframe\">\n",
       "  <thead>\n",
       "    <tr style=\"text-align: right;\">\n",
       "      <th></th>\n",
       "      <th>year</th>\n",
       "      <th>month</th>\n",
       "      <th>count_commit</th>\n",
       "      <th>date</th>\n",
       "    </tr>\n",
       "  </thead>\n",
       "  <tbody>\n",
       "    <tr>\n",
       "      <th>0</th>\n",
       "      <td>2016</td>\n",
       "      <td>3</td>\n",
       "      <td>3</td>\n",
       "      <td>3/2016</td>\n",
       "    </tr>\n",
       "    <tr>\n",
       "      <th>1</th>\n",
       "      <td>2016</td>\n",
       "      <td>4</td>\n",
       "      <td>71</td>\n",
       "      <td>4/2016</td>\n",
       "    </tr>\n",
       "    <tr>\n",
       "      <th>2</th>\n",
       "      <td>2016</td>\n",
       "      <td>5</td>\n",
       "      <td>75</td>\n",
       "      <td>5/2016</td>\n",
       "    </tr>\n",
       "    <tr>\n",
       "      <th>3</th>\n",
       "      <td>2016</td>\n",
       "      <td>6</td>\n",
       "      <td>41</td>\n",
       "      <td>6/2016</td>\n",
       "    </tr>\n",
       "    <tr>\n",
       "      <th>4</th>\n",
       "      <td>2016</td>\n",
       "      <td>7</td>\n",
       "      <td>41</td>\n",
       "      <td>7/2016</td>\n",
       "    </tr>\n",
       "  </tbody>\n",
       "</table>\n",
       "</div>"
      ],
      "text/plain": [
       "   year month  count_commit    date\n",
       "0  2016     3             3  3/2016\n",
       "1  2016     4            71  4/2016\n",
       "2  2016     5            75  5/2016\n",
       "3  2016     6            41  6/2016\n",
       "4  2016     7            41  7/2016"
      ]
     },
     "execution_count": 17,
     "metadata": {},
     "output_type": "execute_result"
    }
   ],
   "source": [
    "#Tạo 1 data frame mới có các cột day, month, year\n",
    "df_ID = pd.DataFrame()\n",
    "df_ID['Commit Date']=df['Commit Date']\n",
    "df_ID['day'] = df['Commit Date'].dt.day\n",
    "df_ID['month'] = df['Commit Date'].dt.month\n",
    "df_ID['year'] = df['Commit Date'].dt.year\n",
    "df_ID['Commit ID']=df['Commit ID']\n",
    "# Nhóm theo Year và Month và tính số lượng Commit\n",
    "df_ID = df_ID.groupby(['year', 'month']).agg({'Commit ID': ['count']})\n",
    "\n",
    "# Đổi tên cột để phản ánh ý nghĩa\n",
    "df_ID.columns = ['count_commit']\n",
    "\n",
    "# Reset index để chuyển các cột nhóm thành cột của DataFrame\n",
    "df_ID = df_ID.reset_index()\n",
    "\n",
    "# Chuyển cột 'year' và 'month' thành kiểu dữ liệu 'str'\n",
    "df_ID['year'] = df_ID['year'].astype(str)\n",
    "df_ID['month'] = df_ID['month'].astype(str)\n",
    "\n",
    "# Tạo cột 'date' từ cột 'month' và 'year'\n",
    "df_ID['date'] = df_ID['month'] + '/' + df_ID['year']\n",
    "\n",
    "df_ID.head()"
   ]
  },
  {
   "cell_type": "markdown",
   "id": "b4678637",
   "metadata": {},
   "source": [
    "<span style=\"color: blue;\">TÌM TẬP HỢP (THÁNG/NĂM) CÒN THIẾU TỪ THÁNG 3/2016 ĐẾN THÁNG 11/2020 TRONG DATA FRAME TRÊN</span>"
   ]
  },
  {
   "cell_type": "code",
   "execution_count": 18,
   "id": "832703e1",
   "metadata": {
    "scrolled": true
   },
   "outputs": [
    {
     "name": "stdout",
     "output_type": "stream",
     "text": [
      "02/2018\n",
      "04/2018\n",
      "05/2018\n",
      "02/2019\n",
      "03/2019\n",
      "04/2019\n",
      "05/2019\n",
      "06/2019\n",
      "07/2019\n",
      "08/2019\n",
      "09/2019\n",
      "10/2019\n",
      "11/2019\n",
      "12/2019\n",
      "01/2020\n",
      "02/2020\n",
      "03/2020\n",
      "04/2020\n",
      "05/2020\n",
      "06/2020\n",
      "07/2020\n",
      "08/2020\n",
      "09/2020\n",
      "10/2020\n"
     ]
    }
   ],
   "source": [
    "# Chuyển cột 'date' thành định dạng datetime\n",
    "df_ID['date'] = pd.to_datetime(df_ID['date'], format='%m/%Y')\n",
    "\n",
    "# Tìm mốc nhỏ nhất và mốc lớn nhất trong bảng dữ liệu\n",
    "min_date = df_ID['date'].min()\n",
    "max_date = df_ID['date'].max()\n",
    "\n",
    "# Tạo danh sách các tháng và năm từ mốc nhỏ nhất đến mốc lớn nhất\n",
    "date_range = pd.date_range(start=min_date, end=max_date, freq='MS')\n",
    "\n",
    "# Thay đổi định dạng của date_range từ ngày/tháng/năm sang tháng/năm\n",
    "date_range = date_range.strftime('%m/%Y')\n",
    "\n",
    "# Kiểm tra các tháng/năm còn thiếu trong bảng dữ liệu\n",
    "missing_dates = []\n",
    "for date in date_range:\n",
    "    if date not in df_ID['date'].dt.strftime('%m/%Y').values:\n",
    "        missing_dates.append(date)\n",
    "\n",
    "# In ra các tháng/năm còn thiếu\n",
    "for date in missing_dates:\n",
    "    print(date)"
   ]
  },
  {
   "cell_type": "markdown",
   "id": "c25ac496",
   "metadata": {},
   "source": [
    "<span style=\"color: blue;\">TẠO 1 DATA FRAME MỚI TỪ TẬP HỢP (THÁNG/NĂM) CÒN THIẾU TRONG DATA FRAME TRÊN </span>"
   ]
  },
  {
   "cell_type": "code",
   "execution_count": 19,
   "id": "1e75c52e",
   "metadata": {
    "scrolled": true
   },
   "outputs": [
    {
     "data": {
      "text/html": [
       "<div>\n",
       "<style scoped>\n",
       "    .dataframe tbody tr th:only-of-type {\n",
       "        vertical-align: middle;\n",
       "    }\n",
       "\n",
       "    .dataframe tbody tr th {\n",
       "        vertical-align: top;\n",
       "    }\n",
       "\n",
       "    .dataframe thead th {\n",
       "        text-align: right;\n",
       "    }\n",
       "</style>\n",
       "<table border=\"1\" class=\"dataframe\">\n",
       "  <thead>\n",
       "    <tr style=\"text-align: right;\">\n",
       "      <th></th>\n",
       "      <th>year</th>\n",
       "      <th>month</th>\n",
       "      <th>count_commit</th>\n",
       "      <th>date</th>\n",
       "    </tr>\n",
       "  </thead>\n",
       "  <tbody>\n",
       "    <tr>\n",
       "      <th>0</th>\n",
       "      <td>2018</td>\n",
       "      <td>2</td>\n",
       "      <td>0</td>\n",
       "      <td>02/2018</td>\n",
       "    </tr>\n",
       "    <tr>\n",
       "      <th>1</th>\n",
       "      <td>2018</td>\n",
       "      <td>4</td>\n",
       "      <td>0</td>\n",
       "      <td>04/2018</td>\n",
       "    </tr>\n",
       "    <tr>\n",
       "      <th>2</th>\n",
       "      <td>2018</td>\n",
       "      <td>5</td>\n",
       "      <td>0</td>\n",
       "      <td>05/2018</td>\n",
       "    </tr>\n",
       "    <tr>\n",
       "      <th>3</th>\n",
       "      <td>2019</td>\n",
       "      <td>2</td>\n",
       "      <td>0</td>\n",
       "      <td>02/2019</td>\n",
       "    </tr>\n",
       "    <tr>\n",
       "      <th>4</th>\n",
       "      <td>2019</td>\n",
       "      <td>3</td>\n",
       "      <td>0</td>\n",
       "      <td>03/2019</td>\n",
       "    </tr>\n",
       "  </tbody>\n",
       "</table>\n",
       "</div>"
      ],
      "text/plain": [
       "   year  month  count_commit     date\n",
       "0  2018      2             0  02/2018\n",
       "1  2018      4             0  04/2018\n",
       "2  2018      5             0  05/2018\n",
       "3  2019      2             0  02/2019\n",
       "4  2019      3             0  03/2019"
      ]
     },
     "execution_count": 19,
     "metadata": {},
     "output_type": "execute_result"
    }
   ],
   "source": [
    "\n",
    "# Tạo DataFrame mới\n",
    "df_missing = pd.DataFrame()\n",
    "df_missing['year'] = [int(date.split('/')[1]) for date in missing_dates]\n",
    "df_missing['month'] = [int(date.split('/')[0]) for date in missing_dates]\n",
    "df_missing['count_commit'] = 0\n",
    "df_missing['date'] = pd.to_datetime(missing_dates, format='%m/%Y')\n",
    "df_missing['date'] = df_missing['date'].dt.strftime('%m/%Y')\n",
    "df_missing.head()"
   ]
  },
  {
   "cell_type": "markdown",
   "id": "7fe95bc1",
   "metadata": {},
   "source": [
    "<span style=\"color: blue;\">GHÉP 2 DATA FRAME LẠI VỚI NHAU VÀ SẮP XẾP</span>"
   ]
  },
  {
   "cell_type": "code",
   "execution_count": 20,
   "id": "e9dae77a",
   "metadata": {
    "scrolled": true
   },
   "outputs": [
    {
     "data": {
      "text/html": [
       "<div>\n",
       "<style scoped>\n",
       "    .dataframe tbody tr th:only-of-type {\n",
       "        vertical-align: middle;\n",
       "    }\n",
       "\n",
       "    .dataframe tbody tr th {\n",
       "        vertical-align: top;\n",
       "    }\n",
       "\n",
       "    .dataframe thead th {\n",
       "        text-align: right;\n",
       "    }\n",
       "</style>\n",
       "<table border=\"1\" class=\"dataframe\">\n",
       "  <thead>\n",
       "    <tr style=\"text-align: right;\">\n",
       "      <th></th>\n",
       "      <th>year</th>\n",
       "      <th>month</th>\n",
       "      <th>count_commit</th>\n",
       "      <th>date</th>\n",
       "    </tr>\n",
       "  </thead>\n",
       "  <tbody>\n",
       "    <tr>\n",
       "      <th>0</th>\n",
       "      <td>2016</td>\n",
       "      <td>3</td>\n",
       "      <td>3</td>\n",
       "      <td>2016-03-01</td>\n",
       "    </tr>\n",
       "    <tr>\n",
       "      <th>1</th>\n",
       "      <td>2016</td>\n",
       "      <td>4</td>\n",
       "      <td>71</td>\n",
       "      <td>2016-04-01</td>\n",
       "    </tr>\n",
       "    <tr>\n",
       "      <th>2</th>\n",
       "      <td>2016</td>\n",
       "      <td>5</td>\n",
       "      <td>75</td>\n",
       "      <td>2016-05-01</td>\n",
       "    </tr>\n",
       "    <tr>\n",
       "      <th>3</th>\n",
       "      <td>2016</td>\n",
       "      <td>6</td>\n",
       "      <td>41</td>\n",
       "      <td>2016-06-01</td>\n",
       "    </tr>\n",
       "    <tr>\n",
       "      <th>4</th>\n",
       "      <td>2016</td>\n",
       "      <td>7</td>\n",
       "      <td>41</td>\n",
       "      <td>2016-07-01</td>\n",
       "    </tr>\n",
       "  </tbody>\n",
       "</table>\n",
       "</div>"
      ],
      "text/plain": [
       "   year month  count_commit       date\n",
       "0  2016     3             3 2016-03-01\n",
       "1  2016     4            71 2016-04-01\n",
       "2  2016     5            75 2016-05-01\n",
       "3  2016     6            41 2016-06-01\n",
       "4  2016     7            41 2016-07-01"
      ]
     },
     "execution_count": 20,
     "metadata": {},
     "output_type": "execute_result"
    }
   ],
   "source": [
    "df_ID = pd.concat([df_ID, df_missing], ignore_index=True)\n",
    "df_ID['date'] = pd.to_datetime(df_ID['date'])\n",
    "df_ID = df_ID.sort_values('date').reset_index(drop=True)\n",
    "df_ID.head()"
   ]
  },
  {
   "cell_type": "markdown",
   "id": "b75cb655",
   "metadata": {},
   "source": [
    "<span style=\"color: blue;\">TẠO BIỂU ĐỒ SỐ LƯỢNG COMMIT THEO THỜI GIAN TẠO COMMIT ĐỂ KIỂM TRA XU HƯỚNG TĂNG/GIẢM SỐ LƯỢNG CỦA COMMIT THEO THỜI GIAN</span>"
   ]
  },
  {
   "cell_type": "code",
   "execution_count": 21,
   "id": "929accf2",
   "metadata": {},
   "outputs": [
    {
     "data": {
      "image/png": "[encoded data removed]",
      "text/plain": [
       "<Figure size 1200x600 with 1 Axes>"
      ]
     },
     "metadata": {},
     "output_type": "display_data"
    }
   ],
   "source": [
    "#Tạo biểu đồ \"Số lượng Commit\" theo thời gian tạo commit để kiểm tra xu hướng tăng/giảm số lượng của commit theo thời gian.\n",
    "df_ID1=df_ID.copy()\n",
    "df_ID1['year'] = df_ID1['year'].astype(str)\n",
    "df_ID1['month'] = df_ID1['month'].astype(str)\n",
    "\n",
    "# Tạo cột 'date' từ cột 'month' và 'year'\n",
    "df_ID1['date']=df_ID1['date'].dt.strftime('%m/%Y')\n",
    "\n",
    "# Vẽ biểu đồ line plot\n",
    "plt.figure(figsize=(12, 6))\n",
    "plt.plot(df_ID1['date'], df_ID1['count_commit'], marker='o',linestyle='-', color='red', markerfacecolor='b', markersize=5, label='Đường nối các điểm ')\n",
    "plt.xlabel('Tháng/Năm')\n",
    "plt.ylabel('Số lượng commit')\n",
    "plt.title('Biểu đồ line plot của số lượng commit theo tháng/năm')\n",
    "plt.xticks(rotation=90)\n",
    "plt.legend()\n",
    "plt.grid(True)\n",
    "plt.savefig('1.png')\n",
    "plt.show()"
   ]
  },
  {
   "cell_type": "markdown",
   "id": "02970216",
   "metadata": {},
   "source": [
    "<span style=\"color: blue;\">NHẬN XÉT BIỂU ĐỒ</span>"
   ]
  },
  {
   "cell_type": "code",
   "execution_count": 22,
   "id": "34f6eff5",
   "metadata": {},
   "outputs": [],
   "source": [
    "#Biểu đồ này biểu thị số lượng commit trong mỗi tháng từ tháng 3/2016 đến tháng 11/2020.\n",
    "#1)Xu hướng chung:Từ tháng 3/2016 đến tháng 5/2016, số lượng commit tăng rất mạnh. Từ tháng 5/2016 đến tháng 11/2020, số lượng commit theo từng tháng giảm rất nhanh. Đặc biệt từ tháng 2/2019 trở đi, số lượng commit chạm về đáy 0.\n",
    "\n",
    "#2)Biến động: Có sự biến động nhất định trong dữ liệu. Đặc biệt là từ tháng 3/2016 đến 4/2016 số lượng commit tăng rất mạnh.\n",
    "\n",
    "#3)Điểm nổi bật: Có 2 điểm nổi bật trong dữ liệu. Đầu tiên, từ tháng 3/2016 đến tháng 4/2016, số lượng commit tăng đột biến, từ đây ta có thể thấy tháng 3/2016 repository mới tạo nên chưa được chú ý nhiều, đến tháng 4/2016 số lượng commit tăng đột biến có thể là do reposity này là một chủ đề hot vào thời điểm đó. Thứ hai, bắt đầu từ tháng 5/2016 trở đi, số lượng commit giảm mạnh có thể là do chủ đề đã giảm dần độ hot.\n"
   ]
  },
  {
   "cell_type": "markdown",
   "id": "7f56f471",
   "metadata": {},
   "source": [
    "### 3.Tháng nào trong năm mà thường không có commit nào, tháng nào luôn có commit? "
   ]
  },
  {
   "cell_type": "markdown",
   "id": "08b78463",
   "metadata": {},
   "source": [
    "<span style=\"color: blue;\">LẬP DATA FRAME GỒM 2 CỘT MONTH VÀ COUNT TRONG ĐÓ COUNT ĐẾM TẦN SUẤT TẠI THÁNG ĐÓ MÀ KHÔNG CÓ COMMIT TÍNH THỜI GIAN TỪ THÁNG 3/2016 ĐẾN 11/2020</span>"
   ]
  },
  {
   "cell_type": "code",
   "execution_count": 23,
   "id": "2365d283",
   "metadata": {
    "scrolled": true
   },
   "outputs": [
    {
     "data": {
      "text/html": [
       "<div>\n",
       "<style scoped>\n",
       "    .dataframe tbody tr th:only-of-type {\n",
       "        vertical-align: middle;\n",
       "    }\n",
       "\n",
       "    .dataframe tbody tr th {\n",
       "        vertical-align: top;\n",
       "    }\n",
       "\n",
       "    .dataframe thead th {\n",
       "        text-align: right;\n",
       "    }\n",
       "</style>\n",
       "<table border=\"1\" class=\"dataframe\">\n",
       "  <thead>\n",
       "    <tr style=\"text-align: right;\">\n",
       "      <th></th>\n",
       "      <th>month</th>\n",
       "      <th>count</th>\n",
       "    </tr>\n",
       "  </thead>\n",
       "  <tbody>\n",
       "    <tr>\n",
       "      <th>0</th>\n",
       "      <td>1</td>\n",
       "      <td>1</td>\n",
       "    </tr>\n",
       "    <tr>\n",
       "      <th>1</th>\n",
       "      <td>2</td>\n",
       "      <td>3</td>\n",
       "    </tr>\n",
       "    <tr>\n",
       "      <th>2</th>\n",
       "      <td>3</td>\n",
       "      <td>2</td>\n",
       "    </tr>\n",
       "    <tr>\n",
       "      <th>3</th>\n",
       "      <td>4</td>\n",
       "      <td>3</td>\n",
       "    </tr>\n",
       "    <tr>\n",
       "      <th>4</th>\n",
       "      <td>5</td>\n",
       "      <td>3</td>\n",
       "    </tr>\n",
       "  </tbody>\n",
       "</table>\n",
       "</div>"
      ],
      "text/plain": [
       "   month  count\n",
       "0      1      1\n",
       "1      2      3\n",
       "2      3      2\n",
       "3      4      3\n",
       "4      5      3"
      ]
     },
     "execution_count": 23,
     "metadata": {},
     "output_type": "execute_result"
    }
   ],
   "source": [
    "# Đếm số lần xuất hiện của mỗi tháng\n",
    "count_df = df_missing['month'].value_counts().reset_index()\n",
    "\n",
    "# Sắp xếp lại theo tháng từ 1 đến 12\n",
    "count_df = count_df.sort_values('index')\n",
    "\n",
    "# Tạo DataFrame mới gồm 2 cột 'month' và 'count'\n",
    "new_df = pd.DataFrame({'month': count_df['index'], 'count': count_df['month']})\n",
    "\n",
    "\n",
    "new_df = new_df.sort_values('month').reset_index(drop=True)\n",
    "new_df.head()"
   ]
  },
  {
   "cell_type": "markdown",
   "id": "0725be80",
   "metadata": {},
   "source": [
    "<span style=\"color: blue;\">VẼ BIỂU ĐỒ CỘT CHO DATA FRAME TRÊN</span>"
   ]
  },
  {
   "cell_type": "code",
   "execution_count": 24,
   "id": "c29811e6",
   "metadata": {},
   "outputs": [
    {
     "data": {
      "image/png": "[encoded data removed]",
      "text/plain": [
       "<Figure size 1000x600 with 1 Axes>"
      ]
     },
     "metadata": {},
     "output_type": "display_data"
    }
   ],
   "source": [
    "\n",
    "#Vẽ biểu đồ cột chồng\n",
    "new_df['month'] = new_df['month'].replace({1: 'Jan', 2: 'Feb', 3: 'Mar', 4: 'Apr', 5: 'May', 6: 'Jun', 7: 'Jul', 8: 'Aug', 9: 'Sep', 10: 'Oct', 11: 'Nov', 12: 'Dec'})\n",
    "\n",
    "sns.set(style=\"darkgrid\")\n",
    "plt.figure(figsize=(10,6))\n",
    "\n",
    "# Vẽ biểu đồ cột cho cột \n",
    "plt.bar(new_df['month'], new_df['count'], alpha=1, label='Tần suất tháng đó không có commit')\n",
    "\n",
    "\n",
    "plt.xlabel('Tháng')\n",
    "plt.ylabel('Số lượng')\n",
    "plt.title('Biểu đồ thể hiện tần suất mà tại tháng đó không có commit nào theo thời gian từ tháng 3/2016 đến 11/2020 ')\n",
    "plt.xticks(new_df['month'])\n",
    "plt.legend()\n",
    "plt.savefig('2.png')\n",
    "plt.show()\n",
    "\n",
    "\n",
    "\n",
    "\n",
    "\n",
    "\n"
   ]
  },
  {
   "cell_type": "markdown",
   "id": "780900bb",
   "metadata": {},
   "source": [
    "<span style=\"color: blue;\">NHẬN XÉT BIỂU ĐỒ</span>"
   ]
  },
  {
   "cell_type": "code",
   "execution_count": 25,
   "id": "597adceb",
   "metadata": {},
   "outputs": [],
   "source": [
    "#Biểu đồ này biểu thị chu kì không có commit của các tháng 1 tới tháng 12, xét trong khoảng thời gian từ tháng 3/2016 đến 11/2020(ví dụ xét tháng 1/2016,1/2017, 1/2018, 1/2019, 1/2020 có bao nhiêu tháng 1 không có commit)\n",
    "\n",
    "#1)Độ cao của các cột: Các tháng 1, 11, 12 có độ cao thấp nhất là 1; các tháng 2, 3, 6, 7, 8, 9, 10 có độ cao là 2; các tháng 4,5 có độ cao cao nhất là 3\n",
    "\n",
    "#2)Sự thay đổi theo thời gian: Độ cao cột tăng từ tháng 1 trở đi và đạt đỉnh vào tháng 4, 5, từ tháng 5 trở đi độ cao các cột giảm dần và thấp nhất vào tháng 11, tháng 12. Kết hợp với biểu đồ biểu thị số lượng commit trong mỗi tháng từ tháng 3/2016 đến tháng 11/2020, ta có thể dự đoán nguyên nhân là do chủ đề repository chỉ hot trong 2 năm đầu là năm 2016, 2017 trong khoảng thời gian từ năm 2016 đến năm 2020 nên từ đó tại mỗi tháng chỉ có 3 lần tối đa tại tháng đó mà không có commit. Bắt đầu từ năm 2018 trở đi, có 1 số tháng có commit số lượng commit là rất ít.\n",
    "\n",
    "#Từ đó dựa vào biểu đồ, ta chưa thấy quan hệ giữa chu kì các tháng trong năm với thói quen commit của người dùng\n"
   ]
  },
  {
   "cell_type": "markdown",
   "id": "d7352d29",
   "metadata": {},
   "source": [
    "### 4.Mối quan hệ giữa số lượng submission với dữ liệu tháng và dữ liệu năm là như thế nào?"
   ]
  },
  {
   "cell_type": "markdown",
   "id": "f24b34f4",
   "metadata": {},
   "source": [
    "<span style=\"color: blue;\">VẼ BIỂU ĐỒ CỘT THỂ HIỆN SỐ COMMIT TỪ THÁNG 1 ĐẾN THÁNG 12 QUA CÁC NĂM<span>"
   ]
  },
  {
   "cell_type": "code",
   "execution_count": 26,
   "id": "445d081d",
   "metadata": {
    "scrolled": false
   },
   "outputs": [
    {
     "data": {
      "image/png": "[encoded data removed]",
      "text/plain": [
       "<Figure size 640x480 with 1 Axes>"
      ]
     },
     "metadata": {},
     "output_type": "display_data"
    }
   ],
   "source": [
    "df_ID['year']=df_ID['year'].astype(int)\n",
    "df_ID['month']=df_ID['month'].astype(int)\n",
    "years = df_ID['year'].unique()\n",
    "month_labels = ['Jan', 'Feb', 'Mar', 'Apr', 'May', 'Jun', 'Jul', 'Aug', 'Sep', 'Oct', 'Nov', 'Dec']\n",
    "colors = ['blue', 'green', 'red', 'orange', 'purple'] # Màu sắc cho các năm\n",
    "\n",
    "# Tìm các tháng có dữ liệu\n",
    "available_months = df_ID['month'].unique()\n",
    "\n",
    "# Tạo mảng x với các giá trị tháng từ 1 đến 12\n",
    "x = np.arange(1, 13)\n",
    "\n",
    "# Chỉ lấy các nhãn tháng có dữ liệu\n",
    "available_month_labels = [month_labels[i-1] for i in available_months]\n",
    "\n",
    "# Khởi tạo mảng bottom ban đầu\n",
    "bottom = np.zeros(len(available_months))\n",
    "\n",
    "# Vẽ stacked bar chart\n",
    "for i, year in enumerate(years):\n",
    "    data_year = df_ID[df_ID['year'] == year]\n",
    "    height = np.zeros(len(available_months))\n",
    "    for j, month in enumerate(available_months):\n",
    "        month_data = data_year[data_year['month'] == month]\n",
    "        if len(month_data) > 0:\n",
    "            height[j] = month_data['count_commit'].values[0]\n",
    "    plt.ylim(0, 100)\n",
    "    plt.bar(available_months, height, bottom=bottom, label=f'Năm {year}', color=colors[i % len(colors)])\n",
    "    bottom += height # Cập nhật giá trị bottom cho cột chồng tiếp theo\n",
    "\n",
    "# Đặt nhãn cho trục x và y\n",
    "plt.xlabel('Tháng')\n",
    "plt.ylabel('Số lượng commit theo tháng')\n",
    "plt.title('Biểu đồ thể hiện số lượng commit từ tháng 1 đến tháng 12 qua các năm')\n",
    "plt.xticks(available_months, available_month_labels) # Chỉ hiển thị nhãn tháng có dữ liệu\n",
    "plt.legend()\n",
    "plt.savefig('3.png')\n",
    "# Hiển thị đồ thị\n",
    "plt.show()\n"
   ]
  },
  {
   "cell_type": "markdown",
   "id": "3e11357e",
   "metadata": {},
   "source": [
    "<span style=\"color: blue;\">NHẬN XÉT BIỂU ĐỒ</span>"
   ]
  },
  {
   "cell_type": "code",
   "execution_count": 27,
   "id": "e9ad6612",
   "metadata": {},
   "outputs": [],
   "source": [
    "#Biểu đồ này tính số lượng commit từ tháng 1 đến tháng 12, xét từ tháng 3/2016 đến 11/2020\n",
    "\n",
    "#1)Độ cao cột chồng: Độ cao mỗi cột trong biểu đồ tăng dần từ tháng 1, đạt độ cao lớn nhất tại tháng 4, tháng 5 và giảm dần về tháng từ tháng 5 trở đi\n",
    "\n",
    "#2)Tỉ lệ giữa các năm trong cột: màu xanh biển của năm 2016 có xu hướng tỷ lệ cao nhất, tỷ lệ màu có xu hướng giảm dần từ năm 2017, 2018, 2019 và cuối cùng tỷ lệ của cột 2020 là ít nhất\n",
    "\n",
    "#3)Thay đổi theo thời gian: Qua biểu đồ cột chồng, ta nhận thấy quy luật: \n",
    "# +với yếu tố tháng, độ dài cột tăng từ tháng 1 và đạt đỉnh tháng 4 và 5, từ tháng 5 độ dài giảm dần\n",
    "# +với yếu tố năm, tỷ lệ màu giảm dần theo thứ tự năm 2016, 2017, 2018, 2019, 2020.\n",
    "\n",
    "#Ta có thể dự đoán quy luật trên có thể có 2 lý do:\n",
    "# +Với yếu tố tháng có thể là từ tháng 4 đến tháng 8 rơi vào mùa hè, mùa du lịch, sinh viên và nhiều người có thể có thời gian để trau dồi kiến thức và tìm hiểu thêm nhiều khóa học, vấn đề. \n",
    "# +Với yếu tố năm có thể là do năm 2016, 2017, vấn đề mới được đưa ra và rất nhiều người tò mò, đóng góp các commit, vấn đề giảm dần độ hot từ năm 2018 trở đi.\n",
    "\n"
   ]
  },
  {
   "cell_type": "markdown",
   "id": "329abe6d",
   "metadata": {},
   "source": [
    "<span style=\"color: blue;\">VẼ BIỂU ĐỒ LINE PLOT<span>"
   ]
  },
  {
   "cell_type": "code",
   "execution_count": 28,
   "id": "7924dadc",
   "metadata": {},
   "outputs": [
    {
     "data": {
      "image/png": "[encoded data removed]",
      "text/plain": [
       "<Figure size 640x480 with 1 Axes>"
      ]
     },
     "metadata": {},
     "output_type": "display_data"
    }
   ],
   "source": [
    "years = [2016, 2017, 2018, 2019, 2020]\n",
    "# Tính tổng số commit theo năm\n",
    "commit_by_year = df_ID.groupby('year')['count_commit'].sum().reset_index()\n",
    "\n",
    "# Vẽ biểu đồ line plot\n",
    "plt.plot(commit_by_year['year'], commit_by_year['count_commit'],marker='o', color='orange',label='Đường biểu diễn sự tăng giảm commit qua các năm')\n",
    "plt.xlabel('Year')\n",
    "plt.ylabel('Total Commit')\n",
    "plt.title('Total Commit by Year')\n",
    "plt.legend()\n",
    "plt.grid(True)\n",
    "\n",
    "# Chỉnh lại trục Ox\n",
    "plt.xticks(commit_by_year['year'], years)\n",
    "plt.savefig('4.png')\n",
    "plt.show()"
   ]
  },
  {
   "cell_type": "markdown",
   "id": "4f75455d",
   "metadata": {},
   "source": [
    "<span style=\"color: blue;\">NHẬN XÉT BIỂU ĐỒ</span>"
   ]
  },
  {
   "cell_type": "code",
   "execution_count": 29,
   "id": "f761c4b8",
   "metadata": {},
   "outputs": [],
   "source": [
    "#Biểu đồ này biểu thị số lượng commit từ năm 2016 đến năm 2020\n",
    "\n",
    "#1)Xu hướng chung: Số lượng commit giảm nhanh từ năm 2016 trở đi.\n",
    "\n",
    "#2)Biến động: Đồ thị hầu như không có biến động.\n",
    "\n",
    "#Ta có thể dự đoán nguyên nhân số lượng commit giảm nhanh từ năm 2016 trở đi là do repository giảm dần độ hot qua các năm. \n"
   ]
  },
  {
   "cell_type": "markdown",
   "id": "c1b0749f",
   "metadata": {},
   "source": [
    "### 5.Dự đoán số lượng commit đạt được trong trong năm 2021?"
   ]
  },
  {
   "cell_type": "markdown",
   "id": "cd6cfbbb",
   "metadata": {},
   "source": [
    "<span style=\"color: blue;\">DÙNG MÔ HÌNH LINEAR REGRESSION VÀ VẼ BIỂU ĐỒ<span>"
   ]
  },
  {
   "cell_type": "code",
   "execution_count": 30,
   "id": "885ad02f",
   "metadata": {
    "scrolled": false
   },
   "outputs": [
    {
     "name": "stderr",
     "output_type": "stream",
     "text": [
      "C:\\Users\\ASUS\\miniconda3\\envs\\cuongnm\\lib\\site-packages\\sklearn\\base.py:439: UserWarning: X does not have valid feature names, but LinearRegression was fitted with feature names\n",
      "  warnings.warn(\n",
      "C:\\Users\\ASUS\\miniconda3\\envs\\cuongnm\\lib\\site-packages\\sklearn\\base.py:439: UserWarning: X does not have valid feature names, but LinearRegression was fitted with feature names\n",
      "  warnings.warn(\n"
     ]
    },
    {
     "data": {
      "image/png": "[encoded data removed]",
      "text/plain": [
       "<Figure size 640x480 with 1 Axes>"
      ]
     },
     "metadata": {},
     "output_type": "display_data"
    }
   ],
   "source": [
    "\n",
    "years = [2016, 2017, 2018, 2019, 2020, 2021]  # Bổ sung năm 2021 vào danh sách các năm\n",
    "\n",
    "# Tính tổng số commit theo năm\n",
    "commit_by_year = df_ID.groupby('year')['count_commit'].sum().reset_index()\n",
    "\n",
    "# Lấy dữ liệu từ năm 2020 và 2019\n",
    "data = commit_by_year[commit_by_year['year'].isin([2020, 2019])]\n",
    "\n",
    "# Tạo mô hình linear regression\n",
    "regression_model = LinearRegression()\n",
    "regression_model.fit(data[['year']], data['count_commit'])\n",
    "\n",
    "# Dự đoán số commit cho năm 2021\n",
    "predicted_commit_2021 = regression_model.predict([[2021]])\n",
    "\n",
    "# Vẽ biểu đồ line plot\n",
    "plt.plot(commit_by_year['year'], commit_by_year['count_commit'], marker='o', color='orange', label='Đường biểu diễn sự tăng giảm commit qua các năm')\n",
    "plt.xlabel('Year')\n",
    "plt.ylabel('Total Commit')\n",
    "plt.title('Total Commit by Year')\n",
    "plt.legend()\n",
    "plt.grid(True)\n",
    "\n",
    "# Chỉnh lại trục Ox\n",
    "plt.xticks(years)  # Sử dụng years làm nhãn trên trục x\n",
    "\n",
    "# Vẽ linear regression line từ năm 2020 và 2019\n",
    "x_regression = np.array([[2020], [2021]])\n",
    "y_regression = regression_model.predict(x_regression)\n",
    "plt.plot(x_regression, y_regression, marker='o', color='red', label='Dự đoán commit năm 2021 từ 2020 và 2019')\n",
    "plt.legend()\n",
    "plt.savefig('5.png')\n",
    "plt.show()"
   ]
  },
  {
   "cell_type": "markdown",
   "id": "8b38497a",
   "metadata": {},
   "source": [
    "<span style=\"color: blue;\">NHẬN XÉT BIỂU ĐỒ</span>"
   ]
  },
  {
   "cell_type": "code",
   "execution_count": 31,
   "id": "8d0c7f1d",
   "metadata": {},
   "outputs": [],
   "source": [
    "#Biểu đồ này biểu thị số lượng commit từ năm 2016 đến năm 2020 và dự đoán số lượng commit năm 2021 qua sự biến động từ năm 2019 đến năm 2020\n",
    "\n",
    "#1)Số lượng commit dự đoán năm 2021 tăng nhẹ so với năm 2020\n"
   ]
  },
  {
   "cell_type": "markdown",
   "id": "b35b6d65",
   "metadata": {},
   "source": [
    "## Phân tích cột 'Commit message'"
   ]
  },
  {
   "cell_type": "markdown",
   "id": "727b06d6",
   "metadata": {},
   "source": [
    "### Câu hỏi phân tích"
   ]
  },
  {
   "cell_type": "code",
   "execution_count": 32,
   "id": "dbddc0cc",
   "metadata": {},
   "outputs": [],
   "source": [
    "#1.Tần suất xuất hiện của mỗi từ trong cột 'Commit mesage' là bao nhiêu? Có bao nhiêu từ có tần suất xuất hiện giống nhau?\n",
    "#2. Khi các động từ (fix, merge, update, pull, add, added, fixed) xuất hiện thì có ảnh hưởng số dòng thêm, bớt và số lượng tệp tin thay đổi không?\n",
    "#3.Trong các từ (fix, merge, update, pull, add, added, fixed) từ nào có tỉ lệ mà khi xuất hiện trong Commit Message số dòng thêm là lớn nhất? Từ nào có tỉ lệ mà khi xuất hiện số dòng xóa là lớn nhất? Từ nào có tỉ lệ mà khi xuất hiện số tập tin thay đổi là nhiều nhất?\n",
    "#4.Commit Message nào dài nhất, ngắn nhất? \n",
    "#5.Commit Message trong cả bảng dữ liệu có số lượng dòng thêm, bớt và số lượng tệp tin thay đổi nhiều nhất và nhỏ nhất là Commit Message nào?\n",
    "#6.Chủ đề commit thường là chủ đề gì? "
   ]
  },
  {
   "cell_type": "markdown",
   "id": "51e55b7d",
   "metadata": {},
   "source": [
    "### 1.Tần suất xuất hiện của mỗi từ trong cột 'Commit mesage' là bao nhiêu? Có bao nhiêu từ có tần suất xuất hiện giống nhau?"
   ]
  },
  {
   "cell_type": "markdown",
   "id": "c76843e4",
   "metadata": {},
   "source": [
    "<span style=\"color: blue;\">LẬP DATAFRAME THỂ HIỆN TẦN SUẤT XUẤT HIỆN CỦA MỖI TỪ TRONG CỘT COMMIT MESSAGE<span>"
   ]
  },
  {
   "cell_type": "code",
   "execution_count": 33,
   "id": "86220df8",
   "metadata": {},
   "outputs": [],
   "source": [
    "# Tạo một từ điển để lưu trữ số lần xuất hiện của các từ\n",
    "word_counts = {}\n",
    "\n",
    "# Duyệt qua từng hàng trong DataFrame\n",
    "for index, row in df.iterrows():\n",
    "    # Lấy nội dung của cột 'Commit message'\n",
    "    commit_message = row['Commit Message']\n",
    "    \n",
    "    # Chuyển đổi nội dung về chữ thường (hoặc chữ hoa)\n",
    "    commit_message = commit_message.lower()\n",
    "    \n",
    "    # Tách nội dung thành các từ riêng biệt\n",
    "    words = commit_message.split()\n",
    "    \n",
    "    # Duyệt qua từng từ và tăng giá trị tương ứng trong từ điển\n",
    "    for word in words:\n",
    "        if word in word_counts:\n",
    "            word_counts[word] += 1\n",
    "        else:\n",
    "            word_counts[word] = 1\n",
    "\n",
    "\n"
   ]
  },
  {
   "cell_type": "code",
   "execution_count": 34,
   "id": "c2eb9ecb",
   "metadata": {
    "scrolled": true
   },
   "outputs": [
    {
     "data": {
      "text/html": [
       "<div>\n",
       "<style scoped>\n",
       "    .dataframe tbody tr th:only-of-type {\n",
       "        vertical-align: middle;\n",
       "    }\n",
       "\n",
       "    .dataframe tbody tr th {\n",
       "        vertical-align: top;\n",
       "    }\n",
       "\n",
       "    .dataframe thead th {\n",
       "        text-align: right;\n",
       "    }\n",
       "</style>\n",
       "<table border=\"1\" class=\"dataframe\">\n",
       "  <thead>\n",
       "    <tr style=\"text-align: right;\">\n",
       "      <th></th>\n",
       "      <th>Word</th>\n",
       "      <th>Count</th>\n",
       "    </tr>\n",
       "  </thead>\n",
       "  <tbody>\n",
       "    <tr>\n",
       "      <th>0</th>\n",
       "      <td>string's</td>\n",
       "      <td>1</td>\n",
       "    </tr>\n",
       "    <tr>\n",
       "      <th>1</th>\n",
       "      <td>finetuning_vgg</td>\n",
       "      <td>1</td>\n",
       "    </tr>\n",
       "    <tr>\n",
       "      <th>2</th>\n",
       "      <td>(#332)</td>\n",
       "      <td>1</td>\n",
       "    </tr>\n",
       "    <tr>\n",
       "      <th>3</th>\n",
       "      <td>vgg.tflearn</td>\n",
       "      <td>1</td>\n",
       "    </tr>\n",
       "    <tr>\n",
       "      <th>4</th>\n",
       "      <td>revised</td>\n",
       "      <td>1</td>\n",
       "    </tr>\n",
       "  </tbody>\n",
       "</table>\n",
       "</div>"
      ],
      "text/plain": [
       "             Word  Count\n",
       "0        string's      1\n",
       "1  finetuning_vgg      1\n",
       "2          (#332)      1\n",
       "3     vgg.tflearn      1\n",
       "4         revised      1"
      ]
     },
     "execution_count": 34,
     "metadata": {},
     "output_type": "execute_result"
    }
   ],
   "source": [
    "# Tạo danh sách các từ xuất hiện và số lần xuất hiện\n",
    "word_list = []\n",
    "count_list = []\n",
    "\n",
    "# Duyệt qua từ điển word_counts\n",
    "for word, count in word_counts.items():\n",
    "    word_list.append(word)\n",
    "    count_list.append(count)\n",
    "\n",
    "# Tạo DataFrame từ danh sách các từ và số lần xuất hiện\n",
    "data = {'Word': word_list, 'Count': count_list}\n",
    "df_word_counts = pd.DataFrame(data)\n",
    "df_word_counts = df_word_counts.sort_values('Count').reset_index(drop=True)\n",
    "\n",
    "# In DataFrame\n",
    "df_word_counts.head()"
   ]
  },
  {
   "cell_type": "markdown",
   "id": "56a11285",
   "metadata": {},
   "source": [
    "<span style=\"color: blue;\">NHẬN XÉT DATA FRAME TRÊN<span>\n",
    "    "
   ]
  },
  {
   "cell_type": "code",
   "execution_count": 35,
   "id": "3896d968",
   "metadata": {},
   "outputs": [],
   "source": [
    "#1)Các từ \"fix\", \"update\", \"request\", \"pull\", \"merge\", \"fixing\", \"bug\" và \"error\" xuất hiện nhiều lần trong cột \"Word\". Điều này có thể cho thấy rằng có sự chú trọng vào việc sửa lỗi và cải thiện trong tài liệu và mã nguồn.\n",
    "\n",
    "#2)Các từ như \"python\", \"tf\" (có thể là TensorFlow), \"function\", \"layer\" và \"validation\" xuất hiện trong cột \"Word\". Điều này cho thấy rằng commit thường liên quan các hàm, lớp, Python và TensorFlow.\n",
    "\n",
    "#3)Các từ phổ biến khác: Các từ như \"support\", \"branch\", \"issue\", \"remote-tracking\", \"default\", \"validation\" và \"dataset\" xuất hiện trong cột \"Word\". Điều này có thể cho thấy rằng có sự quan tâm đến việc hỗ trợ, xử lý vấn đề, và xử lý dữ liệu.\n"
   ]
  },
  {
   "cell_type": "markdown",
   "id": "68cb7726",
   "metadata": {},
   "source": [
    "<span style=\"color: blue;\">LẬP DATA FRAME TÌM SỐ LƯỢNG TỪ CÓ TẦN SUẤT XUẤT HIỆN GIỐNG NHAU<span>"
   ]
  },
  {
   "cell_type": "code",
   "execution_count": 36,
   "id": "61496b5c",
   "metadata": {
    "scrolled": true
   },
   "outputs": [
    {
     "data": {
      "text/html": [
       "<div>\n",
       "<style scoped>\n",
       "    .dataframe tbody tr th:only-of-type {\n",
       "        vertical-align: middle;\n",
       "    }\n",
       "\n",
       "    .dataframe tbody tr th {\n",
       "        vertical-align: top;\n",
       "    }\n",
       "\n",
       "    .dataframe thead th {\n",
       "        text-align: right;\n",
       "    }\n",
       "</style>\n",
       "<table border=\"1\" class=\"dataframe\">\n",
       "  <thead>\n",
       "    <tr style=\"text-align: right;\">\n",
       "      <th></th>\n",
       "      <th>Count</th>\n",
       "      <th>Word Count</th>\n",
       "    </tr>\n",
       "  </thead>\n",
       "  <tbody>\n",
       "    <tr>\n",
       "      <th>0</th>\n",
       "      <td>1</td>\n",
       "      <td>1221</td>\n",
       "    </tr>\n",
       "    <tr>\n",
       "      <th>1</th>\n",
       "      <td>2</td>\n",
       "      <td>272</td>\n",
       "    </tr>\n",
       "    <tr>\n",
       "      <th>2</th>\n",
       "      <td>3</td>\n",
       "      <td>99</td>\n",
       "    </tr>\n",
       "    <tr>\n",
       "      <th>3</th>\n",
       "      <td>4</td>\n",
       "      <td>58</td>\n",
       "    </tr>\n",
       "    <tr>\n",
       "      <th>4</th>\n",
       "      <td>5</td>\n",
       "      <td>33</td>\n",
       "    </tr>\n",
       "  </tbody>\n",
       "</table>\n",
       "</div>"
      ],
      "text/plain": [
       "   Count  Word Count\n",
       "0      1        1221\n",
       "1      2         272\n",
       "2      3          99\n",
       "3      4          58\n",
       "4      5          33"
      ]
     },
     "execution_count": 36,
     "metadata": {},
     "output_type": "execute_result"
    }
   ],
   "source": [
    "# Đếm số lần xuất hiện của từng giá trị\n",
    "count_occurrences = Counter(count_list)\n",
    "\n",
    "# Tạo danh sách các giá trị và số lượng từ tương ứng\n",
    "count_values = []\n",
    "count_word_counts = []\n",
    "\n",
    "for count, occurrence in count_occurrences.items():\n",
    "    count_values.append(count)\n",
    "    count_word_counts.append(occurrence)\n",
    "\n",
    "# Tạo DataFrame từ danh sách các giá trị và số lượng từ\n",
    "data = {'Count': count_values, 'Word Count': count_word_counts}\n",
    "df_count_word_counts = pd.DataFrame(data)\n",
    "\n",
    "df_count_word_counts = df_count_word_counts.sort_values('Count').reset_index(drop=True)\n",
    "\n",
    "# In DataFrame\n",
    "df_count_word_counts.head()\n"
   ]
  },
  {
   "cell_type": "markdown",
   "id": "a7e0d410",
   "metadata": {},
   "source": [
    "<span style=\"color: blue;\">NHẬN XÉT DATA FRAME TRÊN<span>\n",
    "    "
   ]
  },
  {
   "cell_type": "code",
   "execution_count": 37,
   "id": "8c767d58",
   "metadata": {},
   "outputs": [],
   "source": [
    "#1)Các từ cụm từ có xu hướng có tần xuất dưới 15 lần\n",
    "#2)Nhiều từ xuất 1 lần duy nhất, từ đó có thể rút ra là các commit thường đề cập tới nhiều vấn đề khác nhau"
   ]
  },
  {
   "cell_type": "markdown",
   "id": "38665961",
   "metadata": {},
   "source": [
    "### 2.Khi các động từ (fix, merge, update, pull, add, added, fixed) xuất hiện thì có ảnh hưởng số dòng thêm, bớt và số lượng tệp tin thay đổi không?"
   ]
  },
  {
   "cell_type": "markdown",
   "id": "2d130f99",
   "metadata": {},
   "source": [
    "<span style=\"color: blue;\">LẬP DATA FRAME TÌM ĐỘNG TỪ TRONG DATA FRAME TRÊN<span>"
   ]
  },
  {
   "cell_type": "code",
   "execution_count": 38,
   "id": "c3952830",
   "metadata": {},
   "outputs": [
    {
     "data": {
      "text/html": [
       "<div>\n",
       "<style scoped>\n",
       "    .dataframe tbody tr th:only-of-type {\n",
       "        vertical-align: middle;\n",
       "    }\n",
       "\n",
       "    .dataframe tbody tr th {\n",
       "        vertical-align: top;\n",
       "    }\n",
       "\n",
       "    .dataframe thead th {\n",
       "        text-align: right;\n",
       "    }\n",
       "</style>\n",
       "<table border=\"1\" class=\"dataframe\">\n",
       "  <thead>\n",
       "    <tr style=\"text-align: right;\">\n",
       "      <th></th>\n",
       "      <th>Word</th>\n",
       "      <th>Count</th>\n",
       "    </tr>\n",
       "  </thead>\n",
       "  <tbody>\n",
       "    <tr>\n",
       "      <th>0</th>\n",
       "      <td>add</td>\n",
       "      <td>61</td>\n",
       "    </tr>\n",
       "    <tr>\n",
       "      <th>1</th>\n",
       "      <td>added</td>\n",
       "      <td>57</td>\n",
       "    </tr>\n",
       "    <tr>\n",
       "      <th>2</th>\n",
       "      <td>is</td>\n",
       "      <td>32</td>\n",
       "    </tr>\n",
       "    <tr>\n",
       "      <th>3</th>\n",
       "      <td>fixed</td>\n",
       "      <td>25</td>\n",
       "    </tr>\n",
       "    <tr>\n",
       "      <th>4</th>\n",
       "      <td>be</td>\n",
       "      <td>16</td>\n",
       "    </tr>\n",
       "    <tr>\n",
       "      <th>...</th>\n",
       "      <td>...</td>\n",
       "      <td>...</td>\n",
       "    </tr>\n",
       "    <tr>\n",
       "      <th>134</th>\n",
       "      <td>forgiving</td>\n",
       "      <td>1</td>\n",
       "    </tr>\n",
       "    <tr>\n",
       "      <th>135</th>\n",
       "      <td>upsampling</td>\n",
       "      <td>1</td>\n",
       "    </tr>\n",
       "    <tr>\n",
       "      <th>136</th>\n",
       "      <td>trained</td>\n",
       "      <td>1</td>\n",
       "    </tr>\n",
       "    <tr>\n",
       "      <th>137</th>\n",
       "      <td>included</td>\n",
       "      <td>1</td>\n",
       "    </tr>\n",
       "    <tr>\n",
       "      <th>138</th>\n",
       "      <td>scaling</td>\n",
       "      <td>1</td>\n",
       "    </tr>\n",
       "  </tbody>\n",
       "</table>\n",
       "<p>139 rows × 2 columns</p>\n",
       "</div>"
      ],
      "text/plain": [
       "           Word  Count\n",
       "0           add     61\n",
       "1         added     57\n",
       "2            is     32\n",
       "3         fixed     25\n",
       "4            be     16\n",
       "..          ...    ...\n",
       "134   forgiving      1\n",
       "135  upsampling      1\n",
       "136     trained      1\n",
       "137    included      1\n",
       "138     scaling      1\n",
       "\n",
       "[139 rows x 2 columns]"
      ]
     },
     "execution_count": 38,
     "metadata": {},
     "output_type": "execute_result"
    }
   ],
   "source": [
    "# Function để xác định loại từ (part-of-speech) của từ\n",
    "def get_word_pos(word):\n",
    "    pos = nltk.pos_tag([word])[0][1]\n",
    "    if pos.startswith('V'):\n",
    "        return wordnet.VERB\n",
    "    return None\n",
    "\n",
    "# Lọc các dòng có từ trong cột \"Word\" là động từ\n",
    "verb_rows = df_word_counts[df_word_counts['Word'].apply(lambda x: get_word_pos(x) is not None)]\n",
    "verb_rows = verb_rows.reset_index(drop=True)\n",
    "verb_rows = verb_rows.sort_values(by='Count', ascending=False).reset_index(drop=True)\n",
    "# Hiển thị kết quả\n",
    "verb_rows"
   ]
  },
  {
   "cell_type": "markdown",
   "id": "8ff018a2",
   "metadata": {},
   "source": [
    "<span style=\"color: blue;\">LẬP DATA FRAME THỂ HIỆN TỈ LỆ KHI 1 TỪ XUẤT HIỆN Ở COMMIT MESSAGE THÌ SỐ LƯỢNG DÒNG THÊM, BỚT VÀ SỐ LƯỢNG TẬP TIN THAY ĐỔI NHƯ THẾ NÀO<span>"
   ]
  },
  {
   "cell_type": "code",
   "execution_count": 39,
   "id": "a5b051d1",
   "metadata": {},
   "outputs": [
    {
     "data": {
      "text/html": [
       "<div>\n",
       "<style scoped>\n",
       "    .dataframe tbody tr th:only-of-type {\n",
       "        vertical-align: middle;\n",
       "    }\n",
       "\n",
       "    .dataframe tbody tr th {\n",
       "        vertical-align: top;\n",
       "    }\n",
       "\n",
       "    .dataframe thead th {\n",
       "        text-align: right;\n",
       "    }\n",
       "</style>\n",
       "<table border=\"1\" class=\"dataframe\">\n",
       "  <thead>\n",
       "    <tr style=\"text-align: right;\">\n",
       "      <th></th>\n",
       "      <th>Verb</th>\n",
       "      <th>Count</th>\n",
       "      <th>Additions Ratio</th>\n",
       "      <th>Deletions Ratio</th>\n",
       "      <th>Num Changed Files Ratio</th>\n",
       "    </tr>\n",
       "  </thead>\n",
       "  <tbody>\n",
       "    <tr>\n",
       "      <th>0</th>\n",
       "      <td>fix</td>\n",
       "      <td>224</td>\n",
       "      <td>9.85</td>\n",
       "      <td>4.47</td>\n",
       "      <td>1.44</td>\n",
       "    </tr>\n",
       "    <tr>\n",
       "      <th>1</th>\n",
       "      <td>merge</td>\n",
       "      <td>88</td>\n",
       "      <td>24.90</td>\n",
       "      <td>3.86</td>\n",
       "      <td>1.48</td>\n",
       "    </tr>\n",
       "    <tr>\n",
       "      <th>2</th>\n",
       "      <td>update</td>\n",
       "      <td>79</td>\n",
       "      <td>15.65</td>\n",
       "      <td>5.03</td>\n",
       "      <td>1.51</td>\n",
       "    </tr>\n",
       "    <tr>\n",
       "      <th>3</th>\n",
       "      <td>pull</td>\n",
       "      <td>72</td>\n",
       "      <td>24.17</td>\n",
       "      <td>3.29</td>\n",
       "      <td>1.40</td>\n",
       "    </tr>\n",
       "    <tr>\n",
       "      <th>4</th>\n",
       "      <td>add</td>\n",
       "      <td>61</td>\n",
       "      <td>100.70</td>\n",
       "      <td>7.28</td>\n",
       "      <td>3.28</td>\n",
       "    </tr>\n",
       "    <tr>\n",
       "      <th>5</th>\n",
       "      <td>added</td>\n",
       "      <td>57</td>\n",
       "      <td>46.96</td>\n",
       "      <td>3.11</td>\n",
       "      <td>1.56</td>\n",
       "    </tr>\n",
       "    <tr>\n",
       "      <th>6</th>\n",
       "      <td>fixed</td>\n",
       "      <td>25</td>\n",
       "      <td>5.60</td>\n",
       "      <td>3.36</td>\n",
       "      <td>0.96</td>\n",
       "    </tr>\n",
       "  </tbody>\n",
       "</table>\n",
       "</div>"
      ],
      "text/plain": [
       "     Verb  Count  Additions Ratio  Deletions Ratio  Num Changed Files Ratio\n",
       "0     fix    224             9.85             4.47                     1.44\n",
       "1   merge     88            24.90             3.86                     1.48\n",
       "2  update     79            15.65             5.03                     1.51\n",
       "3    pull     72            24.17             3.29                     1.40\n",
       "4     add     61           100.70             7.28                     3.28\n",
       "5   added     57            46.96             3.11                     1.56\n",
       "6   fixed     25             5.60             3.36                     0.96"
      ]
     },
     "execution_count": 39,
     "metadata": {},
     "output_type": "execute_result"
    }
   ],
   "source": [
    "\n",
    "# Danh sách các từ cần tính toán\n",
    "words = ['fix', 'merge', 'update', 'pull', 'add', 'added', 'fixed']\n",
    "\n",
    "# Tạo một từ điển để lưu trữ thông tin\n",
    "data = {'Verb': [], 'Count': [], 'Additions Ratio': [], 'Deletions Ratio': [], 'Num Changed Files Ratio': []}\n",
    "\n",
    "# Duyệt qua danh sách các từ\n",
    "for word in words:\n",
    "    # Tạo DataFrame con chỉ chứa các hàng có từ word trong cột 'Commit Message'\n",
    "    df_word = df[df['Commit Message'].str.contains(word, case=False)]\n",
    "    \n",
    "    # Đếm số lần xuất hiện của từ word trong cột 'Commit Message'\n",
    "    word_count = df_word_counts.loc[df_word_counts['Word'] == word, 'Count'].values[0]\n",
    "    \n",
    "    # Tính tổng các giá trị trong cột 'Additions', 'Deletions', 'Changed Files' của DataFrame con\n",
    "    total_additions = df_word['Additions'].sum()\n",
    "    total_deletions = df_word['Deletions'].sum()\n",
    "    total_changed_files = df_word['Num Changed Files'].sum()\n",
    "    \n",
    "    # Tính tỷ lệ xuất hiện của từ word với các cột\n",
    "    additions_ratio =  (total_additions/word_count)\n",
    "    deletions_ratio =  (total_deletions/word_count)\n",
    "    changed_files_ratio = (total_changed_files/word_count) \n",
    "    \n",
    "    # Thêm thông tin vào từ điển\n",
    "    data['Verb'].append(word)\n",
    "    data['Count'].append(word_count)\n",
    "    data['Additions Ratio'].append(additions_ratio)\n",
    "    data['Deletions Ratio'].append(deletions_ratio)\n",
    "    data['Num Changed Files Ratio'].append(changed_files_ratio)\n",
    "\n",
    "# Tạo DataFrame từ từ điển\n",
    "df_result = pd.DataFrame(data)\n",
    "df_result['Additions Ratio']=df_result['Additions Ratio'].round(decimals=2)\n",
    "df_result['Deletions Ratio']=df_result['Deletions Ratio'].round(decimals=2)\n",
    "df_result['Num Changed Files Ratio']=df_result['Num Changed Files Ratio'].round(decimals=2)\n",
    "# In kết quả\n",
    "df_result.head(10)"
   ]
  },
  {
   "cell_type": "markdown",
   "id": "96cf3d35",
   "metadata": {},
   "source": [
    "<span style=\"color: blue;\">NHẬN XÉT DATA FRAME TRÊN<span>"
   ]
  },
  {
   "cell_type": "code",
   "execution_count": 40,
   "id": "cf292235",
   "metadata": {},
   "outputs": [],
   "source": [
    "#1)Các động từ \"fix\", \"update\",\"pull\", \"merge\", \"fixed\",\"added\" ảnh hưởng nhiều tới việc thêm dòng, xóa dòng, file thay đổi vì tỉ lệ 'Additions Ratio', 'Deletions Ratio', 'Num Changed Files Ratio' đều rất cao với mỗi động từ."
   ]
  },
  {
   "cell_type": "markdown",
   "id": "f8ec6956",
   "metadata": {},
   "source": [
    "### 3.Trong các từ (fix, merge, update, pull, add, added, fixed) từ nào có tỉ lệ mà khi xuất hiện trong Commit Message số dòng thêm là lớn nhất? Từ nào có tỉ lệ mà khi xuất hiện số dòng xóa là lớn nhất? Từ nào có tỉ lệ mà khi xuất hiện số tập tin thay đổi là nhiều nhất?"
   ]
  },
  {
   "cell_type": "markdown",
   "id": "1b08b41b",
   "metadata": {},
   "source": [
    "<span style=\"color: blue;\">THÔNG TIN VỀ TỪ KHI XUẤT HIỆN CÓ TỈ LỆ SỐ DÒNG THÊM LÀ LỚN NHẤT<span>"
   ]
  },
  {
   "cell_type": "code",
   "execution_count": 41,
   "id": "b415fb17",
   "metadata": {},
   "outputs": [
    {
     "data": {
      "text/html": [
       "<div>\n",
       "<style scoped>\n",
       "    .dataframe tbody tr th:only-of-type {\n",
       "        vertical-align: middle;\n",
       "    }\n",
       "\n",
       "    .dataframe tbody tr th {\n",
       "        vertical-align: top;\n",
       "    }\n",
       "\n",
       "    .dataframe thead th {\n",
       "        text-align: right;\n",
       "    }\n",
       "</style>\n",
       "<table border=\"1\" class=\"dataframe\">\n",
       "  <thead>\n",
       "    <tr style=\"text-align: right;\">\n",
       "      <th></th>\n",
       "      <th>Verb</th>\n",
       "      <th>Count</th>\n",
       "      <th>Additions Ratio</th>\n",
       "      <th>Deletions Ratio</th>\n",
       "      <th>Num Changed Files Ratio</th>\n",
       "    </tr>\n",
       "  </thead>\n",
       "  <tbody>\n",
       "    <tr>\n",
       "      <th>4</th>\n",
       "      <td>add</td>\n",
       "      <td>61</td>\n",
       "      <td>100.7</td>\n",
       "      <td>7.28</td>\n",
       "      <td>3.28</td>\n",
       "    </tr>\n",
       "  </tbody>\n",
       "</table>\n",
       "</div>"
      ],
      "text/plain": [
       "  Verb  Count  Additions Ratio  Deletions Ratio  Num Changed Files Ratio\n",
       "4  add     61            100.7             7.28                     3.28"
      ]
     },
     "execution_count": 41,
     "metadata": {},
     "output_type": "execute_result"
    }
   ],
   "source": [
    "max_addition=df_result['Additions Ratio'].max()\n",
    "max_addition_info=df_result.loc[df_result['Additions Ratio']==max_addition]\n",
    "max_addition_info"
   ]
  },
  {
   "cell_type": "markdown",
   "id": "cb43c888",
   "metadata": {},
   "source": [
    "<span style=\"color: blue;\">THÔNG TIN VỀ TỪ KHI XUẤT HIỆN CÓ TỈ LỆ SỐ DÒNG XÓA LÀ LỚN NHẤT<span>"
   ]
  },
  {
   "cell_type": "code",
   "execution_count": 42,
   "id": "b119085f",
   "metadata": {},
   "outputs": [
    {
     "data": {
      "text/html": [
       "<div>\n",
       "<style scoped>\n",
       "    .dataframe tbody tr th:only-of-type {\n",
       "        vertical-align: middle;\n",
       "    }\n",
       "\n",
       "    .dataframe tbody tr th {\n",
       "        vertical-align: top;\n",
       "    }\n",
       "\n",
       "    .dataframe thead th {\n",
       "        text-align: right;\n",
       "    }\n",
       "</style>\n",
       "<table border=\"1\" class=\"dataframe\">\n",
       "  <thead>\n",
       "    <tr style=\"text-align: right;\">\n",
       "      <th></th>\n",
       "      <th>Verb</th>\n",
       "      <th>Count</th>\n",
       "      <th>Additions Ratio</th>\n",
       "      <th>Deletions Ratio</th>\n",
       "      <th>Num Changed Files Ratio</th>\n",
       "    </tr>\n",
       "  </thead>\n",
       "  <tbody>\n",
       "    <tr>\n",
       "      <th>4</th>\n",
       "      <td>add</td>\n",
       "      <td>61</td>\n",
       "      <td>100.7</td>\n",
       "      <td>7.28</td>\n",
       "      <td>3.28</td>\n",
       "    </tr>\n",
       "  </tbody>\n",
       "</table>\n",
       "</div>"
      ],
      "text/plain": [
       "  Verb  Count  Additions Ratio  Deletions Ratio  Num Changed Files Ratio\n",
       "4  add     61            100.7             7.28                     3.28"
      ]
     },
     "execution_count": 42,
     "metadata": {},
     "output_type": "execute_result"
    }
   ],
   "source": [
    "max_deletion=df_result['Deletions Ratio'].max()\n",
    "max_deletion_info=df_result.loc[df_result['Deletions Ratio']==max_deletion]\n",
    "max_deletion_info"
   ]
  },
  {
   "cell_type": "markdown",
   "id": "cfd4632d",
   "metadata": {},
   "source": [
    "<span style=\"color: blue;\">THÔNG TIN VỀ TỪ KHI XUẤT HIỆN CÓ TỈ LỆ SỐ TẬP TIN THAY ĐỔI LÀ NHIỂU NHẤT<span>"
   ]
  },
  {
   "cell_type": "code",
   "execution_count": 43,
   "id": "892309c0",
   "metadata": {},
   "outputs": [
    {
     "data": {
      "text/html": [
       "<div>\n",
       "<style scoped>\n",
       "    .dataframe tbody tr th:only-of-type {\n",
       "        vertical-align: middle;\n",
       "    }\n",
       "\n",
       "    .dataframe tbody tr th {\n",
       "        vertical-align: top;\n",
       "    }\n",
       "\n",
       "    .dataframe thead th {\n",
       "        text-align: right;\n",
       "    }\n",
       "</style>\n",
       "<table border=\"1\" class=\"dataframe\">\n",
       "  <thead>\n",
       "    <tr style=\"text-align: right;\">\n",
       "      <th></th>\n",
       "      <th>Verb</th>\n",
       "      <th>Count</th>\n",
       "      <th>Additions Ratio</th>\n",
       "      <th>Deletions Ratio</th>\n",
       "      <th>Num Changed Files Ratio</th>\n",
       "    </tr>\n",
       "  </thead>\n",
       "  <tbody>\n",
       "    <tr>\n",
       "      <th>4</th>\n",
       "      <td>add</td>\n",
       "      <td>61</td>\n",
       "      <td>100.7</td>\n",
       "      <td>7.28</td>\n",
       "      <td>3.28</td>\n",
       "    </tr>\n",
       "  </tbody>\n",
       "</table>\n",
       "</div>"
      ],
      "text/plain": [
       "  Verb  Count  Additions Ratio  Deletions Ratio  Num Changed Files Ratio\n",
       "4  add     61            100.7             7.28                     3.28"
      ]
     },
     "execution_count": 43,
     "metadata": {},
     "output_type": "execute_result"
    }
   ],
   "source": [
    "max_changed_files=df_result['Num Changed Files Ratio'].max()\n",
    "max_changed_files_info=df_result.loc[df_result['Num Changed Files Ratio']==max_changed_files]\n",
    "max_changed_files_info"
   ]
  },
  {
   "cell_type": "markdown",
   "id": "86cb01ff",
   "metadata": {},
   "source": [
    "### 4.Commit Message nào dài nhất, ngắn nhất?"
   ]
  },
  {
   "cell_type": "markdown",
   "id": "040f22b6",
   "metadata": {},
   "source": [
    "<span style=\"color: blue;\">COMMIT MESSAGE DÀI NHẤT<span>"
   ]
  },
  {
   "cell_type": "code",
   "execution_count": 44,
   "id": "26c83388",
   "metadata": {},
   "outputs": [
    {
     "data": {
      "text/html": [
       "<div>\n",
       "<style scoped>\n",
       "    .dataframe tbody tr th:only-of-type {\n",
       "        vertical-align: middle;\n",
       "    }\n",
       "\n",
       "    .dataframe tbody tr th {\n",
       "        vertical-align: top;\n",
       "    }\n",
       "\n",
       "    .dataframe thead th {\n",
       "        text-align: right;\n",
       "    }\n",
       "</style>\n",
       "<table border=\"1\" class=\"dataframe\">\n",
       "  <thead>\n",
       "    <tr style=\"text-align: right;\">\n",
       "      <th></th>\n",
       "      <th>Commit ID</th>\n",
       "      <th>Commit Message</th>\n",
       "      <th>Commit Date</th>\n",
       "      <th>Changed Files</th>\n",
       "      <th>Num Changed Files</th>\n",
       "      <th>Additions</th>\n",
       "      <th>Deletions</th>\n",
       "      <th>Author Name</th>\n",
       "      <th>Author Email</th>\n",
       "    </tr>\n",
       "  </thead>\n",
       "  <tbody>\n",
       "    <tr>\n",
       "      <th>227</th>\n",
       "      <td>9b7d0b89d72f4c7986bd3692d01d19adbfe66df1</td>\n",
       "      <td>Make NLP example able to use cyrillic script i...</td>\n",
       "      <td>2016-11-18 07:00:37</td>\n",
       "      <td>['examples/nlp/lstm_generator_cityname.py']</td>\n",
       "      <td>1</td>\n",
       "      <td>6</td>\n",
       "      <td>5</td>\n",
       "      <td>Илья Юрков</td>\n",
       "      <td>urkov@lightsoft.ru</td>\n",
       "    </tr>\n",
       "  </tbody>\n",
       "</table>\n",
       "</div>"
      ],
      "text/plain": [
       "                                    Commit ID  \\\n",
       "227  9b7d0b89d72f4c7986bd3692d01d19adbfe66df1   \n",
       "\n",
       "                                        Commit Message         Commit Date  \\\n",
       "227  Make NLP example able to use cyrillic script i... 2016-11-18 07:00:37   \n",
       "\n",
       "                                   Changed Files Num Changed Files Additions  \\\n",
       "227  ['examples/nlp/lstm_generator_cityname.py']                 1         6   \n",
       "\n",
       "    Deletions Author Name        Author Email  \n",
       "227         5  Илья Юрков  urkov@lightsoft.ru  "
      ]
     },
     "execution_count": 44,
     "metadata": {},
     "output_type": "execute_result"
    }
   ],
   "source": [
    "df['Commit Date'] = pd.to_datetime(df['Commit Date'])\n",
    "# Tìm chỉ mục của dòng có Commit message dài nhất\n",
    "max_commit_message_length_index = df['Commit Message'].str.len().idxmax()\n",
    "\n",
    "# Tạo DataFrame từ dòng có Commit message dài nhất\n",
    "max_commit_message_df = pd.DataFrame(df.loc[max_commit_message_length_index]).transpose()\n",
    "max_commit_message_df"
   ]
  },
  {
   "cell_type": "markdown",
   "id": "6169abc2",
   "metadata": {},
   "source": [
    "<span style=\"color: blue;\">COMMIT MESSAGE NGẮN NHẤT<span>"
   ]
  },
  {
   "cell_type": "code",
   "execution_count": 45,
   "id": "3561ee24",
   "metadata": {},
   "outputs": [
    {
     "data": {
      "text/html": [
       "<div>\n",
       "<style scoped>\n",
       "    .dataframe tbody tr th:only-of-type {\n",
       "        vertical-align: middle;\n",
       "    }\n",
       "\n",
       "    .dataframe tbody tr th {\n",
       "        vertical-align: top;\n",
       "    }\n",
       "\n",
       "    .dataframe thead th {\n",
       "        text-align: right;\n",
       "    }\n",
       "</style>\n",
       "<table border=\"1\" class=\"dataframe\">\n",
       "  <thead>\n",
       "    <tr style=\"text-align: right;\">\n",
       "      <th></th>\n",
       "      <th>Commit ID</th>\n",
       "      <th>Commit Message</th>\n",
       "      <th>Commit Date</th>\n",
       "      <th>Changed Files</th>\n",
       "      <th>Num Changed Files</th>\n",
       "      <th>Additions</th>\n",
       "      <th>Deletions</th>\n",
       "      <th>Author Name</th>\n",
       "      <th>Author Email</th>\n",
       "    </tr>\n",
       "  </thead>\n",
       "  <tbody>\n",
       "    <tr>\n",
       "      <th>597</th>\n",
       "      <td>f33938c0e12d00d30d1a1370f2d52f7f0664db0c</td>\n",
       "      <td>Fix #9</td>\n",
       "      <td>2016-04-05 15:16:45</td>\n",
       "      <td>['tflearn/layers/recurrent.py', 'tflearn/model...</td>\n",
       "      <td>2</td>\n",
       "      <td>39</td>\n",
       "      <td>30</td>\n",
       "      <td>aymericdamien</td>\n",
       "      <td>aymeric.damien@gmail.com</td>\n",
       "    </tr>\n",
       "  </tbody>\n",
       "</table>\n",
       "</div>"
      ],
      "text/plain": [
       "                                    Commit ID Commit Message  \\\n",
       "597  f33938c0e12d00d30d1a1370f2d52f7f0664db0c         Fix #9   \n",
       "\n",
       "            Commit Date                                      Changed Files  \\\n",
       "597 2016-04-05 15:16:45  ['tflearn/layers/recurrent.py', 'tflearn/model...   \n",
       "\n",
       "    Num Changed Files Additions Deletions    Author Name  \\\n",
       "597                 2        39        30  aymericdamien   \n",
       "\n",
       "                 Author Email  \n",
       "597  aymeric.damien@gmail.com  "
      ]
     },
     "execution_count": 45,
     "metadata": {},
     "output_type": "execute_result"
    }
   ],
   "source": [
    "df['Commit Date'] = pd.to_datetime(df['Commit Date'])\n",
    "# Tìm chỉ mục của dòng có Commit message ngắn nhất\n",
    "min_commit_message_length_index = df['Commit Message'].str.len().idxmin()\n",
    "\n",
    "# Tạo DataFrame từ dòng có Commit message ngắn nhất\n",
    "min_commit_message_df = pd.DataFrame(df.loc[min_commit_message_length_index]).transpose()\n",
    "min_commit_message_df"
   ]
  },
  {
   "cell_type": "markdown",
   "id": "090a0778",
   "metadata": {},
   "source": [
    "### 5.Commit Message trong cả bảng dữ liệu có số lượng dòng thêm, bớt và số lượng tệp tin thay đổi nhiều nhất và nhỏ nhất là Commit Message nào?"
   ]
  },
  {
   "cell_type": "markdown",
   "id": "6a9e1d7e",
   "metadata": {},
   "source": [
    "<span style=\"color: blue;\">COMMIT MESSAGE TRONG BẢNG DỮ LIỆU CÓ SỐ LƯỢNG DÒNG THÊM NHIỀU NHẤT VÀ ÍT NHẤT<span>"
   ]
  },
  {
   "cell_type": "code",
   "execution_count": 46,
   "id": "7e3bc8d7",
   "metadata": {},
   "outputs": [
    {
     "data": {
      "text/html": [
       "<div>\n",
       "<style scoped>\n",
       "    .dataframe tbody tr th:only-of-type {\n",
       "        vertical-align: middle;\n",
       "    }\n",
       "\n",
       "    .dataframe tbody tr th {\n",
       "        vertical-align: top;\n",
       "    }\n",
       "\n",
       "    .dataframe thead th {\n",
       "        text-align: right;\n",
       "    }\n",
       "</style>\n",
       "<table border=\"1\" class=\"dataframe\">\n",
       "  <thead>\n",
       "    <tr style=\"text-align: right;\">\n",
       "      <th></th>\n",
       "      <th>Commit ID</th>\n",
       "      <th>Commit Message</th>\n",
       "      <th>Commit Date</th>\n",
       "      <th>Changed Files</th>\n",
       "      <th>Num Changed Files</th>\n",
       "      <th>Additions</th>\n",
       "      <th>Deletions</th>\n",
       "      <th>Author Name</th>\n",
       "      <th>Author Email</th>\n",
       "    </tr>\n",
       "  </thead>\n",
       "  <tbody>\n",
       "    <tr>\n",
       "      <th>0</th>\n",
       "      <td>40091cd91c36c5445f53c75f2aff987bd41404ca</td>\n",
       "      <td>Add spiral dataset example notebook</td>\n",
       "      <td>2016-04-11 19:22:04</td>\n",
       "      <td>['examples/notebooks/spiral.ipynb']</td>\n",
       "      <td>1</td>\n",
       "      <td>268</td>\n",
       "      <td>0</td>\n",
       "      <td>Brett Naul</td>\n",
       "      <td>brettnaul@gmail.com</td>\n",
       "    </tr>\n",
       "    <tr>\n",
       "      <th>1</th>\n",
       "      <td>f18af5cb1f71f58d7184bf9039fb9bda39e92559</td>\n",
       "      <td>Do not install tests in site-packages (#1104)</td>\n",
       "      <td>2018-12-15 21:45:44</td>\n",
       "      <td>['setup.py']</td>\n",
       "      <td>1</td>\n",
       "      <td>1</td>\n",
       "      <td>1</td>\n",
       "      <td>cgohlke</td>\n",
       "      <td>cjgohlke@gmail.com</td>\n",
       "    </tr>\n",
       "  </tbody>\n",
       "</table>\n",
       "</div>"
      ],
      "text/plain": [
       "                                  Commit ID  \\\n",
       "0  40091cd91c36c5445f53c75f2aff987bd41404ca   \n",
       "1  f18af5cb1f71f58d7184bf9039fb9bda39e92559   \n",
       "\n",
       "                                  Commit Message         Commit Date  \\\n",
       "0            Add spiral dataset example notebook 2016-04-11 19:22:04   \n",
       "1  Do not install tests in site-packages (#1104) 2018-12-15 21:45:44   \n",
       "\n",
       "                         Changed Files Num Changed Files Additions Deletions  \\\n",
       "0  ['examples/notebooks/spiral.ipynb']                 1       268         0   \n",
       "1                         ['setup.py']                 1         1         1   \n",
       "\n",
       "  Author Name         Author Email  \n",
       "0  Brett Naul  brettnaul@gmail.com  \n",
       "1     cgohlke   cjgohlke@gmail.com  "
      ]
     },
     "execution_count": 46,
     "metadata": {},
     "output_type": "execute_result"
    }
   ],
   "source": [
    "df_1=df.copy()\n",
    "# Tìm chỉ mục của commit message có số lượng thay đổi nhiều nhất\n",
    "max_changes_index = df_1[['Additions']].sum(axis=1).idxmax()\n",
    "\n",
    "# Tìm chỉ mục của commit message có số lượng thay đổi ít nhất\n",
    "min_changes_index = df_1[['Additions']].sum(axis=1).idxmin()\n",
    "\n",
    "# Tạo DataFrame từ dòng tìm được\n",
    "df_addition_changes = pd.DataFrame(df_1.loc[max_changes_index]).transpose()\n",
    "df_min_changes = pd.DataFrame(df_1.loc[min_changes_index]).transpose()\n",
    "# Tạo DataFrame mới chứa dòng có số lượng thay đổi ít nhất\n",
    "df_addition_changes = pd.concat([df_addition_changes, df_min_changes], ignore_index=True)\n",
    "del df_1\n",
    "df_addition_changes"
   ]
  },
  {
   "cell_type": "markdown",
   "id": "b00d12ae",
   "metadata": {},
   "source": [
    "<span style=\"color: blue;\">COMMIT MESSAGE TRONG BẢNG DỮ LIỆU CÓ SỐ LƯỢNG DÒNG XÓA NHIỀU NHẤT VÀ ÍT NHẤT<span>"
   ]
  },
  {
   "cell_type": "code",
   "execution_count": 47,
   "id": "2413cb65",
   "metadata": {},
   "outputs": [
    {
     "data": {
      "text/html": [
       "<div>\n",
       "<style scoped>\n",
       "    .dataframe tbody tr th:only-of-type {\n",
       "        vertical-align: middle;\n",
       "    }\n",
       "\n",
       "    .dataframe tbody tr th {\n",
       "        vertical-align: top;\n",
       "    }\n",
       "\n",
       "    .dataframe thead th {\n",
       "        text-align: right;\n",
       "    }\n",
       "</style>\n",
       "<table border=\"1\" class=\"dataframe\">\n",
       "  <thead>\n",
       "    <tr style=\"text-align: right;\">\n",
       "      <th></th>\n",
       "      <th>Commit ID</th>\n",
       "      <th>Commit Message</th>\n",
       "      <th>Commit Date</th>\n",
       "      <th>Changed Files</th>\n",
       "      <th>Num Changed Files</th>\n",
       "      <th>Additions</th>\n",
       "      <th>Deletions</th>\n",
       "      <th>Author Name</th>\n",
       "      <th>Author Email</th>\n",
       "    </tr>\n",
       "  </thead>\n",
       "  <tbody>\n",
       "    <tr>\n",
       "      <th>0</th>\n",
       "      <td>ab71b050027c9ee6d55f70492d6f1f2c4dd0b440</td>\n",
       "      <td>add inception-resnet-v2 in branch inception-re...</td>\n",
       "      <td>2016-11-10 06:01:51</td>\n",
       "      <td>['examples/images/inception_resnet_v2.py', 'tf...</td>\n",
       "      <td>4</td>\n",
       "      <td>75</td>\n",
       "      <td>63</td>\n",
       "      <td>burness</td>\n",
       "      <td>dss_1990@sina.com</td>\n",
       "    </tr>\n",
       "    <tr>\n",
       "      <th>1</th>\n",
       "      <td>0f44f97c823179d3473e6a17eaa127bdae7360d7</td>\n",
       "      <td>Adding triplet loss (#1161)\\n\\n* Added fashion...</td>\n",
       "      <td>2020-11-24 06:21:54</td>\n",
       "      <td>['tflearn/objectives.py']</td>\n",
       "      <td>1</td>\n",
       "      <td>25</td>\n",
       "      <td>0</td>\n",
       "      <td>Hemant Rakesh</td>\n",
       "      <td>basketballlife600@gmail.com</td>\n",
       "    </tr>\n",
       "  </tbody>\n",
       "</table>\n",
       "</div>"
      ],
      "text/plain": [
       "                                  Commit ID  \\\n",
       "0  ab71b050027c9ee6d55f70492d6f1f2c4dd0b440   \n",
       "1  0f44f97c823179d3473e6a17eaa127bdae7360d7   \n",
       "\n",
       "                                      Commit Message         Commit Date  \\\n",
       "0  add inception-resnet-v2 in branch inception-re... 2016-11-10 06:01:51   \n",
       "1  Adding triplet loss (#1161)\\n\\n* Added fashion... 2020-11-24 06:21:54   \n",
       "\n",
       "                                       Changed Files Num Changed Files  \\\n",
       "0  ['examples/images/inception_resnet_v2.py', 'tf...                 4   \n",
       "1                          ['tflearn/objectives.py']                 1   \n",
       "\n",
       "  Additions Deletions    Author Name                 Author Email  \n",
       "0        75        63        burness            dss_1990@sina.com  \n",
       "1        25         0  Hemant Rakesh  basketballlife600@gmail.com  "
      ]
     },
     "execution_count": 47,
     "metadata": {},
     "output_type": "execute_result"
    }
   ],
   "source": [
    "df_2=df.copy()\n",
    "# Tìm chỉ mục của commit message có số lượng thay đổi nhiều nhất\n",
    "max_changes_index = df_2[['Deletions']].sum(axis=1).idxmax()\n",
    "\n",
    "# Tìm chỉ mục của commit message có số lượng thay đổi ít nhất\n",
    "min_changes_index = df_2[['Deletions']].sum(axis=1).idxmin()\n",
    "\n",
    "# Tạo DataFrame từ dòng tìm được\n",
    "df_deletion_changes = pd.DataFrame(df_2.loc[max_changes_index]).transpose()\n",
    "df_min_changes = pd.DataFrame(df_2.loc[min_changes_index]).transpose()\n",
    "# Tạo DataFrame mới chứa dòng có số lượng thay đổi ít nhất\n",
    "df_deletion_changes = pd.concat([df_deletion_changes, df_min_changes], ignore_index=True)\n",
    "del df_2\n",
    "df_deletion_changes.head()"
   ]
  },
  {
   "cell_type": "markdown",
   "id": "facd1655",
   "metadata": {},
   "source": [
    "<span style=\"color: blue;\">COMMIT MESSAGE TRONG BẢNG DỮ LIỆU CÓ SỐ LƯỢNG TẬP TIN THAY ĐỔI NHIỀU NHẤT VÀ ÍT NHẤT<span>"
   ]
  },
  {
   "cell_type": "code",
   "execution_count": 48,
   "id": "f3ed0d0a",
   "metadata": {},
   "outputs": [
    {
     "data": {
      "text/html": [
       "<div>\n",
       "<style scoped>\n",
       "    .dataframe tbody tr th:only-of-type {\n",
       "        vertical-align: middle;\n",
       "    }\n",
       "\n",
       "    .dataframe tbody tr th {\n",
       "        vertical-align: top;\n",
       "    }\n",
       "\n",
       "    .dataframe thead th {\n",
       "        text-align: right;\n",
       "    }\n",
       "</style>\n",
       "<table border=\"1\" class=\"dataframe\">\n",
       "  <thead>\n",
       "    <tr style=\"text-align: right;\">\n",
       "      <th></th>\n",
       "      <th>Commit ID</th>\n",
       "      <th>Commit Message</th>\n",
       "      <th>Commit Date</th>\n",
       "      <th>Changed Files</th>\n",
       "      <th>Num Changed Files</th>\n",
       "      <th>Additions</th>\n",
       "      <th>Deletions</th>\n",
       "      <th>Author Name</th>\n",
       "      <th>Author Email</th>\n",
       "    </tr>\n",
       "  </thead>\n",
       "  <tbody>\n",
       "    <tr>\n",
       "      <th>0</th>\n",
       "      <td>29f08d18f7fdfb451931a92b51add0013ec63a5a</td>\n",
       "      <td>Speed up importing (#1070)\\n\\n* initialization...</td>\n",
       "      <td>2018-07-01 23:28:31</td>\n",
       "      <td>['tflearn/data_utils.py', 'tflearn/initializat...</td>\n",
       "      <td>5</td>\n",
       "      <td>246</td>\n",
       "      <td>31</td>\n",
       "      <td>Aarni Koskela</td>\n",
       "      <td>akx@iki.fi</td>\n",
       "    </tr>\n",
       "    <tr>\n",
       "      <th>1</th>\n",
       "      <td>0f44f97c823179d3473e6a17eaa127bdae7360d7</td>\n",
       "      <td>Adding triplet loss (#1161)\\n\\n* Added fashion...</td>\n",
       "      <td>2020-11-24 06:21:54</td>\n",
       "      <td>['tflearn/objectives.py']</td>\n",
       "      <td>1</td>\n",
       "      <td>25</td>\n",
       "      <td>0</td>\n",
       "      <td>Hemant Rakesh</td>\n",
       "      <td>basketballlife600@gmail.com</td>\n",
       "    </tr>\n",
       "  </tbody>\n",
       "</table>\n",
       "</div>"
      ],
      "text/plain": [
       "                                  Commit ID  \\\n",
       "0  29f08d18f7fdfb451931a92b51add0013ec63a5a   \n",
       "1  0f44f97c823179d3473e6a17eaa127bdae7360d7   \n",
       "\n",
       "                                      Commit Message         Commit Date  \\\n",
       "0  Speed up importing (#1070)\\n\\n* initialization... 2018-07-01 23:28:31   \n",
       "1  Adding triplet loss (#1161)\\n\\n* Added fashion... 2020-11-24 06:21:54   \n",
       "\n",
       "                                       Changed Files Num Changed Files  \\\n",
       "0  ['tflearn/data_utils.py', 'tflearn/initializat...                 5   \n",
       "1                          ['tflearn/objectives.py']                 1   \n",
       "\n",
       "  Additions Deletions    Author Name                 Author Email  \n",
       "0       246        31  Aarni Koskela                   akx@iki.fi  \n",
       "1        25         0  Hemant Rakesh  basketballlife600@gmail.com  "
      ]
     },
     "execution_count": 48,
     "metadata": {},
     "output_type": "execute_result"
    }
   ],
   "source": [
    "df_3=df.copy()\n",
    "# Tìm chỉ mục của commit message có số lượng thay đổi nhiều nhất\n",
    "max_changes_index = df_3[['Num Changed Files']].sum(axis=1).idxmax()\n",
    "\n",
    "# Tìm chỉ mục của commit message có số lượng thay đổi ít nhất\n",
    "min_changes_index = df_3[['Num Changed Files']].sum(axis=1).idxmin()\n",
    "\n",
    "# Tạo DataFrame từ dòng tìm được\n",
    "df_changed_files = pd.DataFrame(df_3.loc[max_changes_index]).transpose()\n",
    "df_min_changes = pd.DataFrame(df_3.loc[min_changes_index]).transpose()\n",
    "# Tạo DataFrame mới chứa dòng có số lượng thay đổi ít nhất\n",
    "df_changed_files = pd.concat([df_changed_files, df_min_changes], ignore_index=True)\n",
    "del df_3\n",
    "df_changed_files.head()"
   ]
  },
  {
   "cell_type": "markdown",
   "id": "327ce0cf",
   "metadata": {},
   "source": [
    "<span style=\"color: blue;\">THÔNG TIN COMMIT MESSAGE TRONG BẢNG DỮ LIỆU CÓ TỔNG SỐ LƯỢNG DÒNG THAY ĐỔI NHIỀU NHẤT VÀ ÍT NHẤT<span>"
   ]
  },
  {
   "cell_type": "code",
   "execution_count": 49,
   "id": "d3049b13",
   "metadata": {},
   "outputs": [
    {
     "data": {
      "text/html": [
       "<div>\n",
       "<style scoped>\n",
       "    .dataframe tbody tr th:only-of-type {\n",
       "        vertical-align: middle;\n",
       "    }\n",
       "\n",
       "    .dataframe tbody tr th {\n",
       "        vertical-align: top;\n",
       "    }\n",
       "\n",
       "    .dataframe thead th {\n",
       "        text-align: right;\n",
       "    }\n",
       "</style>\n",
       "<table border=\"1\" class=\"dataframe\">\n",
       "  <thead>\n",
       "    <tr style=\"text-align: right;\">\n",
       "      <th></th>\n",
       "      <th>Commit ID</th>\n",
       "      <th>Commit Message</th>\n",
       "      <th>Commit Date</th>\n",
       "      <th>Changed Files</th>\n",
       "      <th>Num Changed Files</th>\n",
       "      <th>Additions</th>\n",
       "      <th>Deletions</th>\n",
       "      <th>Author Name</th>\n",
       "      <th>Author Email</th>\n",
       "    </tr>\n",
       "  </thead>\n",
       "  <tbody>\n",
       "    <tr>\n",
       "      <th>0</th>\n",
       "      <td>29f08d18f7fdfb451931a92b51add0013ec63a5a</td>\n",
       "      <td>Speed up importing (#1070)\\n\\n* initialization...</td>\n",
       "      <td>2018-07-01 23:28:31</td>\n",
       "      <td>['tflearn/data_utils.py', 'tflearn/initializat...</td>\n",
       "      <td>5</td>\n",
       "      <td>246</td>\n",
       "      <td>31</td>\n",
       "      <td>Aarni Koskela</td>\n",
       "      <td>akx@iki.fi</td>\n",
       "    </tr>\n",
       "    <tr>\n",
       "      <th>1</th>\n",
       "      <td>3710244cc6a3abb5c49b0575310bb4b82bfd975d</td>\n",
       "      <td>14 - fix TF 0.12 serialization warnings</td>\n",
       "      <td>2016-12-19 21:03:19</td>\n",
       "      <td>['tflearn/helpers/trainer.py']</td>\n",
       "      <td>1</td>\n",
       "      <td>1</td>\n",
       "      <td>0</td>\n",
       "      <td>aymericdamien</td>\n",
       "      <td>aymeric.damien@gmail.com</td>\n",
       "    </tr>\n",
       "  </tbody>\n",
       "</table>\n",
       "</div>"
      ],
      "text/plain": [
       "                                  Commit ID  \\\n",
       "0  29f08d18f7fdfb451931a92b51add0013ec63a5a   \n",
       "1  3710244cc6a3abb5c49b0575310bb4b82bfd975d   \n",
       "\n",
       "                                      Commit Message         Commit Date  \\\n",
       "0  Speed up importing (#1070)\\n\\n* initialization... 2018-07-01 23:28:31   \n",
       "1            14 - fix TF 0.12 serialization warnings 2016-12-19 21:03:19   \n",
       "\n",
       "                                       Changed Files Num Changed Files  \\\n",
       "0  ['tflearn/data_utils.py', 'tflearn/initializat...                 5   \n",
       "1                     ['tflearn/helpers/trainer.py']                 1   \n",
       "\n",
       "  Additions Deletions    Author Name              Author Email  \n",
       "0       246        31  Aarni Koskela                akx@iki.fi  \n",
       "1         1         0  aymericdamien  aymeric.damien@gmail.com  "
      ]
     },
     "execution_count": 49,
     "metadata": {},
     "output_type": "execute_result"
    }
   ],
   "source": [
    "df_4=df.copy()\n",
    "\n",
    "# Tìm chỉ mục của commit message có số lượng thay đổi nhiều nhất\n",
    "max_changes_index = (df['Additions'] + df['Deletions']).idxmax()\n",
    "\n",
    "# Tìm chỉ mục của commit message có số lượng thay đổi ít nhất\n",
    "min_changes_index = (df['Additions'] + df['Deletions']).idxmin()\n",
    "\n",
    "# Tạo DataFrame từ dòng tìm được\n",
    "df_changes = pd.DataFrame(df_4.loc[max_changes_index]).transpose()\n",
    "df_min_changes = pd.DataFrame(df_4.loc[min_changes_index]).transpose()\n",
    "# Tạo DataFrame mới chứa dòng có số lượng thay đổi ít nhất\n",
    "df_changes = pd.concat([df_changes, df_min_changes], ignore_index=True)\n",
    "del df_4\n",
    "df_changes.head()"
   ]
  },
  {
   "cell_type": "markdown",
   "id": "2f96462d",
   "metadata": {},
   "source": [
    "### 6.Chủ đề commit thường là chủ đề gì? "
   ]
  },
  {
   "cell_type": "markdown",
   "id": "43b9f06b",
   "metadata": {},
   "source": [
    "<span style=\"color: blue;\">LẬP DATA FRAME CÁC KEY WORD DANH TỪ THỂ HIỆN NGƯỜI DÙNG HƯỚNG ĐẾN KHI TẠO COMMIT<span>"
   ]
  },
  {
   "cell_type": "code",
   "execution_count": 50,
   "id": "401c3cfe",
   "metadata": {
    "scrolled": true
   },
   "outputs": [
    {
     "data": {
      "text/html": [
       "<div>\n",
       "<style scoped>\n",
       "    .dataframe tbody tr th:only-of-type {\n",
       "        vertical-align: middle;\n",
       "    }\n",
       "\n",
       "    .dataframe tbody tr th {\n",
       "        vertical-align: top;\n",
       "    }\n",
       "\n",
       "    .dataframe thead th {\n",
       "        text-align: right;\n",
       "    }\n",
       "</style>\n",
       "<table border=\"1\" class=\"dataframe\">\n",
       "  <thead>\n",
       "    <tr style=\"text-align: right;\">\n",
       "      <th></th>\n",
       "      <th>Word</th>\n",
       "      <th>Count</th>\n",
       "    </tr>\n",
       "  </thead>\n",
       "  <tbody>\n",
       "    <tr>\n",
       "      <th>0</th>\n",
       "      <td>fix</td>\n",
       "      <td>224</td>\n",
       "    </tr>\n",
       "    <tr>\n",
       "      <th>1</th>\n",
       "      <td>merge</td>\n",
       "      <td>88</td>\n",
       "    </tr>\n",
       "    <tr>\n",
       "      <th>2</th>\n",
       "      <td>update</td>\n",
       "      <td>79</td>\n",
       "    </tr>\n",
       "    <tr>\n",
       "      <th>3</th>\n",
       "      <td>*</td>\n",
       "      <td>74</td>\n",
       "    </tr>\n",
       "    <tr>\n",
       "      <th>4</th>\n",
       "      <td>pull</td>\n",
       "      <td>72</td>\n",
       "    </tr>\n",
       "  </tbody>\n",
       "</table>\n",
       "</div>"
      ],
      "text/plain": [
       "     Word  Count\n",
       "0     fix    224\n",
       "1   merge     88\n",
       "2  update     79\n",
       "3       *     74\n",
       "4    pull     72"
      ]
     },
     "execution_count": 50,
     "metadata": {},
     "output_type": "execute_result"
    }
   ],
   "source": [
    "# Function để xác định loại từ (part-of-speech) của từ\n",
    "def get_word_pos(word):\n",
    "    pos = nltk.pos_tag([word])[0][1]\n",
    "    if pos.startswith('N'):\n",
    "        return wordnet.NOUN\n",
    "    return None\n",
    "\n",
    "# Lọc các dòng có từ trong cột \"Word\" là danh từ\n",
    "noun_rows = df_word_counts[df_word_counts['Word'].apply(lambda x: get_word_pos(x) is not None)]\n",
    "noun_rows = noun_rows.reset_index(drop=True)\n",
    "noun_rows = noun_rows.sort_values(by='Count', ascending=False).reset_index(drop=True)\n",
    "# Hiển thị kết quả\n",
    "noun_rows.head()"
   ]
  },
  {
   "cell_type": "markdown",
   "id": "d14586bd",
   "metadata": {},
   "source": [
    "<span style=\"color: blue;\">NHẬN XÉT DATA FRAME <span>"
   ]
  },
  {
   "cell_type": "code",
   "execution_count": 51,
   "id": "3cd7ec06",
   "metadata": {},
   "outputs": [],
   "source": [
    "#1)Các từ như \"python\", \"tf\" (có thể là TensorFlow), \"function\", \"layer\", \"validation\", \"bug\" ,\"error\" xuất hiện nhiều trong cột \"Word\". Điều này cho thấy rằng commit thường liên quan các hàm, lớp, Python và TensorFlow và liên quan đến việc việc sửa lỗi, fix lỗi."
   ]
  },
  {
   "cell_type": "markdown",
   "id": "56096ae7",
   "metadata": {},
   "source": [
    "## Phân tích cột Commit Date"
   ]
  },
  {
   "cell_type": "markdown",
   "id": "8cf705ee",
   "metadata": {},
   "source": [
    "### Câu hỏi phân tích"
   ]
  },
  {
   "cell_type": "code",
   "execution_count": 52,
   "id": "c3caa804",
   "metadata": {},
   "outputs": [],
   "source": [
    "#1.Commit nào là commit được tạo sớm nhất và commit nào được tạo gần đây nhất?\n",
    "#2.Người dùng thường xuyên tạo commit vào giờ nào trong ngày?\n",
    "#3.Xu hướng tạo commit của người dùng vào buổi nào trong ngày?(Buổi sáng: 6h -> 11h---Buổi trưa: 11h -> 13h---Buổi chiều: 13h -> 18h---Buổi tối: 18h trở đi)"
   ]
  },
  {
   "cell_type": "markdown",
   "id": "f8afade8",
   "metadata": {},
   "source": [
    "### 1.Commit nào là commit được tạo sớm nhất và commit nào được tạo gần đây nhất?"
   ]
  },
  {
   "cell_type": "markdown",
   "id": "0e57127b",
   "metadata": {},
   "source": [
    "<span style=\"color: blue;\">THÔNG TIN VỀ COMMIT ĐƯỢC TẠO GẦN ĐÂY NHẤT <span>"
   ]
  },
  {
   "cell_type": "code",
   "execution_count": 53,
   "id": "fc125a69",
   "metadata": {},
   "outputs": [
    {
     "data": {
      "text/html": [
       "<div>\n",
       "<style scoped>\n",
       "    .dataframe tbody tr th:only-of-type {\n",
       "        vertical-align: middle;\n",
       "    }\n",
       "\n",
       "    .dataframe tbody tr th {\n",
       "        vertical-align: top;\n",
       "    }\n",
       "\n",
       "    .dataframe thead th {\n",
       "        text-align: right;\n",
       "    }\n",
       "</style>\n",
       "<table border=\"1\" class=\"dataframe\">\n",
       "  <thead>\n",
       "    <tr style=\"text-align: right;\">\n",
       "      <th></th>\n",
       "      <th>Commit ID</th>\n",
       "      <th>Commit Message</th>\n",
       "      <th>Commit Date</th>\n",
       "      <th>Changed Files</th>\n",
       "      <th>Num Changed Files</th>\n",
       "      <th>Additions</th>\n",
       "      <th>Deletions</th>\n",
       "      <th>Author Name</th>\n",
       "      <th>Author Email</th>\n",
       "    </tr>\n",
       "  </thead>\n",
       "  <tbody>\n",
       "    <tr>\n",
       "      <th>0</th>\n",
       "      <td>db5176773299b67a2a75c5889fb2aba7fd0fea8a</td>\n",
       "      <td>fix indent</td>\n",
       "      <td>2020-11-30 04:34:51</td>\n",
       "      <td>['tflearn/activations.py', 'tflearn/objectives...</td>\n",
       "      <td>2</td>\n",
       "      <td>12</td>\n",
       "      <td>14</td>\n",
       "      <td>aymericdamien</td>\n",
       "      <td>aymeric.damien@gmail.com</td>\n",
       "    </tr>\n",
       "  </tbody>\n",
       "</table>\n",
       "</div>"
      ],
      "text/plain": [
       "                                  Commit ID Commit Message  \\\n",
       "0  db5176773299b67a2a75c5889fb2aba7fd0fea8a     fix indent   \n",
       "\n",
       "          Commit Date                                      Changed Files  \\\n",
       "0 2020-11-30 04:34:51  ['tflearn/activations.py', 'tflearn/objectives...   \n",
       "\n",
       "   Num Changed Files  Additions  Deletions    Author Name  \\\n",
       "0                  2         12         14  aymericdamien   \n",
       "\n",
       "               Author Email  \n",
       "0  aymeric.damien@gmail.com  "
      ]
     },
     "execution_count": 53,
     "metadata": {},
     "output_type": "execute_result"
    }
   ],
   "source": [
    "df_copy=df.copy()\n",
    "max_commit = df_copy['Commit Date'].max()\n",
    "max_commit_df=df_copy.loc[df_copy['Commit Date']==max_commit]\n",
    "max_commit_df"
   ]
  },
  {
   "cell_type": "markdown",
   "id": "1ab82bba",
   "metadata": {},
   "source": [
    "<span style=\"color: blue;\">THÔNG TIN VỀ COMMIT ĐƯỢC TẠO SỚM NHẤT <span>"
   ]
  },
  {
   "cell_type": "code",
   "execution_count": 54,
   "id": "0a6e531e",
   "metadata": {},
   "outputs": [
    {
     "data": {
      "text/html": [
       "<div>\n",
       "<style scoped>\n",
       "    .dataframe tbody tr th:only-of-type {\n",
       "        vertical-align: middle;\n",
       "    }\n",
       "\n",
       "    .dataframe tbody tr th {\n",
       "        vertical-align: top;\n",
       "    }\n",
       "\n",
       "    .dataframe thead th {\n",
       "        text-align: right;\n",
       "    }\n",
       "</style>\n",
       "<table border=\"1\" class=\"dataframe\">\n",
       "  <thead>\n",
       "    <tr style=\"text-align: right;\">\n",
       "      <th></th>\n",
       "      <th>Commit ID</th>\n",
       "      <th>Commit Message</th>\n",
       "      <th>Commit Date</th>\n",
       "      <th>Changed Files</th>\n",
       "      <th>Num Changed Files</th>\n",
       "      <th>Additions</th>\n",
       "      <th>Deletions</th>\n",
       "      <th>Author Name</th>\n",
       "      <th>Author Email</th>\n",
       "    </tr>\n",
       "  </thead>\n",
       "  <tbody>\n",
       "    <tr>\n",
       "      <th>611</th>\n",
       "      <td>d421f2d1e51090e607634604ee80ff889410ddd2</td>\n",
       "      <td>fix examples link</td>\n",
       "      <td>2016-03-31 12:12:17</td>\n",
       "      <td>['README.md', 'docs/templates/examples.md', 'e...</td>\n",
       "      <td>3</td>\n",
       "      <td>3</td>\n",
       "      <td>3</td>\n",
       "      <td>aymericdamien</td>\n",
       "      <td>aymeric.damien@gmail.com</td>\n",
       "    </tr>\n",
       "  </tbody>\n",
       "</table>\n",
       "</div>"
      ],
      "text/plain": [
       "                                    Commit ID     Commit Message  \\\n",
       "611  d421f2d1e51090e607634604ee80ff889410ddd2  fix examples link   \n",
       "\n",
       "            Commit Date                                      Changed Files  \\\n",
       "611 2016-03-31 12:12:17  ['README.md', 'docs/templates/examples.md', 'e...   \n",
       "\n",
       "     Num Changed Files  Additions  Deletions    Author Name  \\\n",
       "611                  3          3          3  aymericdamien   \n",
       "\n",
       "                 Author Email  \n",
       "611  aymeric.damien@gmail.com  "
      ]
     },
     "execution_count": 54,
     "metadata": {},
     "output_type": "execute_result"
    }
   ],
   "source": [
    "min_commit = df_copy['Commit Date'].min()\n",
    "min_commit_df=df_copy.loc[df_copy['Commit Date']==min_commit]\n",
    "min_commit_df"
   ]
  },
  {
   "cell_type": "code",
   "execution_count": 55,
   "id": "541b3b3f",
   "metadata": {},
   "outputs": [],
   "source": [
    "del df_copy"
   ]
  },
  {
   "cell_type": "markdown",
   "id": "1b4ea447",
   "metadata": {},
   "source": [
    "### 2.Người dùng thường xuyên tạo commit vào giờ nào trong ngày?"
   ]
  },
  {
   "cell_type": "markdown",
   "id": "2e25acc2",
   "metadata": {},
   "source": [
    "<span style=\"color: blue;\">LẬP DATAFRAME THỂ HIỆN XU HƯỚNG TẠO COMMIT TRONG 24 GIỜ <span>"
   ]
  },
  {
   "cell_type": "code",
   "execution_count": 56,
   "id": "62e36a79",
   "metadata": {
    "scrolled": true
   },
   "outputs": [
    {
     "data": {
      "text/html": [
       "<div>\n",
       "<style scoped>\n",
       "    .dataframe tbody tr th:only-of-type {\n",
       "        vertical-align: middle;\n",
       "    }\n",
       "\n",
       "    .dataframe tbody tr th {\n",
       "        vertical-align: top;\n",
       "    }\n",
       "\n",
       "    .dataframe thead th {\n",
       "        text-align: right;\n",
       "    }\n",
       "</style>\n",
       "<table border=\"1\" class=\"dataframe\">\n",
       "  <thead>\n",
       "    <tr style=\"text-align: right;\">\n",
       "      <th></th>\n",
       "      <th>Time</th>\n",
       "      <th>Số lượng Commit</th>\n",
       "    </tr>\n",
       "  </thead>\n",
       "  <tbody>\n",
       "    <tr>\n",
       "      <th>0</th>\n",
       "      <td>13</td>\n",
       "      <td>9</td>\n",
       "    </tr>\n",
       "    <tr>\n",
       "      <th>1</th>\n",
       "      <td>8</td>\n",
       "      <td>13</td>\n",
       "    </tr>\n",
       "    <tr>\n",
       "      <th>2</th>\n",
       "      <td>0</td>\n",
       "      <td>13</td>\n",
       "    </tr>\n",
       "    <tr>\n",
       "      <th>3</th>\n",
       "      <td>5</td>\n",
       "      <td>14</td>\n",
       "    </tr>\n",
       "    <tr>\n",
       "      <th>4</th>\n",
       "      <td>21</td>\n",
       "      <td>17</td>\n",
       "    </tr>\n",
       "  </tbody>\n",
       "</table>\n",
       "</div>"
      ],
      "text/plain": [
       "   Time  Số lượng Commit\n",
       "0    13                9\n",
       "1     8               13\n",
       "2     0               13\n",
       "3     5               14\n",
       "4    21               17"
      ]
     },
     "execution_count": 56,
     "metadata": {},
     "output_type": "execute_result"
    }
   ],
   "source": [
    "df_copy=df.copy()\n",
    "# Chuyển đổi cột 'Commit Date' sang định dạng thời gian\n",
    "df_copy['Commit Date'] = pd.to_datetime(df_copy['Commit Date'])\n",
    "\n",
    "# Tạo cột mới chứa giờ của 'Commit Date'\n",
    "df_copy['Commit Date'] = df_copy['Commit Date'].dt.hour\n",
    "\n",
    "# Phân tích số lượng 'Commit Date'theo khoảng thời gian\n",
    "commit_counts = df_copy['Commit Date'].value_counts()\n",
    "\n",
    "\n",
    "# Tạo DataFrame mới với cột 'Time','Số lượng Commit'\n",
    "table_df = pd.DataFrame({'Time': commit_counts.index, 'Số lượng Commit': commit_counts.values})\n",
    "table_df = table_df.sort_values('Số lượng Commit').reset_index(drop=True)\n",
    "del df_copy\n",
    "table_df.head()"
   ]
  },
  {
   "cell_type": "markdown",
   "id": "ef5a640c",
   "metadata": {},
   "source": [
    "<span style=\"color: blue;\">VẼ BIỂU ĐỒ CỘT CHỒNG CHO DATAFRAME TRÊN<span>"
   ]
  },
  {
   "cell_type": "code",
   "execution_count": 57,
   "id": "21cd248a",
   "metadata": {},
   "outputs": [
    {
     "data": {
      "image/png": "[encoded data removed]",
      "text/plain": [
       "<Figure size 1000x600 with 1 Axes>"
      ]
     },
     "metadata": {},
     "output_type": "display_data"
    }
   ],
   "source": [
    "#Vẽ biểu đồ cột chồng\n",
    "sns.set(style=\"darkgrid\")\n",
    "plt.figure(figsize=(10,6))\n",
    "\n",
    "# Vẽ biểu đồ cột cho cột số lượng commit\n",
    "plt.bar(table_df['Time'], table_df['Số lượng Commit'], alpha=1, label='Commit Hour')\n",
    "\n",
    "plt.xlabel('Time')\n",
    "plt.ylabel('Số lượng')\n",
    "plt.title('Biểu đồ số lượng commit theo giờ trong ngày')\n",
    "plt.xticks(table_df['Time'])\n",
    "plt.legend()\n",
    "plt.savefig('6.png')\n",
    "plt.show()"
   ]
  },
  {
   "cell_type": "markdown",
   "id": "56e9b023",
   "metadata": {},
   "source": [
    "<span style=\"color: blue;\">NHẬN XÉT BIỂU ĐỒ</span>"
   ]
  },
  {
   "cell_type": "code",
   "execution_count": 58,
   "id": "40652ab9",
   "metadata": {},
   "outputs": [],
   "source": [
    "#Biểu đồ này biểu thị số lượng commit theo giờ trong ngày\n",
    "\n",
    "#1)Độ cao của các cột: Có một số giờ có số lượng commit cao như giờ 16, 20 và 19. Trong khi đó, có một số giờ có số lượng commit rất thấp hơn như giờ 13 và 5.\n",
    "#2)Mô hình tăng giảm: Có một mô hình tăng giảm trong số lượng commit trong ngày. Ví dụ, từ 0h đến 2h có sự tăng trưởng trong số lượng commit, từ 3h đến 5h có sự giảm đi, từ 5h đến 13h số lượng commit có xu hướng xuống thấp(có tăng ở mức 6-7h). Tiếp tục từ 13h số lượng commit tiếp tục và đạt đỉnh ở 16h, 19h ,20h và từ 20 h trở đi số commit giảm về đêm.\n",
    "\n",
    "#Từ biểu đồ ta nhận thấy người dùng có xu hướng làm việc về đêm muộn và khoảng thời gian chiều tối từ 16h đến 20h. Các khung giờ khác như 5h đến 13h có thể là khoảng thời gian làm việc chính của 1 ngày nên số lượng commit thể hiện là thấp nhất.\n"
   ]
  },
  {
   "cell_type": "markdown",
   "id": "64dea385",
   "metadata": {},
   "source": [
    "### 3.Xu hướng tạo commit của người dùng vào buổi nào trong ngày?(Buổi sáng: 6h -> 11h---Buổi trưa: 11h -> 13h---Buổi chiều: 13h -> 18h---Buổi tối: 18h trở đi)"
   ]
  },
  {
   "cell_type": "markdown",
   "id": "8f243b93",
   "metadata": {},
   "source": [
    "<span style=\"color: blue;\">LẬP DATAFRAME TÍNH SỐ LƯỢNG COMMIT TRONG CÁC BUỔI TRONG NGÀY<span>"
   ]
  },
  {
   "cell_type": "code",
   "execution_count": 59,
   "id": "bdd1941d",
   "metadata": {},
   "outputs": [
    {
     "data": {
      "text/html": [
       "<div>\n",
       "<style scoped>\n",
       "    .dataframe tbody tr th:only-of-type {\n",
       "        vertical-align: middle;\n",
       "    }\n",
       "\n",
       "    .dataframe tbody tr th {\n",
       "        vertical-align: top;\n",
       "    }\n",
       "\n",
       "    .dataframe thead th {\n",
       "        text-align: right;\n",
       "    }\n",
       "</style>\n",
       "<table border=\"1\" class=\"dataframe\">\n",
       "  <thead>\n",
       "    <tr style=\"text-align: right;\">\n",
       "      <th></th>\n",
       "      <th>Số lượng Commit</th>\n",
       "    </tr>\n",
       "    <tr>\n",
       "      <th>Buổi</th>\n",
       "      <th></th>\n",
       "    </tr>\n",
       "  </thead>\n",
       "  <tbody>\n",
       "    <tr>\n",
       "      <th>Buổi chiều</th>\n",
       "      <td>126</td>\n",
       "    </tr>\n",
       "    <tr>\n",
       "      <th>Buổi sáng</th>\n",
       "      <td>116</td>\n",
       "    </tr>\n",
       "    <tr>\n",
       "      <th>Buổi trưa</th>\n",
       "      <td>36</td>\n",
       "    </tr>\n",
       "    <tr>\n",
       "      <th>Buổi tối</th>\n",
       "      <td>282</td>\n",
       "    </tr>\n",
       "  </tbody>\n",
       "</table>\n",
       "</div>"
      ],
      "text/plain": [
       "            Số lượng Commit\n",
       "Buổi                       \n",
       "Buổi chiều              126\n",
       "Buổi sáng               116\n",
       "Buổi trưa                36\n",
       "Buổi tối                282"
      ]
     },
     "execution_count": 59,
     "metadata": {},
     "output_type": "execute_result"
    }
   ],
   "source": [
    "# Hàm giờ vào buổi\n",
    "def map_to_period(hour):\n",
    "    if 6 <= hour < 11:\n",
    "        return 'Buổi sáng'\n",
    "    elif 11 <= hour < 13:\n",
    "        return 'Buổi trưa'\n",
    "    elif 13 <= hour < 18:\n",
    "        return 'Buổi chiều'\n",
    "    else:\n",
    "        return 'Buổi tối'\n",
    "\n",
    "# Thêm cột \"Buổi\" vào DataFrame\n",
    "table_df['Buổi'] = table_df['Time'].apply(map_to_period)\n",
    "# Tính tổng số lượng theo buổi\n",
    "df_grouped = table_df.groupby('Buổi').sum()\n",
    "# Xóa cột \"Time\" khỏi DataFrame\n",
    "df_grouped = df_grouped.drop('Time', axis=1)\n",
    "df_grouped.head()"
   ]
  },
  {
   "cell_type": "markdown",
   "id": "f40b22b6",
   "metadata": {},
   "source": [
    "<span style=\"color: blue;\">VẼ BIỂU ĐỒ CỘT CHO DATAFRAME TRÊN<span>"
   ]
  },
  {
   "cell_type": "code",
   "execution_count": 60,
   "id": "6d6034a1",
   "metadata": {},
   "outputs": [
    {
     "data": {
      "image/png": "[encoded data removed]",
      "text/plain": [
       "<Figure size 1000x600 with 1 Axes>"
      ]
     },
     "metadata": {},
     "output_type": "display_data"
    }
   ],
   "source": [
    "# Vẽ biểu đồ cột\n",
    "ax = df_grouped.plot(kind='bar', rot=0,figsize=(10,6))\n",
    "\n",
    "# Hiển thị số trên các cột\n",
    "for p in ax.patches:\n",
    "    width = p.get_width()\n",
    "    height = p.get_height()\n",
    "    x, y = p.get_xy()    \n",
    "    ax.annotate(f'{height:.2f}', (x + width/2, y + height), ha='center', va='bottom')\n",
    "\n",
    "# Thiết lập tiêu đề và nhãn trục\n",
    "plt.title('Thói quen commit của người dùng tại các buổi trong ngày')\n",
    "plt.xlabel('Buổi trong ngày')\n",
    "plt.ylabel('Số lượng')\n",
    "plt.savefig('7.png')\n",
    "# Hiển thị biểu đồ\n",
    "plt.show()"
   ]
  },
  {
   "cell_type": "markdown",
   "id": "d5f759e2",
   "metadata": {},
   "source": [
    "<span style=\"color: blue;\">NHẬN XÉT BIỂU ĐỒ</span>"
   ]
  },
  {
   "cell_type": "code",
   "execution_count": 61,
   "id": "80f24507",
   "metadata": {},
   "outputs": [],
   "source": [
    "#Biểu đồ thể hiện số lượng commit theo buổi trong ngày (Buổi sáng: 6h -> 11h---Buổi trưa: 11h -> 13h---Buổi chiều: 13h -> 18h---Buổi tối: 18h trở đi)\n",
    "#1)Độ cao của các cột: Độ cao cột tăng dần theo thứ tự: trưa, sáng, chiều, tối\n",
    "\n",
    "#Từ biểu đồ ta nhận thấy người dùng có xu hướng làm việc vào buổi tối(18h- 5h sáng hôm sau), buổi sáng và buổi trưa có thể là thời gian học tập, làm việc và nghỉ ngơi của người dùng."
   ]
  },
  {
   "cell_type": "markdown",
   "id": "f519e570",
   "metadata": {},
   "source": [
    "## Phân tích cột Additions, Deletions, Num Changed Files"
   ]
  },
  {
   "cell_type": "markdown",
   "id": "e5482b62",
   "metadata": {},
   "source": [
    "### Câu hỏi phân tích"
   ]
  },
  {
   "cell_type": "code",
   "execution_count": 62,
   "id": "992e9a99",
   "metadata": {},
   "outputs": [],
   "source": [
    "#1.Tổng số lượng dòng thêm và xóa, số tập tin thay đổi trên tất cả các commit là bao nhiêu?Bình quân số lượng dòng thêm,xóa và số lượng tập tin thay đổi trên mỗi commit là bao nhiêu?\n",
    "#2.Có mối tương quan nào giữa số dòng thêm, số dòng xóa với số tập tin đã thay đổi không?"
   ]
  },
  {
   "cell_type": "markdown",
   "id": "c86ebb33",
   "metadata": {},
   "source": [
    "### 1.Tổng số lượng dòng thêm và xóa, số tập tin thay đổi trên tất cả các commit là bao nhiêu?Bình quân số lượng dòng thêm,xóa và số lượng tập tin thay đổi trên mỗi commit là bao nhiêu?"
   ]
  },
  {
   "cell_type": "markdown",
   "id": "806a426a",
   "metadata": {},
   "source": [
    "<span style=\"color: blue;\">TỔNG SỐ LƯỢNG DÒNG THÊM, XÓA, SỐ LƯỢNG TẬP TIN THAY ĐỔI TRÊN TẤT CẢ CÁC COMMIT<span>"
   ]
  },
  {
   "cell_type": "code",
   "execution_count": 63,
   "id": "4985bc78",
   "metadata": {},
   "outputs": [
    {
     "name": "stdout",
     "output_type": "stream",
     "text": [
      "Tổng số lượng dòng thêm được ghi lại trong dữ liệu: 11554\n"
     ]
    }
   ],
   "source": [
    "addition_count = (df['Additions']).sum()\n",
    "print(\"Tổng số lượng dòng thêm được ghi lại trong dữ liệu:\", addition_count)"
   ]
  },
  {
   "cell_type": "code",
   "execution_count": 64,
   "id": "de46430e",
   "metadata": {},
   "outputs": [
    {
     "name": "stdout",
     "output_type": "stream",
     "text": [
      "Tổng số lượng dòng xóa được ghi lại trong dữ liệu: 2617\n"
     ]
    }
   ],
   "source": [
    "deletion_count = (df['Deletions']).sum()\n",
    "print(\"Tổng số lượng dòng xóa được ghi lại trong dữ liệu:\", deletion_count)"
   ]
  },
  {
   "cell_type": "code",
   "execution_count": 65,
   "id": "126ef39b",
   "metadata": {},
   "outputs": [
    {
     "name": "stdout",
     "output_type": "stream",
     "text": [
      "Tổng số lượng tập tin thay đổi được ghi lại trong dữ liệu: 823\n"
     ]
    }
   ],
   "source": [
    "changed_file_count = (df['Num Changed Files']).sum()\n",
    "print(\"Tổng số lượng tập tin thay đổi được ghi lại trong dữ liệu:\", changed_file_count)"
   ]
  },
  {
   "cell_type": "markdown",
   "id": "cccff3ae",
   "metadata": {},
   "source": [
    "<span style=\"color: blue;\">BÌNH QUÂN SỐ LƯỢNG DÒNG THÊM, XÓA VÀ SỐ LƯỢNG TẬP TIN THAY ĐỔI TRÊN MỖI COMMIT<span>"
   ]
  },
  {
   "cell_type": "code",
   "execution_count": 66,
   "id": "41559871",
   "metadata": {},
   "outputs": [
    {
     "name": "stdout",
     "output_type": "stream",
     "text": [
      "Bình quân số lượng dòng thêm trên mỗi commit là: 20.632142857142856\n"
     ]
    }
   ],
   "source": [
    "commit_count = len(df['Commit ID'])\n",
    "print(\"Bình quân số lượng dòng thêm trên mỗi commit là:\",addition_count/commit_count)"
   ]
  },
  {
   "cell_type": "code",
   "execution_count": 67,
   "id": "f3a05b28",
   "metadata": {},
   "outputs": [
    {
     "name": "stdout",
     "output_type": "stream",
     "text": [
      "Bình quân số lượng dòng xóa trên mỗi commit là: 4.673214285714286\n"
     ]
    }
   ],
   "source": [
    "print(\"Bình quân số lượng dòng xóa trên mỗi commit là:\",deletion_count/commit_count)"
   ]
  },
  {
   "cell_type": "code",
   "execution_count": 68,
   "id": "68ec6db2",
   "metadata": {},
   "outputs": [
    {
     "name": "stdout",
     "output_type": "stream",
     "text": [
      "Bình quân số lượng tập tin thay đổi trên mỗi commit là: 1.4696428571428573\n"
     ]
    }
   ],
   "source": [
    "print(\"Bình quân số lượng tập tin thay đổi trên mỗi commit là:\",changed_file_count/commit_count)"
   ]
  },
  {
   "cell_type": "markdown",
   "id": "e436b49b",
   "metadata": {},
   "source": [
    "### 2.Có mối tương quan nào giữa số dòng thêm, số dòng xóa với số tập tin đã thay đổi không?"
   ]
  },
  {
   "cell_type": "markdown",
   "id": "08ab319b",
   "metadata": {},
   "source": [
    "<span style=\"color: blue;\">DATA FRAME THỂ HIỆN MỐI TƯƠNG QUAN GIỮA SỐ DÒNG THÊM, SỐ DÒNG XÓA VÀ SỐ TẬP TIN ĐÃ THAY ĐỔI<span>"
   ]
  },
  {
   "cell_type": "code",
   "execution_count": 69,
   "id": "2e8a3f86",
   "metadata": {},
   "outputs": [
    {
     "data": {
      "text/html": [
       "<div>\n",
       "<style scoped>\n",
       "    .dataframe tbody tr th:only-of-type {\n",
       "        vertical-align: middle;\n",
       "    }\n",
       "\n",
       "    .dataframe tbody tr th {\n",
       "        vertical-align: top;\n",
       "    }\n",
       "\n",
       "    .dataframe thead th {\n",
       "        text-align: right;\n",
       "    }\n",
       "</style>\n",
       "<table border=\"1\" class=\"dataframe\">\n",
       "  <thead>\n",
       "    <tr style=\"text-align: right;\">\n",
       "      <th></th>\n",
       "      <th>Additions</th>\n",
       "      <th>Deletions</th>\n",
       "      <th>Num Changed Files</th>\n",
       "    </tr>\n",
       "  </thead>\n",
       "  <tbody>\n",
       "    <tr>\n",
       "      <th>Additions</th>\n",
       "      <td>1.000000</td>\n",
       "      <td>0.258153</td>\n",
       "      <td>0.409760</td>\n",
       "    </tr>\n",
       "    <tr>\n",
       "      <th>Deletions</th>\n",
       "      <td>0.258153</td>\n",
       "      <td>1.000000</td>\n",
       "      <td>0.361865</td>\n",
       "    </tr>\n",
       "    <tr>\n",
       "      <th>Num Changed Files</th>\n",
       "      <td>0.409760</td>\n",
       "      <td>0.361865</td>\n",
       "      <td>1.000000</td>\n",
       "    </tr>\n",
       "  </tbody>\n",
       "</table>\n",
       "</div>"
      ],
      "text/plain": [
       "                   Additions  Deletions  Num Changed Files\n",
       "Additions           1.000000   0.258153           0.409760\n",
       "Deletions           0.258153   1.000000           0.361865\n",
       "Num Changed Files   0.409760   0.361865           1.000000"
      ]
     },
     "execution_count": 69,
     "metadata": {},
     "output_type": "execute_result"
    }
   ],
   "source": [
    "# Tính tương quan\n",
    "correlation = df[['Additions','Deletions','Num Changed Files']].corr()\n",
    "correlation"
   ]
  },
  {
   "cell_type": "markdown",
   "id": "75f66e1d",
   "metadata": {},
   "source": [
    "<span style=\"color: blue;\">NHẬN XÉT DATA FRAME<span>"
   ]
  },
  {
   "cell_type": "raw",
   "id": "c774e4f7",
   "metadata": {},
   "source": [
    "Không có mối tương quan rõ ràng nào giữa các yếu tố : Additions, Deletions, Num Changed Files"
   ]
  },
  {
   "cell_type": "markdown",
   "id": "65c18df9",
   "metadata": {},
   "source": [
    "## Phân tích cột Author Name"
   ]
  },
  {
   "cell_type": "markdown",
   "id": "2095f407",
   "metadata": {},
   "source": [
    "### Câu hỏi phân tích"
   ]
  },
  {
   "cell_type": "code",
   "execution_count": 70,
   "id": "5b969669",
   "metadata": {},
   "outputs": [],
   "source": [
    "#1.Có bao nhiêu tác giả khác nhau trong dữ liệu?Tác giả nào có số lượng commit nhiều nhất?Tác giả nào có số lượng commit ít nhất?\n",
    "#2.Tác giả nào có số dòng thay đổi lớn nhất và ít nhất trong tất cả commit của tác giả đó(tổng additions và deletions)?Tác giả nào có số tệp tin thay đổi nhiều nhất và ít nhất trong tất cả commit  của tác giả đó (num changed files)?\n",
    "#3.Các yêú tố Frequency(tần suất xuất hiện của 1 tác giả), Sum Deletions(tổng số dòng xóa trong tất cả các commit của 1 tác giả), Sum Changed Files(tổng số tập tin thay đổi trong tất cả các commit của 1 tác giả), Sum Additions + Deletions(tổng số dòng thay đổi trong tất cả các commit của 1 tác giả) có tương quan với nhau như thế nào ?\n",
    "#4.Tác giả nào đóng góp lâu nhất?\n",
    "#5.Có bao nhiêu tác giả đóng góp qua từng năm?"
   ]
  },
  {
   "cell_type": "markdown",
   "id": "41afab94",
   "metadata": {},
   "source": [
    "### 1.Có bao nhiêu tác giả khác nhau trong dữ liệu?Tác giả nào có số lượng commit nhiều nhất?Tác giả nào có số lượng commit ít nhất?"
   ]
  },
  {
   "cell_type": "markdown",
   "id": "d52ba6b8",
   "metadata": {},
   "source": [
    "<span style=\"color: blue;\">SỐ LƯỢNG TÁC GIẢ KHÁC NHAU TRONG DỮ LIỆU<span>"
   ]
  },
  {
   "cell_type": "code",
   "execution_count": 71,
   "id": "05274b07",
   "metadata": {},
   "outputs": [
    {
     "name": "stdout",
     "output_type": "stream",
     "text": [
      "Số lượng tác giả khác nhau trong dữ liệu là: 135\n"
     ]
    }
   ],
   "source": [
    "num_authors = df['Author Name'].nunique()\n",
    "print(\"Số lượng tác giả khác nhau trong dữ liệu là:\", num_authors)"
   ]
  },
  {
   "cell_type": "markdown",
   "id": "b7deb568",
   "metadata": {},
   "source": [
    "<span style=\"color: blue;\">DANH SÁCH CÁC TÁC GIẢ<span>"
   ]
  },
  {
   "cell_type": "code",
   "execution_count": 72,
   "id": "5f23cd88",
   "metadata": {},
   "outputs": [
    {
     "name": "stdout",
     "output_type": "stream",
     "text": [
      "Danh sách tác giả:\n"
     ]
    },
    {
     "data": {
      "text/plain": [
       "array(['aymericdamien', 'Hemant Rakesh', 'Karthikeyan Singaravelan',\n",
       "       'Aymeric Damien', 'vishal sharma', 'cgohlke', 'Ilari Pihlajisto',\n",
       "       'angrypark', 'Csaba Kertész', 'Gershom A', 'Aarni Koskela',\n",
       "       'ChemicalXandco', 'fraxmans', 'Andy1621', 'Akshay.L.Aradhya',\n",
       "       'Ahmet Hamza Emra', 'plooney', 'Kyle Kosic', 'John B Nelson',\n",
       "       'Tianxiang Gao', 'Christopher Brust', 'Chris Oelmueller', 'Legor',\n",
       "       'Amitayus', 'Torrencem', 'windog18', 'zhengyao jiang',\n",
       "       'Shuolongbj', 'exelents', 'willduan', 'Colin Skow', 'ArtiPyHeart',\n",
       "       'Ruslan Melnikov', 'Jesper Jaxing', 'Eduardo Pinho', 'WHAAAT',\n",
       "       'caoyi', 'Ryohei Kuroki', 'octy40', 'Jimsparkle', 'Kiran Karkera',\n",
       "       'psnegi', 'aos17-2016310607', 'Allen Guo', 'Ruslanmlnkv',\n",
       "       'Hunchul Park', 'Andy Port', 'Eric Perbos-Brinck', 'lipixun',\n",
       "       'Rokic', 'Ashley Williamson', 'Jiming Ye', 'Robin Kobus',\n",
       "       'Ethan Bennett', 'Jacob Clark', 'happynoom', 'wyj2046', '田至伟',\n",
       "       'Torben Peters', 'noguxun', 'Sergey Melekhin', 'David Chan',\n",
       "       'ziky90', 'ben', 'Chaitanya Joshi', 'jakubsimanek', 'Will',\n",
       "       'cristi-zz', 'IslandMan93', 'Jinsung-L', 'burness', 'Jaden Wang',\n",
       "       'Ken Shirriff', 'Илья Юрков', 'Burness Duan',\n",
       "       'Jóhannes Guðni Halldórsson', 'migueldsw', 'Zachary A Estela',\n",
       "       'color.branch', 'tgallice', 'Amir Bar', 'Islandman93',\n",
       "       'Jakub Simanek', '=', 'Nirmalya Ghosh', 'tyfkda', 'Felipe Farias',\n",
       "       'kengz', 'Chang-Uk Shin', 'rmno', 'Tim Meinhardt',\n",
       "       'Jules Gagnon-Marchand', 'Thomas Gallice', 'Wah Loon Keng',\n",
       "       'lachezarbozhkov', 'ichuang', 'Yunfeng Wang', 'HanKai', 'lfz',\n",
       "       'Katsunori Nakanishi', 'braddengross', 'mooskagh',\n",
       "       'Johannes Holzfuß', 'Elmar', 'Brandon Amos', 'Hvass-Labs',\n",
       "       'elvinpoon', 'Chas', 'Wieland Brendel', 'Aeefire',\n",
       "       'Pawel Szymanski', 'johangithub', 'Sean Löfgren', 'Yong Fu',\n",
       "       'Tallic', 'ranarag', 'Marvin Teichmann', 'Tyler Balsam',\n",
       "       'Will Ballard', 'tmeyer15', 'Yili Zhao', 'Donghoon Lee',\n",
       "       'junru shao', 'SnowWalkerJ', 'Nick Fyson', 'alex04309',\n",
       "       'Aziz Alto', 'fresiy8361', 'JohnAllen', 'jdsutton', 'Brett Naul',\n",
       "       'John Sutton', 'Adrian Lyjak', 'John Allen', 'David Dao'],\n",
       "      dtype=object)"
      ]
     },
     "execution_count": 72,
     "metadata": {},
     "output_type": "execute_result"
    }
   ],
   "source": [
    "authors = df['Author Name'].unique()\n",
    "print(\"Danh sách tác giả:\")\n",
    "authors"
   ]
  },
  {
   "cell_type": "markdown",
   "id": "e83ec666",
   "metadata": {},
   "source": [
    "<span style=\"color: blue;\">LẬP DATAFRAME THỂ HIỆN TẦN SUẤT XUẤT HIỆN CÁC TÁC GIẢ TRONG BẢNG DỮ LIỆU <span>"
   ]
  },
  {
   "cell_type": "code",
   "execution_count": 73,
   "id": "b862fbe2",
   "metadata": {},
   "outputs": [
    {
     "data": {
      "text/html": [
       "<div>\n",
       "<style scoped>\n",
       "    .dataframe tbody tr th:only-of-type {\n",
       "        vertical-align: middle;\n",
       "    }\n",
       "\n",
       "    .dataframe tbody tr th {\n",
       "        vertical-align: top;\n",
       "    }\n",
       "\n",
       "    .dataframe thead th {\n",
       "        text-align: right;\n",
       "    }\n",
       "</style>\n",
       "<table border=\"1\" class=\"dataframe\">\n",
       "  <thead>\n",
       "    <tr style=\"text-align: right;\">\n",
       "      <th></th>\n",
       "      <th>Author Name</th>\n",
       "      <th>Author Email</th>\n",
       "      <th>Frequency</th>\n",
       "    </tr>\n",
       "  </thead>\n",
       "  <tbody>\n",
       "    <tr>\n",
       "      <th>0</th>\n",
       "      <td>aymericdamien</td>\n",
       "      <td>aymeric.damien@gmail.com</td>\n",
       "      <td>191</td>\n",
       "    </tr>\n",
       "    <tr>\n",
       "      <th>1</th>\n",
       "      <td>Aymeric Damien</td>\n",
       "      <td>aymeric.damien@gmail.com</td>\n",
       "      <td>104</td>\n",
       "    </tr>\n",
       "    <tr>\n",
       "      <th>2</th>\n",
       "      <td>Will Ballard</td>\n",
       "      <td>wballard@mailframe.net</td>\n",
       "      <td>22</td>\n",
       "    </tr>\n",
       "    <tr>\n",
       "      <th>3</th>\n",
       "      <td>aymericdamien</td>\n",
       "      <td>damien@immomo.com</td>\n",
       "      <td>21</td>\n",
       "    </tr>\n",
       "    <tr>\n",
       "      <th>4</th>\n",
       "      <td>ichuang</td>\n",
       "      <td>ichuang@mit.edu</td>\n",
       "      <td>9</td>\n",
       "    </tr>\n",
       "    <tr>\n",
       "      <th>...</th>\n",
       "      <td>...</td>\n",
       "      <td>...</td>\n",
       "      <td>...</td>\n",
       "    </tr>\n",
       "    <tr>\n",
       "      <th>134</th>\n",
       "      <td>Jimsparkle</td>\n",
       "      <td>jimip6c12@gmail.com</td>\n",
       "      <td>1</td>\n",
       "    </tr>\n",
       "    <tr>\n",
       "      <th>135</th>\n",
       "      <td>Jiming Ye</td>\n",
       "      <td>415386365@qq.com</td>\n",
       "      <td>1</td>\n",
       "    </tr>\n",
       "    <tr>\n",
       "      <th>136</th>\n",
       "      <td>Jesper Jaxing</td>\n",
       "      <td>jesper.jaxing01@gmail.com</td>\n",
       "      <td>1</td>\n",
       "    </tr>\n",
       "    <tr>\n",
       "      <th>137</th>\n",
       "      <td>Jakub Simanek</td>\n",
       "      <td>simanek@spaceknow.com</td>\n",
       "      <td>1</td>\n",
       "    </tr>\n",
       "    <tr>\n",
       "      <th>138</th>\n",
       "      <td>田至伟</td>\n",
       "      <td>2473633698@qq.com</td>\n",
       "      <td>1</td>\n",
       "    </tr>\n",
       "  </tbody>\n",
       "</table>\n",
       "<p>139 rows × 3 columns</p>\n",
       "</div>"
      ],
      "text/plain": [
       "        Author Name               Author Email  Frequency\n",
       "0     aymericdamien   aymeric.damien@gmail.com        191\n",
       "1    Aymeric Damien   aymeric.damien@gmail.com        104\n",
       "2      Will Ballard     wballard@mailframe.net         22\n",
       "3     aymericdamien          damien@immomo.com         21\n",
       "4           ichuang            ichuang@mit.edu          9\n",
       "..              ...                        ...        ...\n",
       "134      Jimsparkle        jimip6c12@gmail.com          1\n",
       "135       Jiming Ye           415386365@qq.com          1\n",
       "136   Jesper Jaxing  jesper.jaxing01@gmail.com          1\n",
       "137   Jakub Simanek      simanek@spaceknow.com          1\n",
       "138             田至伟          2473633698@qq.com          1\n",
       "\n",
       "[139 rows x 3 columns]"
      ]
     },
     "execution_count": 73,
     "metadata": {},
     "output_type": "execute_result"
    }
   ],
   "source": [
    "# Đếm số lần xuất hiện của mỗi tác giả và email\n",
    "author_frequency = df.groupby(['Author Name', 'Author Email']).size().reset_index(name='Frequency')\n",
    "author_frequency = author_frequency.sort_values(by='Frequency', ascending=False).reset_index(drop=True)\n",
    "author_frequency"
   ]
  },
  {
   "cell_type": "markdown",
   "id": "bc7f0da3",
   "metadata": {},
   "source": [
    "<span style=\"color: blue;\">LẬP DATA FRAME THỂ HIỆN TẦN XUẤT TÁC GIẢ CÓ CÙNG SỐ COMMIT<span>"
   ]
  },
  {
   "cell_type": "code",
   "execution_count": 74,
   "id": "f70675af",
   "metadata": {},
   "outputs": [
    {
     "data": {
      "text/html": [
       "<div>\n",
       "<style scoped>\n",
       "    .dataframe tbody tr th:only-of-type {\n",
       "        vertical-align: middle;\n",
       "    }\n",
       "\n",
       "    .dataframe tbody tr th {\n",
       "        vertical-align: top;\n",
       "    }\n",
       "\n",
       "    .dataframe thead th {\n",
       "        text-align: right;\n",
       "    }\n",
       "</style>\n",
       "<table border=\"1\" class=\"dataframe\">\n",
       "  <thead>\n",
       "    <tr style=\"text-align: right;\">\n",
       "      <th></th>\n",
       "      <th>Frequency</th>\n",
       "      <th>Count</th>\n",
       "    </tr>\n",
       "  </thead>\n",
       "  <tbody>\n",
       "    <tr>\n",
       "      <th>0</th>\n",
       "      <td>1</td>\n",
       "      <td>94</td>\n",
       "    </tr>\n",
       "    <tr>\n",
       "      <th>1</th>\n",
       "      <td>2</td>\n",
       "      <td>23</td>\n",
       "    </tr>\n",
       "    <tr>\n",
       "      <th>2</th>\n",
       "      <td>3</td>\n",
       "      <td>9</td>\n",
       "    </tr>\n",
       "    <tr>\n",
       "      <th>3</th>\n",
       "      <td>4</td>\n",
       "      <td>3</td>\n",
       "    </tr>\n",
       "    <tr>\n",
       "      <th>4</th>\n",
       "      <td>5</td>\n",
       "      <td>1</td>\n",
       "    </tr>\n",
       "    <tr>\n",
       "      <th>5</th>\n",
       "      <td>6</td>\n",
       "      <td>1</td>\n",
       "    </tr>\n",
       "    <tr>\n",
       "      <th>6</th>\n",
       "      <td>7</td>\n",
       "      <td>2</td>\n",
       "    </tr>\n",
       "    <tr>\n",
       "      <th>7</th>\n",
       "      <td>9</td>\n",
       "      <td>2</td>\n",
       "    </tr>\n",
       "    <tr>\n",
       "      <th>8</th>\n",
       "      <td>21</td>\n",
       "      <td>1</td>\n",
       "    </tr>\n",
       "    <tr>\n",
       "      <th>9</th>\n",
       "      <td>22</td>\n",
       "      <td>1</td>\n",
       "    </tr>\n",
       "    <tr>\n",
       "      <th>10</th>\n",
       "      <td>104</td>\n",
       "      <td>1</td>\n",
       "    </tr>\n",
       "    <tr>\n",
       "      <th>11</th>\n",
       "      <td>191</td>\n",
       "      <td>1</td>\n",
       "    </tr>\n",
       "  </tbody>\n",
       "</table>\n",
       "</div>"
      ],
      "text/plain": [
       "    Frequency  Count\n",
       "0           1     94\n",
       "1           2     23\n",
       "2           3      9\n",
       "3           4      3\n",
       "4           5      1\n",
       "5           6      1\n",
       "6           7      2\n",
       "7           9      2\n",
       "8          21      1\n",
       "9          22      1\n",
       "10        104      1\n",
       "11        191      1"
      ]
     },
     "execution_count": 74,
     "metadata": {},
     "output_type": "execute_result"
    }
   ],
   "source": [
    "# Đếm số tác giả có cùng Frequency\n",
    "count_df = author_frequency.groupby('Frequency')['Author Name'].count().reset_index(name='Count')\n",
    "count_df"
   ]
  },
  {
   "cell_type": "markdown",
   "id": "6e909be1",
   "metadata": {},
   "source": [
    "<span style=\"color: blue;\">THÔNG TIN VỀ  CÁC TÁC GIẢ CÓ NHIỀU COMMIT NHẤT<span>"
   ]
  },
  {
   "cell_type": "code",
   "execution_count": 75,
   "id": "ceff1f2a",
   "metadata": {},
   "outputs": [
    {
     "data": {
      "text/html": [
       "<div>\n",
       "<style scoped>\n",
       "    .dataframe tbody tr th:only-of-type {\n",
       "        vertical-align: middle;\n",
       "    }\n",
       "\n",
       "    .dataframe tbody tr th {\n",
       "        vertical-align: top;\n",
       "    }\n",
       "\n",
       "    .dataframe thead th {\n",
       "        text-align: right;\n",
       "    }\n",
       "</style>\n",
       "<table border=\"1\" class=\"dataframe\">\n",
       "  <thead>\n",
       "    <tr style=\"text-align: right;\">\n",
       "      <th></th>\n",
       "      <th>Author Name</th>\n",
       "      <th>Author Email</th>\n",
       "      <th>Frequency</th>\n",
       "    </tr>\n",
       "  </thead>\n",
       "  <tbody>\n",
       "    <tr>\n",
       "      <th>0</th>\n",
       "      <td>aymericdamien</td>\n",
       "      <td>aymeric.damien@gmail.com</td>\n",
       "      <td>191</td>\n",
       "    </tr>\n",
       "  </tbody>\n",
       "</table>\n",
       "</div>"
      ],
      "text/plain": [
       "     Author Name              Author Email  Frequency\n",
       "0  aymericdamien  aymeric.damien@gmail.com        191"
      ]
     },
     "execution_count": 75,
     "metadata": {},
     "output_type": "execute_result"
    }
   ],
   "source": [
    "max_frequency_author=author_frequency['Frequency'].max()\n",
    "max_frequency_author=author_frequency.loc[author_frequency['Frequency']==max_frequency_author]\n",
    "max_frequency_author"
   ]
  },
  {
   "cell_type": "markdown",
   "id": "0a442898",
   "metadata": {},
   "source": [
    "<span style=\"color: blue;\">THÔNG TIN VỀ CÁC TÁC GIẢ CÓ ÍT COMMIT NHẤT<span>"
   ]
  },
  {
   "cell_type": "code",
   "execution_count": 76,
   "id": "f31ae732",
   "metadata": {},
   "outputs": [
    {
     "data": {
      "text/html": [
       "<div>\n",
       "<style scoped>\n",
       "    .dataframe tbody tr th:only-of-type {\n",
       "        vertical-align: middle;\n",
       "    }\n",
       "\n",
       "    .dataframe tbody tr th {\n",
       "        vertical-align: top;\n",
       "    }\n",
       "\n",
       "    .dataframe thead th {\n",
       "        text-align: right;\n",
       "    }\n",
       "</style>\n",
       "<table border=\"1\" class=\"dataframe\">\n",
       "  <thead>\n",
       "    <tr style=\"text-align: right;\">\n",
       "      <th></th>\n",
       "      <th>Author Name</th>\n",
       "      <th>Author Email</th>\n",
       "      <th>Frequency</th>\n",
       "    </tr>\n",
       "  </thead>\n",
       "  <tbody>\n",
       "    <tr>\n",
       "      <th>45</th>\n",
       "      <td>Wah Loon Keng</td>\n",
       "      <td>kengzwl@gmail.com</td>\n",
       "      <td>1</td>\n",
       "    </tr>\n",
       "    <tr>\n",
       "      <th>46</th>\n",
       "      <td>aos17-2016310607</td>\n",
       "      <td>ckf740925911@163.com</td>\n",
       "      <td>1</td>\n",
       "    </tr>\n",
       "    <tr>\n",
       "      <th>47</th>\n",
       "      <td>Илья Юрков</td>\n",
       "      <td>urkov@lightsoft.ru</td>\n",
       "      <td>1</td>\n",
       "    </tr>\n",
       "    <tr>\n",
       "      <th>48</th>\n",
       "      <td>angrypark</td>\n",
       "      <td>sungnam1108@naver.com</td>\n",
       "      <td>1</td>\n",
       "    </tr>\n",
       "    <tr>\n",
       "      <th>49</th>\n",
       "      <td>alex04309</td>\n",
       "      <td>alex04309@yopmail.com</td>\n",
       "      <td>1</td>\n",
       "    </tr>\n",
       "    <tr>\n",
       "      <th>...</th>\n",
       "      <td>...</td>\n",
       "      <td>...</td>\n",
       "      <td>...</td>\n",
       "    </tr>\n",
       "    <tr>\n",
       "      <th>134</th>\n",
       "      <td>Jimsparkle</td>\n",
       "      <td>jimip6c12@gmail.com</td>\n",
       "      <td>1</td>\n",
       "    </tr>\n",
       "    <tr>\n",
       "      <th>135</th>\n",
       "      <td>Jiming Ye</td>\n",
       "      <td>415386365@qq.com</td>\n",
       "      <td>1</td>\n",
       "    </tr>\n",
       "    <tr>\n",
       "      <th>136</th>\n",
       "      <td>Jesper Jaxing</td>\n",
       "      <td>jesper.jaxing01@gmail.com</td>\n",
       "      <td>1</td>\n",
       "    </tr>\n",
       "    <tr>\n",
       "      <th>137</th>\n",
       "      <td>Jakub Simanek</td>\n",
       "      <td>simanek@spaceknow.com</td>\n",
       "      <td>1</td>\n",
       "    </tr>\n",
       "    <tr>\n",
       "      <th>138</th>\n",
       "      <td>田至伟</td>\n",
       "      <td>2473633698@qq.com</td>\n",
       "      <td>1</td>\n",
       "    </tr>\n",
       "  </tbody>\n",
       "</table>\n",
       "<p>94 rows × 3 columns</p>\n",
       "</div>"
      ],
      "text/plain": [
       "          Author Name               Author Email  Frequency\n",
       "45      Wah Loon Keng          kengzwl@gmail.com          1\n",
       "46   aos17-2016310607       ckf740925911@163.com          1\n",
       "47         Илья Юрков         urkov@lightsoft.ru          1\n",
       "48          angrypark      sungnam1108@naver.com          1\n",
       "49          alex04309      alex04309@yopmail.com          1\n",
       "..                ...                        ...        ...\n",
       "134        Jimsparkle        jimip6c12@gmail.com          1\n",
       "135         Jiming Ye           415386365@qq.com          1\n",
       "136     Jesper Jaxing  jesper.jaxing01@gmail.com          1\n",
       "137     Jakub Simanek      simanek@spaceknow.com          1\n",
       "138               田至伟          2473633698@qq.com          1\n",
       "\n",
       "[94 rows x 3 columns]"
      ]
     },
     "execution_count": 76,
     "metadata": {},
     "output_type": "execute_result"
    }
   ],
   "source": [
    "min_frequency_author=author_frequency['Frequency'].min()\n",
    "min_frequency_author=author_frequency.loc[author_frequency['Frequency']==min_frequency_author]\n",
    "min_frequency_author"
   ]
  },
  {
   "cell_type": "markdown",
   "id": "fa73fa1b",
   "metadata": {},
   "source": [
    "### 2.Tác giả nào có số dòng thay đổi lớn nhất và ít nhất trong tất cả commit của tác giả đó(tổng additions và deletions)?Tác giả nào có số tệp tin thay đổi nhiều nhất và ít nhất trong tất cả commit  của tác giả đó (num changed files)?"
   ]
  },
  {
   "cell_type": "markdown",
   "id": "3c7eccd0",
   "metadata": {},
   "source": [
    "<span style=\"color: blue;\">LẬP DATA FRAME GỒM 5 CỘT AUTHOR NAME, AUTHOR EMAIL, SUM ADDITIONS, SUM DELETIONS, SUM CHANGED FILES, SUM ADDITIONS + DELETIONS<span>"
   ]
  },
  {
   "cell_type": "code",
   "execution_count": 77,
   "id": "d515759c",
   "metadata": {},
   "outputs": [
    {
     "data": {
      "text/html": [
       "<div>\n",
       "<style scoped>\n",
       "    .dataframe tbody tr th:only-of-type {\n",
       "        vertical-align: middle;\n",
       "    }\n",
       "\n",
       "    .dataframe tbody tr th {\n",
       "        vertical-align: top;\n",
       "    }\n",
       "\n",
       "    .dataframe thead th {\n",
       "        text-align: right;\n",
       "    }\n",
       "</style>\n",
       "<table border=\"1\" class=\"dataframe\">\n",
       "  <thead>\n",
       "    <tr style=\"text-align: right;\">\n",
       "      <th></th>\n",
       "      <th>Author Name</th>\n",
       "      <th>Frequency</th>\n",
       "      <th>Sum Additions</th>\n",
       "      <th>Sum Deletions</th>\n",
       "      <th>Sum Changed Files</th>\n",
       "      <th>Sum Additions + Deletions</th>\n",
       "      <th>Author Email</th>\n",
       "    </tr>\n",
       "  </thead>\n",
       "  <tbody>\n",
       "    <tr>\n",
       "      <th>0</th>\n",
       "      <td>aymericdamien</td>\n",
       "      <td>212</td>\n",
       "      <td>4896</td>\n",
       "      <td>1339</td>\n",
       "      <td>369</td>\n",
       "      <td>6235</td>\n",
       "      <td>damien@immomo.com</td>\n",
       "    </tr>\n",
       "    <tr>\n",
       "      <th>1</th>\n",
       "      <td>aymericdamien</td>\n",
       "      <td>212</td>\n",
       "      <td>4896</td>\n",
       "      <td>1339</td>\n",
       "      <td>369</td>\n",
       "      <td>6235</td>\n",
       "      <td>aymeric.damien@gmail.com</td>\n",
       "    </tr>\n",
       "    <tr>\n",
       "      <th>2</th>\n",
       "      <td>Aymeric Damien</td>\n",
       "      <td>105</td>\n",
       "      <td>1725</td>\n",
       "      <td>337</td>\n",
       "      <td>138</td>\n",
       "      <td>2062</td>\n",
       "      <td>aymeric.damien@gmail.com</td>\n",
       "    </tr>\n",
       "    <tr>\n",
       "      <th>3</th>\n",
       "      <td>Aymeric Damien</td>\n",
       "      <td>105</td>\n",
       "      <td>1725</td>\n",
       "      <td>337</td>\n",
       "      <td>138</td>\n",
       "      <td>2062</td>\n",
       "      <td>damien@immomo.com</td>\n",
       "    </tr>\n",
       "    <tr>\n",
       "      <th>4</th>\n",
       "      <td>Will Ballard</td>\n",
       "      <td>22</td>\n",
       "      <td>656</td>\n",
       "      <td>107</td>\n",
       "      <td>37</td>\n",
       "      <td>763</td>\n",
       "      <td>wballard@mailframe.net</td>\n",
       "    </tr>\n",
       "    <tr>\n",
       "      <th>...</th>\n",
       "      <td>...</td>\n",
       "      <td>...</td>\n",
       "      <td>...</td>\n",
       "      <td>...</td>\n",
       "      <td>...</td>\n",
       "      <td>...</td>\n",
       "      <td>...</td>\n",
       "    </tr>\n",
       "    <tr>\n",
       "      <th>134</th>\n",
       "      <td>Wieland Brendel</td>\n",
       "      <td>1</td>\n",
       "      <td>1</td>\n",
       "      <td>1</td>\n",
       "      <td>1</td>\n",
       "      <td>2</td>\n",
       "      <td>wielandbrendel@users.noreply.github.com</td>\n",
       "    </tr>\n",
       "    <tr>\n",
       "      <th>135</th>\n",
       "      <td>Zachary A Estela</td>\n",
       "      <td>1</td>\n",
       "      <td>1</td>\n",
       "      <td>1</td>\n",
       "      <td>1</td>\n",
       "      <td>2</td>\n",
       "      <td>zestela@gmail.com</td>\n",
       "    </tr>\n",
       "    <tr>\n",
       "      <th>136</th>\n",
       "      <td>alex04309</td>\n",
       "      <td>1</td>\n",
       "      <td>1</td>\n",
       "      <td>1</td>\n",
       "      <td>1</td>\n",
       "      <td>2</td>\n",
       "      <td>alex04309@yopmail.com</td>\n",
       "    </tr>\n",
       "    <tr>\n",
       "      <th>137</th>\n",
       "      <td>angrypark</td>\n",
       "      <td>1</td>\n",
       "      <td>1</td>\n",
       "      <td>1</td>\n",
       "      <td>1</td>\n",
       "      <td>2</td>\n",
       "      <td>sungnam1108@naver.com</td>\n",
       "    </tr>\n",
       "    <tr>\n",
       "      <th>138</th>\n",
       "      <td>田至伟</td>\n",
       "      <td>1</td>\n",
       "      <td>1</td>\n",
       "      <td>1</td>\n",
       "      <td>1</td>\n",
       "      <td>2</td>\n",
       "      <td>2473633698@qq.com</td>\n",
       "    </tr>\n",
       "  </tbody>\n",
       "</table>\n",
       "<p>139 rows × 7 columns</p>\n",
       "</div>"
      ],
      "text/plain": [
       "          Author Name  Frequency  Sum Additions  Sum Deletions  \\\n",
       "0       aymericdamien        212           4896           1339   \n",
       "1       aymericdamien        212           4896           1339   \n",
       "2      Aymeric Damien        105           1725            337   \n",
       "3      Aymeric Damien        105           1725            337   \n",
       "4        Will Ballard         22            656            107   \n",
       "..                ...        ...            ...            ...   \n",
       "134   Wieland Brendel          1              1              1   \n",
       "135  Zachary A Estela          1              1              1   \n",
       "136         alex04309          1              1              1   \n",
       "137         angrypark          1              1              1   \n",
       "138               田至伟          1              1              1   \n",
       "\n",
       "     Sum Changed Files  Sum Additions + Deletions  \\\n",
       "0                  369                       6235   \n",
       "1                  369                       6235   \n",
       "2                  138                       2062   \n",
       "3                  138                       2062   \n",
       "4                   37                        763   \n",
       "..                 ...                        ...   \n",
       "134                  1                          2   \n",
       "135                  1                          2   \n",
       "136                  1                          2   \n",
       "137                  1                          2   \n",
       "138                  1                          2   \n",
       "\n",
       "                                Author Email  \n",
       "0                          damien@immomo.com  \n",
       "1                   aymeric.damien@gmail.com  \n",
       "2                   aymeric.damien@gmail.com  \n",
       "3                          damien@immomo.com  \n",
       "4                     wballard@mailframe.net  \n",
       "..                                       ...  \n",
       "134  wielandbrendel@users.noreply.github.com  \n",
       "135                        zestela@gmail.com  \n",
       "136                    alex04309@yopmail.com  \n",
       "137                    sungnam1108@naver.com  \n",
       "138                        2473633698@qq.com  \n",
       "\n",
       "[139 rows x 7 columns]"
      ]
     },
     "execution_count": 77,
     "metadata": {},
     "output_type": "execute_result"
    }
   ],
   "source": [
    "# Đếm số lần Author xuất hiện trong bảng dữ liệu\n",
    "frequency_df = df.groupby('Author Name')['Author Name'].count().reset_index(name='Frequency')\n",
    "\n",
    "# Tính tổng Additions, Deletions, Changed Files của mỗi tác giả\n",
    "sum_additions_df = df.groupby('Author Name')['Additions'].sum().reset_index(name='Sum Additions')\n",
    "sum_deletions_df = df.groupby('Author Name')['Deletions'].sum().reset_index(name='Sum Deletions')\n",
    "sum_changed_files_df = df.groupby('Author Name')['Num Changed Files'].sum().reset_index(name='Sum Changed Files')\n",
    "\n",
    "# Kết hợp các DataFrame lại với nhau\n",
    "data = pd.merge(frequency_df, sum_additions_df, on='Author Name')\n",
    "data = pd.merge(data, sum_deletions_df, on='Author Name')\n",
    "data = pd.merge(data, sum_changed_files_df, on='Author Name')\n",
    "data['Sum Additions + Deletions']=data['Sum Additions']+data['Sum Deletions']\n",
    "data = pd.merge(data, df[['Author Name', 'Author Email']], on='Author Name').drop_duplicates()\n",
    "data = data.sort_values(by='Sum Additions + Deletions', ascending=False).reset_index(drop=True)\n",
    "data"
   ]
  },
  {
   "cell_type": "markdown",
   "id": "c6815b46",
   "metadata": {},
   "source": [
    "<span style=\"color: blue;\">THÔNG TIN VỀ CÁC TÁC GIẢ CÓ SỐ LƯỢNG DÒNG THAY ĐỔI NHIỀU NHẤT TRONG TẤT CẢ CÁC COMMIT CỦA TÁC GIẢ ĐÓ<span>"
   ]
  },
  {
   "cell_type": "code",
   "execution_count": 78,
   "id": "d78ffef6",
   "metadata": {},
   "outputs": [
    {
     "data": {
      "text/html": [
       "<div>\n",
       "<style scoped>\n",
       "    .dataframe tbody tr th:only-of-type {\n",
       "        vertical-align: middle;\n",
       "    }\n",
       "\n",
       "    .dataframe tbody tr th {\n",
       "        vertical-align: top;\n",
       "    }\n",
       "\n",
       "    .dataframe thead th {\n",
       "        text-align: right;\n",
       "    }\n",
       "</style>\n",
       "<table border=\"1\" class=\"dataframe\">\n",
       "  <thead>\n",
       "    <tr style=\"text-align: right;\">\n",
       "      <th></th>\n",
       "      <th>Author Name</th>\n",
       "      <th>Frequency</th>\n",
       "      <th>Sum Additions</th>\n",
       "      <th>Sum Deletions</th>\n",
       "      <th>Sum Changed Files</th>\n",
       "      <th>Sum Additions + Deletions</th>\n",
       "      <th>Author Email</th>\n",
       "    </tr>\n",
       "  </thead>\n",
       "  <tbody>\n",
       "    <tr>\n",
       "      <th>0</th>\n",
       "      <td>aymericdamien</td>\n",
       "      <td>212</td>\n",
       "      <td>4896</td>\n",
       "      <td>1339</td>\n",
       "      <td>369</td>\n",
       "      <td>6235</td>\n",
       "      <td>damien@immomo.com</td>\n",
       "    </tr>\n",
       "    <tr>\n",
       "      <th>1</th>\n",
       "      <td>aymericdamien</td>\n",
       "      <td>212</td>\n",
       "      <td>4896</td>\n",
       "      <td>1339</td>\n",
       "      <td>369</td>\n",
       "      <td>6235</td>\n",
       "      <td>aymeric.damien@gmail.com</td>\n",
       "    </tr>\n",
       "  </tbody>\n",
       "</table>\n",
       "</div>"
      ],
      "text/plain": [
       "     Author Name  Frequency  Sum Additions  Sum Deletions  Sum Changed Files  \\\n",
       "0  aymericdamien        212           4896           1339                369   \n",
       "1  aymericdamien        212           4896           1339                369   \n",
       "\n",
       "   Sum Additions + Deletions              Author Email  \n",
       "0                       6235         damien@immomo.com  \n",
       "1                       6235  aymeric.damien@gmail.com  "
      ]
     },
     "execution_count": 78,
     "metadata": {},
     "output_type": "execute_result"
    }
   ],
   "source": [
    "max_changed_author=data['Sum Additions + Deletions'].max()\n",
    "max_changed_author=data.loc[data['Sum Additions + Deletions']==max_changed_author]\n",
    "max_changed_author"
   ]
  },
  {
   "cell_type": "markdown",
   "id": "34fb0fda",
   "metadata": {},
   "source": [
    "<span style=\"color: blue;\">THÔNG TIN VỀ CÁC TÁC GIẢ CÓ SỐ LƯỢNG DÒNG THAY ĐỔI ÍT NHẤT TRONG TẤT CẢ CÁC COMMIT CỦA TÁC GIẢ ĐÓ<span>"
   ]
  },
  {
   "cell_type": "code",
   "execution_count": 79,
   "id": "39f46617",
   "metadata": {
    "scrolled": true
   },
   "outputs": [
    {
     "data": {
      "text/html": [
       "<div>\n",
       "<style scoped>\n",
       "    .dataframe tbody tr th:only-of-type {\n",
       "        vertical-align: middle;\n",
       "    }\n",
       "\n",
       "    .dataframe tbody tr th {\n",
       "        vertical-align: top;\n",
       "    }\n",
       "\n",
       "    .dataframe thead th {\n",
       "        text-align: right;\n",
       "    }\n",
       "</style>\n",
       "<table border=\"1\" class=\"dataframe\">\n",
       "  <thead>\n",
       "    <tr style=\"text-align: right;\">\n",
       "      <th></th>\n",
       "      <th>Author Name</th>\n",
       "      <th>Frequency</th>\n",
       "      <th>Sum Additions</th>\n",
       "      <th>Sum Deletions</th>\n",
       "      <th>Sum Changed Files</th>\n",
       "      <th>Sum Additions + Deletions</th>\n",
       "      <th>Author Email</th>\n",
       "    </tr>\n",
       "  </thead>\n",
       "  <tbody>\n",
       "    <tr>\n",
       "      <th>108</th>\n",
       "      <td>octy40</td>\n",
       "      <td>1</td>\n",
       "      <td>1</td>\n",
       "      <td>1</td>\n",
       "      <td>1</td>\n",
       "      <td>2</td>\n",
       "      <td>octy40@users.noreply.github.com</td>\n",
       "    </tr>\n",
       "    <tr>\n",
       "      <th>109</th>\n",
       "      <td>rmno</td>\n",
       "      <td>1</td>\n",
       "      <td>1</td>\n",
       "      <td>1</td>\n",
       "      <td>1</td>\n",
       "      <td>2</td>\n",
       "      <td>r.bodha@gmail.com</td>\n",
       "    </tr>\n",
       "    <tr>\n",
       "      <th>110</th>\n",
       "      <td>zhengyao jiang</td>\n",
       "      <td>1</td>\n",
       "      <td>1</td>\n",
       "      <td>1</td>\n",
       "      <td>1</td>\n",
       "      <td>2</td>\n",
       "      <td>jzyjiangzhengyao@gmail.com</td>\n",
       "    </tr>\n",
       "    <tr>\n",
       "      <th>111</th>\n",
       "      <td>noguxun</td>\n",
       "      <td>1</td>\n",
       "      <td>1</td>\n",
       "      <td>1</td>\n",
       "      <td>1</td>\n",
       "      <td>2</td>\n",
       "      <td>noguxun@gmail.com</td>\n",
       "    </tr>\n",
       "    <tr>\n",
       "      <th>112</th>\n",
       "      <td>tyfkda</td>\n",
       "      <td>1</td>\n",
       "      <td>1</td>\n",
       "      <td>1</td>\n",
       "      <td>1</td>\n",
       "      <td>2</td>\n",
       "      <td>tyfkda@gmail.com</td>\n",
       "    </tr>\n",
       "  </tbody>\n",
       "</table>\n",
       "</div>"
      ],
      "text/plain": [
       "        Author Name  Frequency  Sum Additions  Sum Deletions  \\\n",
       "108          octy40          1              1              1   \n",
       "109            rmno          1              1              1   \n",
       "110  zhengyao jiang          1              1              1   \n",
       "111         noguxun          1              1              1   \n",
       "112          tyfkda          1              1              1   \n",
       "\n",
       "     Sum Changed Files  Sum Additions + Deletions  \\\n",
       "108                  1                          2   \n",
       "109                  1                          2   \n",
       "110                  1                          2   \n",
       "111                  1                          2   \n",
       "112                  1                          2   \n",
       "\n",
       "                        Author Email  \n",
       "108  octy40@users.noreply.github.com  \n",
       "109                r.bodha@gmail.com  \n",
       "110       jzyjiangzhengyao@gmail.com  \n",
       "111                noguxun@gmail.com  \n",
       "112                 tyfkda@gmail.com  "
      ]
     },
     "execution_count": 79,
     "metadata": {},
     "output_type": "execute_result"
    }
   ],
   "source": [
    "min_changed_author=data['Sum Additions + Deletions'].min()\n",
    "min_changed_author=data.loc[data['Sum Additions + Deletions']==min_changed_author]\n",
    "min_changed_author.head()"
   ]
  },
  {
   "cell_type": "markdown",
   "id": "964aa7da",
   "metadata": {},
   "source": [
    "<span style=\"color: blue;\">THÔNG TIN VỀ CÁC TÁC GIẢ CÓ SỐ LƯỢNG TỆP TIN THAY ĐỔI NHIỀU NHẤT TRONG TẤT CẢ CÁC COMMIT CỦA TÁC GIẢ ĐÓ<span>"
   ]
  },
  {
   "cell_type": "code",
   "execution_count": 80,
   "id": "24d232f8",
   "metadata": {},
   "outputs": [
    {
     "data": {
      "text/html": [
       "<div>\n",
       "<style scoped>\n",
       "    .dataframe tbody tr th:only-of-type {\n",
       "        vertical-align: middle;\n",
       "    }\n",
       "\n",
       "    .dataframe tbody tr th {\n",
       "        vertical-align: top;\n",
       "    }\n",
       "\n",
       "    .dataframe thead th {\n",
       "        text-align: right;\n",
       "    }\n",
       "</style>\n",
       "<table border=\"1\" class=\"dataframe\">\n",
       "  <thead>\n",
       "    <tr style=\"text-align: right;\">\n",
       "      <th></th>\n",
       "      <th>Author Name</th>\n",
       "      <th>Frequency</th>\n",
       "      <th>Sum Additions</th>\n",
       "      <th>Sum Deletions</th>\n",
       "      <th>Sum Changed Files</th>\n",
       "      <th>Sum Additions + Deletions</th>\n",
       "      <th>Author Email</th>\n",
       "    </tr>\n",
       "  </thead>\n",
       "  <tbody>\n",
       "    <tr>\n",
       "      <th>0</th>\n",
       "      <td>aymericdamien</td>\n",
       "      <td>212</td>\n",
       "      <td>4896</td>\n",
       "      <td>1339</td>\n",
       "      <td>369</td>\n",
       "      <td>6235</td>\n",
       "      <td>damien@immomo.com</td>\n",
       "    </tr>\n",
       "    <tr>\n",
       "      <th>1</th>\n",
       "      <td>aymericdamien</td>\n",
       "      <td>212</td>\n",
       "      <td>4896</td>\n",
       "      <td>1339</td>\n",
       "      <td>369</td>\n",
       "      <td>6235</td>\n",
       "      <td>aymeric.damien@gmail.com</td>\n",
       "    </tr>\n",
       "  </tbody>\n",
       "</table>\n",
       "</div>"
      ],
      "text/plain": [
       "     Author Name  Frequency  Sum Additions  Sum Deletions  Sum Changed Files  \\\n",
       "0  aymericdamien        212           4896           1339                369   \n",
       "1  aymericdamien        212           4896           1339                369   \n",
       "\n",
       "   Sum Additions + Deletions              Author Email  \n",
       "0                       6235         damien@immomo.com  \n",
       "1                       6235  aymeric.damien@gmail.com  "
      ]
     },
     "execution_count": 80,
     "metadata": {},
     "output_type": "execute_result"
    }
   ],
   "source": [
    "max_changed_author=data['Sum Changed Files'].max()\n",
    "max_changed_author=data.loc[data['Sum Changed Files']==max_changed_author]\n",
    "max_changed_author"
   ]
  },
  {
   "cell_type": "markdown",
   "id": "89350aae",
   "metadata": {},
   "source": [
    "<span style=\"color: blue;\">THÔNG TIN VỀ CÁC TÁC GIẢ CÓ SỐ LƯỢNG TỆP TIN THAY ĐỔI ÍT NHẤT TRONG TẤT CẢ CÁC COMMIT CỦA TÁC GIẢ ĐÓ<span>"
   ]
  },
  {
   "cell_type": "code",
   "execution_count": 81,
   "id": "c32f580c",
   "metadata": {
    "scrolled": true
   },
   "outputs": [
    {
     "data": {
      "text/html": [
       "<div>\n",
       "<style scoped>\n",
       "    .dataframe tbody tr th:only-of-type {\n",
       "        vertical-align: middle;\n",
       "    }\n",
       "\n",
       "    .dataframe tbody tr th {\n",
       "        vertical-align: top;\n",
       "    }\n",
       "\n",
       "    .dataframe thead th {\n",
       "        text-align: right;\n",
       "    }\n",
       "</style>\n",
       "<table border=\"1\" class=\"dataframe\">\n",
       "  <thead>\n",
       "    <tr style=\"text-align: right;\">\n",
       "      <th></th>\n",
       "      <th>Author Name</th>\n",
       "      <th>Frequency</th>\n",
       "      <th>Sum Additions</th>\n",
       "      <th>Sum Deletions</th>\n",
       "      <th>Sum Changed Files</th>\n",
       "      <th>Sum Additions + Deletions</th>\n",
       "      <th>Author Email</th>\n",
       "    </tr>\n",
       "  </thead>\n",
       "  <tbody>\n",
       "    <tr>\n",
       "      <th>20</th>\n",
       "      <td>Amitayus</td>\n",
       "      <td>1</td>\n",
       "      <td>41</td>\n",
       "      <td>45</td>\n",
       "      <td>1</td>\n",
       "      <td>86</td>\n",
       "      <td>Amitayus@users.noreply.github.com</td>\n",
       "    </tr>\n",
       "    <tr>\n",
       "      <th>22</th>\n",
       "      <td>JohnAllen</td>\n",
       "      <td>1</td>\n",
       "      <td>77</td>\n",
       "      <td>0</td>\n",
       "      <td>1</td>\n",
       "      <td>77</td>\n",
       "      <td>johnjalleniii@gmail.com</td>\n",
       "    </tr>\n",
       "    <tr>\n",
       "      <th>26</th>\n",
       "      <td>aos17-2016310607</td>\n",
       "      <td>1</td>\n",
       "      <td>65</td>\n",
       "      <td>0</td>\n",
       "      <td>1</td>\n",
       "      <td>65</td>\n",
       "      <td>ckf740925911@163.com</td>\n",
       "    </tr>\n",
       "    <tr>\n",
       "      <th>29</th>\n",
       "      <td>Hvass-Labs</td>\n",
       "      <td>1</td>\n",
       "      <td>34</td>\n",
       "      <td>20</td>\n",
       "      <td>1</td>\n",
       "      <td>54</td>\n",
       "      <td>Hvass-Labs@users.noreply.github.com</td>\n",
       "    </tr>\n",
       "    <tr>\n",
       "      <th>37</th>\n",
       "      <td>Jiming Ye</td>\n",
       "      <td>1</td>\n",
       "      <td>17</td>\n",
       "      <td>23</td>\n",
       "      <td>1</td>\n",
       "      <td>40</td>\n",
       "      <td>415386365@qq.com</td>\n",
       "    </tr>\n",
       "  </tbody>\n",
       "</table>\n",
       "</div>"
      ],
      "text/plain": [
       "         Author Name  Frequency  Sum Additions  Sum Deletions  \\\n",
       "20          Amitayus          1             41             45   \n",
       "22         JohnAllen          1             77              0   \n",
       "26  aos17-2016310607          1             65              0   \n",
       "29        Hvass-Labs          1             34             20   \n",
       "37         Jiming Ye          1             17             23   \n",
       "\n",
       "    Sum Changed Files  Sum Additions + Deletions  \\\n",
       "20                  1                         86   \n",
       "22                  1                         77   \n",
       "26                  1                         65   \n",
       "29                  1                         54   \n",
       "37                  1                         40   \n",
       "\n",
       "                           Author Email  \n",
       "20    Amitayus@users.noreply.github.com  \n",
       "22              johnjalleniii@gmail.com  \n",
       "26                 ckf740925911@163.com  \n",
       "29  Hvass-Labs@users.noreply.github.com  \n",
       "37                     415386365@qq.com  "
      ]
     },
     "execution_count": 81,
     "metadata": {},
     "output_type": "execute_result"
    }
   ],
   "source": [
    "min_changed_author=data['Sum Changed Files'].min()\n",
    "min_changed_author=data.loc[data['Sum Changed Files']==min_changed_author]\n",
    "min_changed_author.head()"
   ]
  },
  {
   "cell_type": "markdown",
   "id": "bb828828",
   "metadata": {},
   "source": [
    "### 3.Các yêú tố Frequency(tần suất xuất hiện của 1 tác giả), Sum Deletions(tổng số dòng xóa trong tất cả các commit của 1 tác giả), Sum Changed Files(tổng số tập tin thay đổi trong tất cả các commit của 1 tác giả), Sum Additions + Deletions(tổng số dòng thay đổi trong tất cả các commit của 1 tác giả) có tương quan với nhau như thế nào ?"
   ]
  },
  {
   "cell_type": "markdown",
   "id": "d5afd39b",
   "metadata": {},
   "source": [
    "<span style=\"color: blue;\">LẬP MA TRẬN TƯƠNG QUAN GIỮA CÁC YẾU TỐ FREQUENCY, SUM DELETIONS, SUM ADDITIONS, SUM CHANGED FILES, SUM ADDITIONS + DELETIONS<span>"
   ]
  },
  {
   "cell_type": "code",
   "execution_count": 82,
   "id": "dfd31ffc",
   "metadata": {},
   "outputs": [
    {
     "data": {
      "text/html": [
       "<div>\n",
       "<style scoped>\n",
       "    .dataframe tbody tr th:only-of-type {\n",
       "        vertical-align: middle;\n",
       "    }\n",
       "\n",
       "    .dataframe tbody tr th {\n",
       "        vertical-align: top;\n",
       "    }\n",
       "\n",
       "    .dataframe thead th {\n",
       "        text-align: right;\n",
       "    }\n",
       "</style>\n",
       "<table border=\"1\" class=\"dataframe\">\n",
       "  <thead>\n",
       "    <tr style=\"text-align: right;\">\n",
       "      <th></th>\n",
       "      <th>Frequency</th>\n",
       "      <th>Sum Deletions</th>\n",
       "      <th>Sum Additions</th>\n",
       "      <th>Sum Changed Files</th>\n",
       "      <th>Sum Additions + Deletions</th>\n",
       "    </tr>\n",
       "  </thead>\n",
       "  <tbody>\n",
       "    <tr>\n",
       "      <th>Frequency</th>\n",
       "      <td>1.000000</td>\n",
       "      <td>0.975115</td>\n",
       "      <td>0.987827</td>\n",
       "      <td>0.994504</td>\n",
       "      <td>0.986746</td>\n",
       "    </tr>\n",
       "    <tr>\n",
       "      <th>Sum Deletions</th>\n",
       "      <td>0.975115</td>\n",
       "      <td>1.000000</td>\n",
       "      <td>0.990305</td>\n",
       "      <td>0.992238</td>\n",
       "      <td>0.993940</td>\n",
       "    </tr>\n",
       "    <tr>\n",
       "      <th>Sum Additions</th>\n",
       "      <td>0.987827</td>\n",
       "      <td>0.990305</td>\n",
       "      <td>1.000000</td>\n",
       "      <td>0.995605</td>\n",
       "      <td>0.999573</td>\n",
       "    </tr>\n",
       "    <tr>\n",
       "      <th>Sum Changed Files</th>\n",
       "      <td>0.994504</td>\n",
       "      <td>0.992238</td>\n",
       "      <td>0.995605</td>\n",
       "      <td>1.000000</td>\n",
       "      <td>0.996502</td>\n",
       "    </tr>\n",
       "    <tr>\n",
       "      <th>Sum Additions + Deletions</th>\n",
       "      <td>0.986746</td>\n",
       "      <td>0.993940</td>\n",
       "      <td>0.999573</td>\n",
       "      <td>0.996502</td>\n",
       "      <td>1.000000</td>\n",
       "    </tr>\n",
       "  </tbody>\n",
       "</table>\n",
       "</div>"
      ],
      "text/plain": [
       "                           Frequency  Sum Deletions  Sum Additions  \\\n",
       "Frequency                   1.000000       0.975115       0.987827   \n",
       "Sum Deletions               0.975115       1.000000       0.990305   \n",
       "Sum Additions               0.987827       0.990305       1.000000   \n",
       "Sum Changed Files           0.994504       0.992238       0.995605   \n",
       "Sum Additions + Deletions   0.986746       0.993940       0.999573   \n",
       "\n",
       "                           Sum Changed Files  Sum Additions + Deletions  \n",
       "Frequency                           0.994504                   0.986746  \n",
       "Sum Deletions                       0.992238                   0.993940  \n",
       "Sum Additions                       0.995605                   0.999573  \n",
       "Sum Changed Files                   1.000000                   0.996502  \n",
       "Sum Additions + Deletions           0.996502                   1.000000  "
      ]
     },
     "execution_count": 82,
     "metadata": {},
     "output_type": "execute_result"
    }
   ],
   "source": [
    "# Tính tương quan\n",
    "correlation = data[['Frequency', 'Sum Deletions','Sum Additions', 'Sum Changed Files', 'Sum Additions + Deletions']].corr()\n",
    "correlation"
   ]
  },
  {
   "cell_type": "markdown",
   "id": "08335e5b",
   "metadata": {},
   "source": [
    "<span style=\"color: blue;\">NHẬN XÉT DATA FRAME<span>"
   ]
  },
  {
   "cell_type": "code",
   "execution_count": 83,
   "id": "4d3dfbb1",
   "metadata": {},
   "outputs": [],
   "source": [
    "#Có mối tương quan rất rõ giữa các yếu tố Frequency, Sum Deletions, Sum Additions, Sum Changed Files, Sum Additions + Deletions.\n",
    "\n",
    "#Từ đó ta thấy được các tác giả đóng góp nhiều commit thường có thì cũng có xu hướng đóng góp nhiều trong việc chỉnh xửa, fix lỗi cho các file, các tập tin một cách rất cẩn thận"
   ]
  },
  {
   "cell_type": "markdown",
   "id": "8d9811d3",
   "metadata": {},
   "source": [
    "### 4.Tác giả nào đóng góp lâu nhất?"
   ]
  },
  {
   "cell_type": "markdown",
   "id": "8a0f2f96",
   "metadata": {},
   "source": [
    "<span style=\"color: blue;\">LẬP DATA FRAME TÌM CÁC TÁC GIẢ CÓ ĐÓNG GÓP 4 NĂM(VÌ KHÔNG CÓ AI ĐÓNG GÓP 5 NĂM)"
   ]
  },
  {
   "cell_type": "code",
   "execution_count": 84,
   "id": "a84732df",
   "metadata": {},
   "outputs": [
    {
     "data": {
      "text/html": [
       "<div>\n",
       "<style scoped>\n",
       "    .dataframe tbody tr th:only-of-type {\n",
       "        vertical-align: middle;\n",
       "    }\n",
       "\n",
       "    .dataframe tbody tr th {\n",
       "        vertical-align: top;\n",
       "    }\n",
       "\n",
       "    .dataframe thead th {\n",
       "        text-align: right;\n",
       "    }\n",
       "</style>\n",
       "<table border=\"1\" class=\"dataframe\">\n",
       "  <thead>\n",
       "    <tr style=\"text-align: right;\">\n",
       "      <th></th>\n",
       "      <th>Author Name</th>\n",
       "      <th>Author Email</th>\n",
       "    </tr>\n",
       "  </thead>\n",
       "  <tbody>\n",
       "    <tr>\n",
       "      <th>0</th>\n",
       "      <td>aymericdamien</td>\n",
       "      <td>aymeric.damien@gmail.com</td>\n",
       "    </tr>\n",
       "    <tr>\n",
       "      <th>4</th>\n",
       "      <td>Aymeric Damien</td>\n",
       "      <td>aymeric.damien@gmail.com</td>\n",
       "    </tr>\n",
       "    <tr>\n",
       "      <th>495</th>\n",
       "      <td>aymericdamien</td>\n",
       "      <td>damien@immomo.com</td>\n",
       "    </tr>\n",
       "    <tr>\n",
       "      <th>590</th>\n",
       "      <td>Aymeric Damien</td>\n",
       "      <td>damien@immomo.com</td>\n",
       "    </tr>\n",
       "  </tbody>\n",
       "</table>\n",
       "</div>"
      ],
      "text/plain": [
       "        Author Name              Author Email\n",
       "0     aymericdamien  aymeric.damien@gmail.com\n",
       "4    Aymeric Damien  aymeric.damien@gmail.com\n",
       "495   aymericdamien         damien@immomo.com\n",
       "590  Aymeric Damien         damien@immomo.com"
      ]
     },
     "execution_count": 84,
     "metadata": {},
     "output_type": "execute_result"
    }
   ],
   "source": [
    "# Chuyển đổi cột 'Commit Date' sang định dạng datetime\n",
    "df['Commit Date'] = pd.to_datetime(df['Commit Date'])\n",
    "\n",
    "# Lấy danh sách các tác giả\n",
    "authors = df['Author Name'].unique()\n",
    "\n",
    "filtered_authors = []\n",
    "for author in authors:\n",
    "    author_df = df[df['Author Name'] == author]\n",
    "    years_with_commit = author_df['Commit Date'].dt.year.unique()\n",
    "    if len(years_with_commit) == 4 and len(df['Commit Date'].dt.year.unique()) == 5:\n",
    "        filtered_authors.append(author)\n",
    "\n",
    "# Lọc ra dataframe mới với các tác giả thỏa mãn điều kiện\n",
    "filtered_df = df[df['Author Name'].isin(filtered_authors)][['Author Name', 'Author Email']].drop_duplicates()\n",
    "\n",
    "filtered_df\n"
   ]
  },
  {
   "cell_type": "code",
   "execution_count": 85,
   "id": "71fd5901",
   "metadata": {},
   "outputs": [],
   "source": [
    "#Tác giả có đóng góp lâu nhất là tác giả aymericdamien"
   ]
  },
  {
   "cell_type": "markdown",
   "id": "e95c9d17",
   "metadata": {},
   "source": [
    "<span style=\"color: blue;\">LẬP DATA FRAME TÌM CÁC TÁC GIẢ CÓ ĐÓNG GÓP 2 NĂM(VÌ KHÔNG CÓ AI ĐÓNG GÓP 3 NĂM)"
   ]
  },
  {
   "cell_type": "code",
   "execution_count": 86,
   "id": "4c2b84e7",
   "metadata": {},
   "outputs": [
    {
     "data": {
      "text/html": [
       "<div>\n",
       "<style scoped>\n",
       "    .dataframe tbody tr th:only-of-type {\n",
       "        vertical-align: middle;\n",
       "    }\n",
       "\n",
       "    .dataframe tbody tr th {\n",
       "        vertical-align: top;\n",
       "    }\n",
       "\n",
       "    .dataframe thead th {\n",
       "        text-align: right;\n",
       "    }\n",
       "</style>\n",
       "<table border=\"1\" class=\"dataframe\">\n",
       "  <thead>\n",
       "    <tr style=\"text-align: right;\">\n",
       "      <th></th>\n",
       "      <th>Author Name</th>\n",
       "      <th>Author Email</th>\n",
       "    </tr>\n",
       "  </thead>\n",
       "  <tbody>\n",
       "    <tr>\n",
       "      <th>8</th>\n",
       "      <td>vishal sharma</td>\n",
       "      <td>vishal.sharma@usu.edu</td>\n",
       "    </tr>\n",
       "    <tr>\n",
       "      <th>10</th>\n",
       "      <td>Ilari Pihlajisto</td>\n",
       "      <td>ilaripih@gmail.com</td>\n",
       "    </tr>\n",
       "    <tr>\n",
       "      <th>40</th>\n",
       "      <td>Ilari Pihlajisto</td>\n",
       "      <td>ilari.pihlajisto@mbnet.fi</td>\n",
       "    </tr>\n",
       "    <tr>\n",
       "      <th>85</th>\n",
       "      <td>psnegi</td>\n",
       "      <td>psnegi@users.noreply.github.com</td>\n",
       "    </tr>\n",
       "    <tr>\n",
       "      <th>185</th>\n",
       "      <td>ziky90</td>\n",
       "      <td>zikes@spaceknow.com</td>\n",
       "    </tr>\n",
       "  </tbody>\n",
       "</table>\n",
       "</div>"
      ],
      "text/plain": [
       "          Author Name                     Author Email\n",
       "8       vishal sharma            vishal.sharma@usu.edu\n",
       "10   Ilari Pihlajisto               ilaripih@gmail.com\n",
       "40   Ilari Pihlajisto        ilari.pihlajisto@mbnet.fi\n",
       "85             psnegi  psnegi@users.noreply.github.com\n",
       "185            ziky90              zikes@spaceknow.com"
      ]
     },
     "execution_count": 86,
     "metadata": {},
     "output_type": "execute_result"
    }
   ],
   "source": [
    "# Chuyển đổi cột 'Commit Date' sang định dạng datetime\n",
    "df['Commit Date'] = pd.to_datetime(df['Commit Date'])\n",
    "\n",
    "# Lấy danh sách các tác giả\n",
    "authors = df['Author Name'].unique()\n",
    "\n",
    "filtered_authors = []\n",
    "for author in authors:\n",
    "    author_df = df[df['Author Name'] == author]\n",
    "    years_with_commit = author_df['Commit Date'].dt.year.unique()\n",
    "    if len(years_with_commit) == 2 and len(df['Commit Date'].dt.year.unique()) == 5:\n",
    "        filtered_authors.append(author)\n",
    "\n",
    "# Lọc ra dataframe mới với các tác giả thỏa mãn điều kiện\n",
    "filtered_df = df[df['Author Name'].isin(filtered_authors)][['Author Name', 'Author Email']].drop_duplicates()\n",
    "\n",
    "filtered_df\n"
   ]
  },
  {
   "cell_type": "markdown",
   "id": "aee95cd4",
   "metadata": {},
   "source": [
    "### 5.Có bao nhiêu tác giả đóng góp qua từng năm?"
   ]
  },
  {
   "cell_type": "markdown",
   "id": "ba5d2ac2",
   "metadata": {},
   "source": [
    "<span style=\"color: blue;\">LẬP DATA FRAME THẾ HIỆN SỐ LƯỢNG TÁC GIẢ ĐÓNG GÓP QUA TỪNG NĂM<span>"
   ]
  },
  {
   "cell_type": "code",
   "execution_count": 87,
   "id": "5dcd0516",
   "metadata": {},
   "outputs": [
    {
     "data": {
      "text/html": [
       "<div>\n",
       "<style scoped>\n",
       "    .dataframe tbody tr th:only-of-type {\n",
       "        vertical-align: middle;\n",
       "    }\n",
       "\n",
       "    .dataframe tbody tr th {\n",
       "        vertical-align: top;\n",
       "    }\n",
       "\n",
       "    .dataframe thead th {\n",
       "        text-align: right;\n",
       "    }\n",
       "</style>\n",
       "<table border=\"1\" class=\"dataframe\">\n",
       "  <thead>\n",
       "    <tr style=\"text-align: right;\">\n",
       "      <th></th>\n",
       "      <th>year</th>\n",
       "      <th>num_author</th>\n",
       "    </tr>\n",
       "  </thead>\n",
       "  <tbody>\n",
       "    <tr>\n",
       "      <th>0</th>\n",
       "      <td>2016</td>\n",
       "      <td>76</td>\n",
       "    </tr>\n",
       "    <tr>\n",
       "      <th>1</th>\n",
       "      <td>2017</td>\n",
       "      <td>50</td>\n",
       "    </tr>\n",
       "    <tr>\n",
       "      <th>2</th>\n",
       "      <td>2018</td>\n",
       "      <td>14</td>\n",
       "    </tr>\n",
       "    <tr>\n",
       "      <th>3</th>\n",
       "      <td>2019</td>\n",
       "      <td>1</td>\n",
       "    </tr>\n",
       "    <tr>\n",
       "      <th>4</th>\n",
       "      <td>2020</td>\n",
       "      <td>4</td>\n",
       "    </tr>\n",
       "  </tbody>\n",
       "</table>\n",
       "</div>"
      ],
      "text/plain": [
       "   year  num_author\n",
       "0  2016          76\n",
       "1  2017          50\n",
       "2  2018          14\n",
       "3  2019           1\n",
       "4  2020           4"
      ]
     },
     "execution_count": 87,
     "metadata": {},
     "output_type": "execute_result"
    }
   ],
   "source": [
    "df_copy=df.copy()\n",
    "# Tạo cột 'year' và 'month' từ cột 'Created At'\n",
    "df_copy['year'] = pd.to_datetime(df_copy['Commit Date']).dt.year\n",
    "df_copy['month'] = pd.to_datetime(df_copy['Commit Date']).dt.month\n",
    "\n",
    "# Nhóm các submission theo 'year' và 'month', và đếm số lượng tác giả khác nhau\n",
    "grouped = df_copy.groupby(['year'])\n",
    "num_author = grouped['Author Name'].nunique().reset_index()\n",
    "\n",
    "# Đổi tên cột 'Author' thành 'num_author'\n",
    "num_author.columns = ['year', 'num_author']\n",
    "num_author"
   ]
  },
  {
   "cell_type": "code",
   "execution_count": 88,
   "id": "cfa9a64a",
   "metadata": {},
   "outputs": [],
   "source": [
    "del df_copy"
   ]
  },
  {
   "cell_type": "markdown",
   "id": "49053ed3",
   "metadata": {},
   "source": [
    "<span style=\"color: blue;\">VẼ BIỂU ĐỒ CỘT CHO DATA FRAME TRÊN<span>"
   ]
  },
  {
   "cell_type": "code",
   "execution_count": 89,
   "id": "da2e0b63",
   "metadata": {},
   "outputs": [
    {
     "data": {
      "image/png": "[encoded data removed]",
      "text/plain": [
       "<Figure size 1000x600 with 1 Axes>"
      ]
     },
     "metadata": {},
     "output_type": "display_data"
    }
   ],
   "source": [
    "# Vẽ biểu đồ cột\n",
    "plt.figure(figsize=(10, 6))\n",
    "bars = plt.bar(num_author['year'], num_author['num_author'], color='orange', alpha=1)\n",
    "\n",
    "# Đặt số lượng lên mỗi cột\n",
    "for bar in bars:\n",
    "    height = bar.get_height()\n",
    "    plt.text(bar.get_x() + bar.get_width() / 2, height, height,\n",
    "             ha='center', va='bottom')\n",
    "\n",
    "# Đặt tên cho trục x và trục y\n",
    "plt.xlabel('Month')\n",
    "plt.ylabel('Number of Authors')\n",
    "\n",
    "# Đặt tên cho đồ thị\n",
    "plt.title('Number of Authors by Month')\n",
    "plt.savefig('8.png')\n",
    "# Hiển thị biểu đồ\n",
    "plt.show()"
   ]
  },
  {
   "cell_type": "markdown",
   "id": "6859cf63",
   "metadata": {},
   "source": [
    "<span style=\"color: blue;\">NHẬN XÉT BIỂU ĐỒ</span>"
   ]
  },
  {
   "cell_type": "code",
   "execution_count": 90,
   "id": "131a391c",
   "metadata": {},
   "outputs": [],
   "source": [
    "#Biểu đồ thể hiện số tác giả đóng góp qua từng năm từ năm 2016 đến năm 2020\n",
    "\n",
    "#Ta nhận xét: Số tác giả đóng góp giảm mạnh theo thứ tự qua các năm 2016, 2017, 2018, 2019, 2020. Nguyên nhân có thể là do chủ đề repository có độ hot giảm dần qua các năm"
   ]
  },
  {
   "cell_type": "markdown",
   "id": "64b2fa26",
   "metadata": {},
   "source": [
    "## Phân tích cột Author Email"
   ]
  },
  {
   "cell_type": "markdown",
   "id": "a99f6950",
   "metadata": {},
   "source": [
    "### Câu hỏi phân tích"
   ]
  },
  {
   "cell_type": "code",
   "execution_count": 91,
   "id": "f2f98d65",
   "metadata": {},
   "outputs": [],
   "source": [
    "#1.Có bao nhiêu địa chỉ email khác nhau trong cột \"Author Email\"?Liệt kê các địa chỉ email duy nhất trong cột \"Author Email\"?\n",
    "#2.Tần suất xuất hiện các loại đuôi của email (vd: gmail.com, huntr.dev, usu.edu,...) là bao nhiêu?\n",
    "#3.Các đuôi email được đề cập trong bảng dữ liệu đến từ các quốc gia nào? Quốc gia nào chiếm phần lớn?"
   ]
  },
  {
   "cell_type": "markdown",
   "id": "9afc65a1",
   "metadata": {},
   "source": [
    "### 1.Có bao nhiêu địa chỉ email khác nhau trong cột \"Author Email\"?Liệt kê các địa chỉ email duy nhất trong cột \"Author Email\"?"
   ]
  },
  {
   "cell_type": "markdown",
   "id": "bdd1dfd3",
   "metadata": {},
   "source": [
    "<span style=\"color: blue;\">TÌM SỐ LƯỢNG ĐỊA CHỈ EMAIL KHÁC NHAU VÀ LẬP DATA FRAME LIỆT KÊ DANH SÁCH EMAIL KHÁC NHAU<span>"
   ]
  },
  {
   "cell_type": "code",
   "execution_count": 92,
   "id": "7a123239",
   "metadata": {},
   "outputs": [
    {
     "name": "stdout",
     "output_type": "stream",
     "text": [
      "Số địa chỉ email khác nhau trong cột: 130\n"
     ]
    }
   ],
   "source": [
    "author_email=df['Author Email'].unique()\n",
    "print(\"Số địa chỉ email khác nhau trong cột:\",len(author_email))"
   ]
  },
  {
   "cell_type": "code",
   "execution_count": 93,
   "id": "57a6722e",
   "metadata": {},
   "outputs": [
    {
     "data": {
      "text/html": [
       "<div>\n",
       "<style scoped>\n",
       "    .dataframe tbody tr th:only-of-type {\n",
       "        vertical-align: middle;\n",
       "    }\n",
       "\n",
       "    .dataframe tbody tr th {\n",
       "        vertical-align: top;\n",
       "    }\n",
       "\n",
       "    .dataframe thead th {\n",
       "        text-align: right;\n",
       "    }\n",
       "</style>\n",
       "<table border=\"1\" class=\"dataframe\">\n",
       "  <thead>\n",
       "    <tr style=\"text-align: right;\">\n",
       "      <th></th>\n",
       "      <th>Author Email</th>\n",
       "    </tr>\n",
       "  </thead>\n",
       "  <tbody>\n",
       "    <tr>\n",
       "      <th>0</th>\n",
       "      <td>aymeric.damien@gmail.com</td>\n",
       "    </tr>\n",
       "    <tr>\n",
       "      <th>1</th>\n",
       "      <td>basketballlife600@gmail.com</td>\n",
       "    </tr>\n",
       "    <tr>\n",
       "      <th>2</th>\n",
       "      <td>tir.karthi@gmail.com</td>\n",
       "    </tr>\n",
       "    <tr>\n",
       "      <th>3</th>\n",
       "      <td>vishal.sharma@usu.edu</td>\n",
       "    </tr>\n",
       "    <tr>\n",
       "      <th>4</th>\n",
       "      <td>cjgohlke@gmail.com</td>\n",
       "    </tr>\n",
       "    <tr>\n",
       "      <th>...</th>\n",
       "      <td>...</td>\n",
       "    </tr>\n",
       "    <tr>\n",
       "      <th>125</th>\n",
       "      <td>johnjalleniii@gmail.com</td>\n",
       "    </tr>\n",
       "    <tr>\n",
       "      <th>126</th>\n",
       "      <td>jdsutton@calpoly.edu</td>\n",
       "    </tr>\n",
       "    <tr>\n",
       "      <th>127</th>\n",
       "      <td>brettnaul@gmail.com</td>\n",
       "    </tr>\n",
       "    <tr>\n",
       "      <th>128</th>\n",
       "      <td>adrianlyjak@gmail.com</td>\n",
       "    </tr>\n",
       "    <tr>\n",
       "      <th>129</th>\n",
       "      <td>contact.daviddao@gmail.com</td>\n",
       "    </tr>\n",
       "  </tbody>\n",
       "</table>\n",
       "<p>130 rows × 1 columns</p>\n",
       "</div>"
      ],
      "text/plain": [
       "                    Author Email\n",
       "0       aymeric.damien@gmail.com\n",
       "1    basketballlife600@gmail.com\n",
       "2           tir.karthi@gmail.com\n",
       "3          vishal.sharma@usu.edu\n",
       "4             cjgohlke@gmail.com\n",
       "..                           ...\n",
       "125      johnjalleniii@gmail.com\n",
       "126         jdsutton@calpoly.edu\n",
       "127          brettnaul@gmail.com\n",
       "128        adrianlyjak@gmail.com\n",
       "129   contact.daviddao@gmail.com\n",
       "\n",
       "[130 rows x 1 columns]"
      ]
     },
     "execution_count": 93,
     "metadata": {},
     "output_type": "execute_result"
    }
   ],
   "source": [
    "author_email=df['Author Email'].unique()\n",
    "df_email = pd.DataFrame(author_email, columns=['Author Email'])\n",
    "df_email"
   ]
  },
  {
   "cell_type": "markdown",
   "id": "88b8f2fa",
   "metadata": {},
   "source": [
    "### 2.Tần suất xuất hiện các loại đuôi của email (vd: gmail.com, huntr.dev, usu.edu,...) là bao nhiêu?"
   ]
  },
  {
   "cell_type": "markdown",
   "id": "53c36599",
   "metadata": {},
   "source": [
    "<span style=\"color: blue;\">LẬP DATA FRAME TÌM DANH SÁCH ĐUÔI KHÁC NHAU CỦA EMAIL<span>"
   ]
  },
  {
   "cell_type": "code",
   "execution_count": 94,
   "id": "3960052e",
   "metadata": {
    "scrolled": true
   },
   "outputs": [
    {
     "data": {
      "text/html": [
       "<div>\n",
       "<style scoped>\n",
       "    .dataframe tbody tr th:only-of-type {\n",
       "        vertical-align: middle;\n",
       "    }\n",
       "\n",
       "    .dataframe tbody tr th {\n",
       "        vertical-align: top;\n",
       "    }\n",
       "\n",
       "    .dataframe thead th {\n",
       "        text-align: right;\n",
       "    }\n",
       "</style>\n",
       "<table border=\"1\" class=\"dataframe\">\n",
       "  <thead>\n",
       "    <tr style=\"text-align: right;\">\n",
       "      <th></th>\n",
       "      <th>Type Author Email</th>\n",
       "    </tr>\n",
       "  </thead>\n",
       "  <tbody>\n",
       "    <tr>\n",
       "      <th>0</th>\n",
       "      <td>gmail.com</td>\n",
       "    </tr>\n",
       "    <tr>\n",
       "      <th>1</th>\n",
       "      <td>usu.edu</td>\n",
       "    </tr>\n",
       "    <tr>\n",
       "      <th>2</th>\n",
       "      <td>naver.com</td>\n",
       "    </tr>\n",
       "    <tr>\n",
       "      <th>3</th>\n",
       "      <td>outlook.com</td>\n",
       "    </tr>\n",
       "    <tr>\n",
       "      <th>4</th>\n",
       "      <td>iki.fi</td>\n",
       "    </tr>\n",
       "  </tbody>\n",
       "</table>\n",
       "</div>"
      ],
      "text/plain": [
       "  Type Author Email\n",
       "0         gmail.com\n",
       "1           usu.edu\n",
       "2         naver.com\n",
       "3       outlook.com\n",
       "4            iki.fi"
      ]
     },
     "execution_count": 94,
     "metadata": {},
     "output_type": "execute_result"
    }
   ],
   "source": [
    "# Lập data frame\n",
    "df_email= pd.DataFrame({'Author Email': author_email})\n",
    "\n",
    "# Lấy các loại tài khoản\n",
    "account_types = df['Author Email'].apply(lambda email: email.split('@')[-1]).unique()\n",
    "df_email_đuôi = pd.DataFrame(account_types, columns=['Type Author Email'])\n",
    "df_email_đuôi.head()"
   ]
  },
  {
   "cell_type": "markdown",
   "id": "5965e095",
   "metadata": {},
   "source": [
    "<span style=\"color: blue;\">LẬP DATA FRAME THỂ HIỆN TẦN SUẤT CHO DANH SÁCH TRÊN<span>"
   ]
  },
  {
   "cell_type": "code",
   "execution_count": 95,
   "id": "80720245",
   "metadata": {
    "scrolled": false
   },
   "outputs": [
    {
     "data": {
      "text/html": [
       "<div>\n",
       "<style scoped>\n",
       "    .dataframe tbody tr th:only-of-type {\n",
       "        vertical-align: middle;\n",
       "    }\n",
       "\n",
       "    .dataframe tbody tr th {\n",
       "        vertical-align: top;\n",
       "    }\n",
       "\n",
       "    .dataframe thead th {\n",
       "        text-align: right;\n",
       "    }\n",
       "</style>\n",
       "<table border=\"1\" class=\"dataframe\">\n",
       "  <thead>\n",
       "    <tr style=\"text-align: right;\">\n",
       "      <th></th>\n",
       "      <th>Type</th>\n",
       "      <th>Frequency</th>\n",
       "    </tr>\n",
       "  </thead>\n",
       "  <tbody>\n",
       "    <tr>\n",
       "      <th>0</th>\n",
       "      <td>gmail.com</td>\n",
       "      <td>62</td>\n",
       "    </tr>\n",
       "    <tr>\n",
       "      <th>1</th>\n",
       "      <td>users.noreply.github.com</td>\n",
       "      <td>19</td>\n",
       "    </tr>\n",
       "    <tr>\n",
       "      <th>2</th>\n",
       "      <td>qq.com</td>\n",
       "      <td>5</td>\n",
       "    </tr>\n",
       "    <tr>\n",
       "      <th>3</th>\n",
       "      <td>163.com</td>\n",
       "      <td>4</td>\n",
       "    </tr>\n",
       "    <tr>\n",
       "      <th>4</th>\n",
       "      <td>hotmail.com</td>\n",
       "      <td>2</td>\n",
       "    </tr>\n",
       "  </tbody>\n",
       "</table>\n",
       "</div>"
      ],
      "text/plain": [
       "                       Type  Frequency\n",
       "0                 gmail.com         62\n",
       "1  users.noreply.github.com         19\n",
       "2                    qq.com          5\n",
       "3                   163.com          4\n",
       "4               hotmail.com          2"
      ]
     },
     "execution_count": 95,
     "metadata": {},
     "output_type": "execute_result"
    }
   ],
   "source": [
    "# Danh sách các đuôi email cần lấy\n",
    "email_suffixes = df_email_đuôi['Type Author Email'].tolist()\n",
    "\n",
    "# Tạo danh sách trống\n",
    "frequency_list = []\n",
    "\n",
    "# Lặp qua từng hàng trong data frame\n",
    "for index, row in df_email.iterrows():\n",
    "    author_email = row[\"Author Email\"]\n",
    "    for suffix in email_suffixes:\n",
    "        if suffix in author_email:\n",
    "            # Tăng số lần xuất hiện của đuôi trong danh sách\n",
    "            frequency_list.append(suffix)\n",
    "\n",
    "# Tạo data frame từ danh sách đuôi và số lần xuất hiện\n",
    "frequency_df = pd.DataFrame({\"Type\": frequency_list})\n",
    "frequency_counts = frequency_df[\"Type\"].value_counts().reset_index()\n",
    "frequency_counts.columns = [\"Type\", \"Frequency\"]\n",
    "\n",
    "frequency_counts.head()"
   ]
  },
  {
   "cell_type": "markdown",
   "id": "1bab8958",
   "metadata": {},
   "source": [
    "<span style=\"color: blue;\">NHẬN XÉT DATA FRAME TRÊN<span>"
   ]
  },
  {
   "cell_type": "code",
   "execution_count": 96,
   "id": "e4f352e3",
   "metadata": {},
   "outputs": [],
   "source": [
    "#Các tác giả đóng góp hầu như đều sử dụng tài khoản gmail hoặc tài khoản github"
   ]
  },
  {
   "cell_type": "markdown",
   "id": "81ab852f",
   "metadata": {},
   "source": [
    "### 3.Các đuôi email được đề cập trong bảng dữ liệu đến từ các quốc gia nào? Quốc gia nào chiếm phần lớn?"
   ]
  },
  {
   "cell_type": "markdown",
   "id": "497fb4ce",
   "metadata": {},
   "source": [
    "<span style=\"color: blue;\">LẬP DATA FRAME THỀ HIỆN CÁC QUỐC GIA TƯƠNG ỨNG VỚI ĐUÔI EMAIL<span>"
   ]
  },
  {
   "cell_type": "code",
   "execution_count": 97,
   "id": "710753f8",
   "metadata": {
    "scrolled": true
   },
   "outputs": [
    {
     "data": {
      "text/html": [
       "<div>\n",
       "<style scoped>\n",
       "    .dataframe tbody tr th:only-of-type {\n",
       "        vertical-align: middle;\n",
       "    }\n",
       "\n",
       "    .dataframe tbody tr th {\n",
       "        vertical-align: top;\n",
       "    }\n",
       "\n",
       "    .dataframe thead th {\n",
       "        text-align: right;\n",
       "    }\n",
       "</style>\n",
       "<table border=\"1\" class=\"dataframe\">\n",
       "  <thead>\n",
       "    <tr style=\"text-align: right;\">\n",
       "      <th></th>\n",
       "      <th>Type</th>\n",
       "      <th>Nation</th>\n",
       "    </tr>\n",
       "  </thead>\n",
       "  <tbody>\n",
       "    <tr>\n",
       "      <th>0</th>\n",
       "      <td>gmail.com</td>\n",
       "      <td>Global</td>\n",
       "    </tr>\n",
       "    <tr>\n",
       "      <th>1</th>\n",
       "      <td>users.noreply.github.com</td>\n",
       "      <td>Global</td>\n",
       "    </tr>\n",
       "    <tr>\n",
       "      <th>2</th>\n",
       "      <td>mailframe.net</td>\n",
       "      <td>Global</td>\n",
       "    </tr>\n",
       "    <tr>\n",
       "      <th>3</th>\n",
       "      <td>immomo.com</td>\n",
       "      <td>China</td>\n",
       "    </tr>\n",
       "    <tr>\n",
       "      <th>4</th>\n",
       "      <td>spaceknow.com</td>\n",
       "      <td>Czech Republic</td>\n",
       "    </tr>\n",
       "  </tbody>\n",
       "</table>\n",
       "</div>"
      ],
      "text/plain": [
       "                       Type          Nation\n",
       "0                 gmail.com          Global\n",
       "1  users.noreply.github.com          Global\n",
       "2             mailframe.net          Global\n",
       "3                immomo.com           China\n",
       "4             spaceknow.com  Czech Republic"
      ]
     },
     "execution_count": 97,
     "metadata": {},
     "output_type": "execute_result"
    }
   ],
   "source": [
    "# Tạo từ điển ánh xạ giữa đuôi email và quốc gia\n",
    "mapping = {\n",
    "    \"gmail.com\": \"Global\",\n",
    "    \"users.noreply.github.com\": \"Global\",\n",
    "    \"mailframe.net\": \"Global\",\n",
    "    \"immomo.com\": \"China\",\n",
    "    \"spaceknow.com\": \"Czech Republic\",\n",
    "    \"mit.edu\": \"United States\",\n",
    "    \"sina.com\": \"China\",\n",
    "    \"calpoly.edu\": \"United States\",\n",
    "    \"qq.com\": \"China\",\n",
    "    \"163.com\": \"China\",\n",
    "    \"googlemail.com\": \"Global\",\n",
    "    \"melekhin.me\": \"Montenegro\",\n",
    "    \"fyson.net\": \"Global\",\n",
    "    \"vt.edu\": \"United States\",\n",
    "    \"hotmail.com\": \"Global\",\n",
    "    \"usu.edu\": \"United States\",\n",
    "    \"yopmail.com\": \"Global\",\n",
    "    \"126.com\": \"China\",\n",
    "    \"web.de\": \"Germany\",\n",
    "    \"perscitia.local\": \"Global\",\n",
    "    \"holzfuss.name\": \"Global\",\n",
    "    \"chas.io\": \"Global\",\n",
    "    \"outlook.com\": \"Global\",\n",
    "    \"mikesz.com\": \"Global\",\n",
    "    \"naver.com\": \"South Korea\",\n",
    "    \"sjtu.edu.cn\": \"China\",\n",
    "    \"iki.fi\": \"Finland\",\n",
    "    \"up.edu.ph\": \"Philippines\",\n",
    "    \"gmai.com\": \"Unknown\",\n",
    "    \"=\": \"Unknown\",\n",
    "    \"lightsoft.ru\": \"Russia\",\n",
    "    \"gmu.edu\": \"United States\",\n",
    "    \"vincit.fi\": \"Finland\",\n",
    "    \"waqu.com\": \"Unknown\",\n",
    "    \"mail.hfut.edu.cn\": \"China\",\n",
    "    \"aijia.io\": \"Global\",\n",
    "    \"torrencefamily.net\": \"Global\",\n",
    "    \"mbnet.fi\": \"Finland\",\n",
    "    \"duolingo.com\": \"Global\",\n",
    "    \"righto.com\": \"Global\"\n",
    "}\n",
    "\n",
    "# Tạo DataFrame từ từ điển ánh xạ\n",
    "df_nation = pd.DataFrame.from_dict(mapping, orient=\"index\", columns=[\"Nation\"])\n",
    "df_nation.reset_index(inplace=True)\n",
    "df_nation.columns = [\"Type\", \"Nation\"]\n",
    "df_nation.head()"
   ]
  },
  {
   "cell_type": "markdown",
   "id": "8853aaf7",
   "metadata": {},
   "source": [
    "<span style=\"color: blue;\">THÊM CỘT TẦN XUẤT XUẤT HIỆN CỦA CÁC ĐUÔI EMAIL TRONG BẢNG DỮ LIỆU VÀO DATA FRAME TRÊN<span>"
   ]
  },
  {
   "cell_type": "code",
   "execution_count": 98,
   "id": "9db28b6b",
   "metadata": {
    "scrolled": true
   },
   "outputs": [
    {
     "data": {
      "text/html": [
       "<div>\n",
       "<style scoped>\n",
       "    .dataframe tbody tr th:only-of-type {\n",
       "        vertical-align: middle;\n",
       "    }\n",
       "\n",
       "    .dataframe tbody tr th {\n",
       "        vertical-align: top;\n",
       "    }\n",
       "\n",
       "    .dataframe thead th {\n",
       "        text-align: right;\n",
       "    }\n",
       "</style>\n",
       "<table border=\"1\" class=\"dataframe\">\n",
       "  <thead>\n",
       "    <tr style=\"text-align: right;\">\n",
       "      <th></th>\n",
       "      <th>Type</th>\n",
       "      <th>Frequency</th>\n",
       "      <th>Nation</th>\n",
       "    </tr>\n",
       "  </thead>\n",
       "  <tbody>\n",
       "    <tr>\n",
       "      <th>0</th>\n",
       "      <td>gmail.com</td>\n",
       "      <td>62</td>\n",
       "      <td>Global</td>\n",
       "    </tr>\n",
       "    <tr>\n",
       "      <th>1</th>\n",
       "      <td>users.noreply.github.com</td>\n",
       "      <td>19</td>\n",
       "      <td>Global</td>\n",
       "    </tr>\n",
       "    <tr>\n",
       "      <th>2</th>\n",
       "      <td>qq.com</td>\n",
       "      <td>5</td>\n",
       "      <td>China</td>\n",
       "    </tr>\n",
       "    <tr>\n",
       "      <th>3</th>\n",
       "      <td>163.com</td>\n",
       "      <td>4</td>\n",
       "      <td>China</td>\n",
       "    </tr>\n",
       "    <tr>\n",
       "      <th>4</th>\n",
       "      <td>hotmail.com</td>\n",
       "      <td>2</td>\n",
       "      <td>Global</td>\n",
       "    </tr>\n",
       "  </tbody>\n",
       "</table>\n",
       "</div>"
      ],
      "text/plain": [
       "                       Type  Frequency  Nation\n",
       "0                 gmail.com         62  Global\n",
       "1  users.noreply.github.com         19  Global\n",
       "2                    qq.com          5   China\n",
       "3                   163.com          4   China\n",
       "4               hotmail.com          2  Global"
      ]
     },
     "execution_count": 98,
     "metadata": {},
     "output_type": "execute_result"
    }
   ],
   "source": [
    "df_merged = pd.merge(frequency_counts, df_nation, on=\"Type\")\n",
    "df_merged.head()"
   ]
  },
  {
   "cell_type": "markdown",
   "id": "7626b366",
   "metadata": {},
   "source": [
    "<span style=\"color: blue;\">VẼ BIỂU ĐỒ VIỀN TRÒN TỪ DATA FRAME TRÊN<span>"
   ]
  },
  {
   "cell_type": "code",
   "execution_count": 99,
   "id": "caa53bcd",
   "metadata": {},
   "outputs": [
    {
     "data": {
      "text/html": [
       "<div>\n",
       "<style scoped>\n",
       "    .dataframe tbody tr th:only-of-type {\n",
       "        vertical-align: middle;\n",
       "    }\n",
       "\n",
       "    .dataframe tbody tr th {\n",
       "        vertical-align: top;\n",
       "    }\n",
       "\n",
       "    .dataframe thead th {\n",
       "        text-align: right;\n",
       "    }\n",
       "</style>\n",
       "<table border=\"1\" class=\"dataframe\">\n",
       "  <thead>\n",
       "    <tr style=\"text-align: right;\">\n",
       "      <th></th>\n",
       "      <th>Nation</th>\n",
       "      <th>Commit</th>\n",
       "    </tr>\n",
       "  </thead>\n",
       "  <tbody>\n",
       "    <tr>\n",
       "      <th>0</th>\n",
       "      <td>China</td>\n",
       "      <td>14</td>\n",
       "    </tr>\n",
       "    <tr>\n",
       "      <th>1</th>\n",
       "      <td>Czech Republic</td>\n",
       "      <td>2</td>\n",
       "    </tr>\n",
       "    <tr>\n",
       "      <th>2</th>\n",
       "      <td>Finland</td>\n",
       "      <td>3</td>\n",
       "    </tr>\n",
       "    <tr>\n",
       "      <th>3</th>\n",
       "      <td>Germany</td>\n",
       "      <td>1</td>\n",
       "    </tr>\n",
       "    <tr>\n",
       "      <th>4</th>\n",
       "      <td>Global</td>\n",
       "      <td>98</td>\n",
       "    </tr>\n",
       "    <tr>\n",
       "      <th>5</th>\n",
       "      <td>Montenegro</td>\n",
       "      <td>1</td>\n",
       "    </tr>\n",
       "    <tr>\n",
       "      <th>6</th>\n",
       "      <td>Russia</td>\n",
       "      <td>1</td>\n",
       "    </tr>\n",
       "    <tr>\n",
       "      <th>7</th>\n",
       "      <td>South Korea</td>\n",
       "      <td>1</td>\n",
       "    </tr>\n",
       "    <tr>\n",
       "      <th>8</th>\n",
       "      <td>United States</td>\n",
       "      <td>6</td>\n",
       "    </tr>\n",
       "    <tr>\n",
       "      <th>9</th>\n",
       "      <td>Unknown</td>\n",
       "      <td>3</td>\n",
       "    </tr>\n",
       "  </tbody>\n",
       "</table>\n",
       "</div>"
      ],
      "text/plain": [
       "           Nation  Commit\n",
       "0           China      14\n",
       "1  Czech Republic       2\n",
       "2         Finland       3\n",
       "3         Germany       1\n",
       "4          Global      98\n",
       "5      Montenegro       1\n",
       "6          Russia       1\n",
       "7     South Korea       1\n",
       "8   United States       6\n",
       "9         Unknown       3"
      ]
     },
     "execution_count": 99,
     "metadata": {},
     "output_type": "execute_result"
    }
   ],
   "source": [
    "# Tạo DataFrame mới từ dữ liệu gốc\n",
    "df_commit = df_merged.groupby(\"Nation\")[\"Frequency\"].sum().reset_index()\n",
    "df_commit.columns = [\"Nation\", \"Commit\"]\n",
    "df_commit"
   ]
  },
  {
   "cell_type": "code",
   "execution_count": 100,
   "id": "453ef963",
   "metadata": {},
   "outputs": [
    {
     "data": {
      "image/png": "[encoded data removed]",
      "text/plain": [
       "<Figure size 640x480 with 1 Axes>"
      ]
     },
     "metadata": {},
     "output_type": "display_data"
    }
   ],
   "source": [
    "# Lọc dữ liệu, loại bỏ \"Global\"\n",
    "df_filtered = df_commit[(df_commit[\"Nation\"] != \"Global\")&(df_commit[\"Nation\"] != \"Unknown\")]\n",
    "\n",
    "# Dữ liệu\n",
    "nation = df_filtered[\"Nation\"]\n",
    "commit = df_filtered[\"Commit\"]\n",
    "\n",
    "# Vẽ biểu đồ tròn\n",
    "plt.pie(commit, labels=nation, startangle=90, counterclock=False, autopct='')\n",
    "\n",
    "# Tạo chuỗi chứa nhãn và phần trăm\n",
    "labels = [f'{n}: {p:.1f}%' for n, p in zip(nation, commit/sum(commit)*100)]\n",
    "\n",
    "# Hiển thị chú thích với phần trăm\n",
    "plt.legend(labels, bbox_to_anchor=(1, 0.5), loc='center left')\n",
    "\n",
    "# Tạo đường viền tròn\n",
    "circle = plt.Circle((0, 0), 0.7, color='white')\n",
    "fig = plt.gcf()\n",
    "fig.gca().add_artist(circle)\n",
    "\n",
    "\n",
    "\n",
    "# Thêm tiêu đề\n",
    "plt.title(\"Commit by Nation\")\n",
    "\n",
    "# Hiển thị biểu đồ tròn\n",
    "plt.axis('equal')\n",
    "plt.savefig('9.png')\n",
    "plt.show()"
   ]
  },
  {
   "cell_type": "markdown",
   "id": "3a3429f7",
   "metadata": {},
   "source": [
    "<span style=\"color: blue;\">NHẬN XÉT BIỂU ĐỒ</span>"
   ]
  },
  {
   "cell_type": "code",
   "execution_count": 101,
   "id": "20af9c25",
   "metadata": {},
   "outputs": [],
   "source": [
    "#Biểu đồ thể hiện quốc gia của các tác giả (không kể các email là global)\n",
    "\n",
    "#Dựa vào biểu đồ ta thấy các bài commit thường đến từ các quốc gia ở Châu Á(Trung Quốc, Hàn, Nga,..) và các quốc gia đến từ Châu Âu(Đức, Phần Lan, Czech,..) và Châu Mĩ có 1 đại diện là Mĩ. Trong đó Trung Quốc đóng góp lớn nhất, tiếp theo sau là Mĩ. Các bài commit thường đến từ các trường đại học, tổ chức nghiên cứu, các công ti(dựa vào đuôic email)"
   ]
  },
  {
   "cell_type": "markdown",
   "id": "f9e3c3e4",
   "metadata": {},
   "source": [
    "## Phân tích cột Changed Files"
   ]
  },
  {
   "cell_type": "markdown",
   "id": "36cc1700",
   "metadata": {},
   "source": [
    "### Câu hỏi phân tích"
   ]
  },
  {
   "cell_type": "code",
   "execution_count": 102,
   "id": "fae8bdbf",
   "metadata": {},
   "outputs": [],
   "source": [
    "#1.Tệp tin nào đã được thay đổi nhiều nhất trong mỗi commit?\n",
    "#2.Tệp tin thay đổi thường là loại tệp tin gì?"
   ]
  },
  {
   "cell_type": "markdown",
   "id": "75866f35",
   "metadata": {},
   "source": [
    "### 1.Tệp tin nào đã được thay đổi nhiều nhất trong mỗi commit?"
   ]
  },
  {
   "cell_type": "markdown",
   "id": "b9b89730",
   "metadata": {},
   "source": [
    "<span style=\"color: blue;\">LẬP DATA FRAME TÌM TẬP TIN THAY ĐỔI NHIỀU NHẤT TRONG MỖI COMMIT<span>"
   ]
  },
  {
   "cell_type": "code",
   "execution_count": 103,
   "id": "88a986ae",
   "metadata": {
    "scrolled": true
   },
   "outputs": [
    {
     "data": {
      "text/html": [
       "<div>\n",
       "<style scoped>\n",
       "    .dataframe tbody tr th:only-of-type {\n",
       "        vertical-align: middle;\n",
       "    }\n",
       "\n",
       "    .dataframe tbody tr th {\n",
       "        vertical-align: top;\n",
       "    }\n",
       "\n",
       "    .dataframe thead th {\n",
       "        text-align: right;\n",
       "    }\n",
       "</style>\n",
       "<table border=\"1\" class=\"dataframe\">\n",
       "  <thead>\n",
       "    <tr style=\"text-align: right;\">\n",
       "      <th></th>\n",
       "      <th>Commit Message</th>\n",
       "      <th>File thay đổi nhiều nhất trong commit</th>\n",
       "    </tr>\n",
       "  </thead>\n",
       "  <tbody>\n",
       "    <tr>\n",
       "      <th>0</th>\n",
       "      <td>fix indent</td>\n",
       "      <td>tflearn/activations.py</td>\n",
       "    </tr>\n",
       "    <tr>\n",
       "      <th>1</th>\n",
       "      <td>Adding triplet loss (#1161)\\n\\n* Added fashion...</td>\n",
       "      <td>tflearn/objectives.py</td>\n",
       "    </tr>\n",
       "    <tr>\n",
       "      <th>2</th>\n",
       "      <td>Added fashion_mnist dataset (#1160)</td>\n",
       "      <td>tflearn/datasets/fashion_mnist.py</td>\n",
       "    </tr>\n",
       "    <tr>\n",
       "      <th>3</th>\n",
       "      <td>Fix syntax warning over comparison of literals...</td>\n",
       "      <td>examples/nlp/lstm_generator_textfile.py</td>\n",
       "    </tr>\n",
       "    <tr>\n",
       "      <th>4</th>\n",
       "      <td>merge (#1159)</td>\n",
       "      <td>tflearn/activations.py</td>\n",
       "    </tr>\n",
       "  </tbody>\n",
       "</table>\n",
       "</div>"
      ],
      "text/plain": [
       "                                      Commit Message  \\\n",
       "0                                         fix indent   \n",
       "1  Adding triplet loss (#1161)\\n\\n* Added fashion...   \n",
       "2                Added fashion_mnist dataset (#1160)   \n",
       "3  Fix syntax warning over comparison of literals...   \n",
       "4                                      merge (#1159)   \n",
       "\n",
       "     File thay đổi nhiều nhất trong commit  \n",
       "0                   tflearn/activations.py  \n",
       "1                    tflearn/objectives.py  \n",
       "2        tflearn/datasets/fashion_mnist.py  \n",
       "3  examples/nlp/lstm_generator_textfile.py  \n",
       "4                   tflearn/activations.py  "
      ]
     },
     "execution_count": 103,
     "metadata": {},
     "output_type": "execute_result"
    }
   ],
   "source": [
    "df_copy = df.copy()\n",
    "df_copy[\"Changed Files\"] = df_copy[\"Changed Files\"].apply(eval)  # Chuyển chuỗi thành danh sách\n",
    "df_copy[\"File thay đổi nhiều nhất trong commit\"] = df_copy[\"Changed Files\"].apply(lambda files: max(files, key=files.count))\n",
    "result_df = df_copy[[\"Commit Message\", \"File thay đổi nhiều nhất trong commit\"]]\n",
    "result_df.head()"
   ]
  },
  {
   "cell_type": "markdown",
   "id": "f43eb318",
   "metadata": {},
   "source": [
    "<span style=\"color: blue;\">NHẬN XÉT DATA FRAME<span>"
   ]
  },
  {
   "cell_type": "code",
   "execution_count": 104,
   "id": "20067751",
   "metadata": {},
   "outputs": [],
   "source": [
    "#Các file thay đổi thường là README.md và các file python trong tflearn"
   ]
  },
  {
   "cell_type": "code",
   "execution_count": 105,
   "id": "76fd4deb",
   "metadata": {},
   "outputs": [],
   "source": [
    "del df_copy"
   ]
  },
  {
   "cell_type": "markdown",
   "id": "166db880",
   "metadata": {},
   "source": [
    "### 2.Tệp tin thay đổi thường là loại tệp tin gì?"
   ]
  },
  {
   "cell_type": "markdown",
   "id": "82d252cf",
   "metadata": {},
   "source": [
    "<span style=\"color: blue;\">LẬP DATA FRAME TÌM CÁC LOẠI TẬP TIN<span>"
   ]
  },
  {
   "cell_type": "code",
   "execution_count": 106,
   "id": "14a2999b",
   "metadata": {},
   "outputs": [
    {
     "data": {
      "text/html": [
       "<div>\n",
       "<style scoped>\n",
       "    .dataframe tbody tr th:only-of-type {\n",
       "        vertical-align: middle;\n",
       "    }\n",
       "\n",
       "    .dataframe tbody tr th {\n",
       "        vertical-align: top;\n",
       "    }\n",
       "\n",
       "    .dataframe thead th {\n",
       "        text-align: right;\n",
       "    }\n",
       "</style>\n",
       "<table border=\"1\" class=\"dataframe\">\n",
       "  <thead>\n",
       "    <tr style=\"text-align: right;\">\n",
       "      <th></th>\n",
       "      <th>Type File</th>\n",
       "    </tr>\n",
       "  </thead>\n",
       "  <tbody>\n",
       "    <tr>\n",
       "      <th>0</th>\n",
       "      <td>.py</td>\n",
       "    </tr>\n",
       "    <tr>\n",
       "      <th>2</th>\n",
       "      <td>.md</td>\n",
       "    </tr>\n",
       "    <tr>\n",
       "      <th>4</th>\n",
       "      <td>.yml</td>\n",
       "    </tr>\n",
       "    <tr>\n",
       "      <th>6</th>\n",
       "      <td>.xml</td>\n",
       "    </tr>\n",
       "    <tr>\n",
       "      <th>7</th>\n",
       "      <td>.gitignore</td>\n",
       "    </tr>\n",
       "    <tr>\n",
       "      <th>8</th>\n",
       "      <td>.ACKNOWLEDGMENTS</td>\n",
       "    </tr>\n",
       "    <tr>\n",
       "      <th>9</th>\n",
       "      <td>.ipynb</td>\n",
       "    </tr>\n",
       "  </tbody>\n",
       "</table>\n",
       "</div>"
      ],
      "text/plain": [
       "          Type File\n",
       "0               .py\n",
       "2               .md\n",
       "4              .yml\n",
       "6              .xml\n",
       "7        .gitignore\n",
       "8  .ACKNOWLEDGMENTS\n",
       "9            .ipynb"
      ]
     },
     "execution_count": 106,
     "metadata": {},
     "output_type": "execute_result"
    }
   ],
   "source": [
    "df_copy = df.copy()\n",
    "df_copy[\"Changed Files\"] = df_copy[\"Changed Files\"].str.split(\",\")\n",
    "account_types = df_copy['Changed Files'].explode().dropna().apply(lambda file: file.split('.')[-1]).unique()\n",
    "df_file_đuôi = pd.DataFrame(account_types, columns=['Type File'])\n",
    "df_file_đuôi['Type File'] = df_file_đuôi['Type File'].str.extract(r'([a-zA-Z]+)')\n",
    "df_file_đuôi = df_file_đuôi.drop_duplicates(subset=['Type File'])\n",
    "df_file_đuôi['Type File'] = df_file_đuôi['Type File'].apply(lambda x: '.' + x)\n",
    "df_file_đuôi"
   ]
  },
  {
   "cell_type": "code",
   "execution_count": 107,
   "id": "c886a7cc",
   "metadata": {},
   "outputs": [
    {
     "data": {
      "text/html": [
       "<div>\n",
       "<style scoped>\n",
       "    .dataframe tbody tr th:only-of-type {\n",
       "        vertical-align: middle;\n",
       "    }\n",
       "\n",
       "    .dataframe tbody tr th {\n",
       "        vertical-align: top;\n",
       "    }\n",
       "\n",
       "    .dataframe thead th {\n",
       "        text-align: right;\n",
       "    }\n",
       "</style>\n",
       "<table border=\"1\" class=\"dataframe\">\n",
       "  <thead>\n",
       "    <tr style=\"text-align: right;\">\n",
       "      <th></th>\n",
       "      <th>Type</th>\n",
       "      <th>Frequency</th>\n",
       "    </tr>\n",
       "  </thead>\n",
       "  <tbody>\n",
       "    <tr>\n",
       "      <th>0</th>\n",
       "      <td>.py</td>\n",
       "      <td>493</td>\n",
       "    </tr>\n",
       "    <tr>\n",
       "      <th>1</th>\n",
       "      <td>.md</td>\n",
       "      <td>79</td>\n",
       "    </tr>\n",
       "    <tr>\n",
       "      <th>2</th>\n",
       "      <td>.yml</td>\n",
       "      <td>18</td>\n",
       "    </tr>\n",
       "    <tr>\n",
       "      <th>3</th>\n",
       "      <td>.gitignore</td>\n",
       "      <td>6</td>\n",
       "    </tr>\n",
       "    <tr>\n",
       "      <th>4</th>\n",
       "      <td>.xml</td>\n",
       "      <td>1</td>\n",
       "    </tr>\n",
       "  </tbody>\n",
       "</table>\n",
       "</div>"
      ],
      "text/plain": [
       "         Type  Frequency\n",
       "0         .py        493\n",
       "1         .md         79\n",
       "2        .yml         18\n",
       "3  .gitignore          6\n",
       "4        .xml          1"
      ]
     },
     "execution_count": 107,
     "metadata": {},
     "output_type": "execute_result"
    }
   ],
   "source": [
    "# Danh sách các đuôi file cần lấy\n",
    "file_suffixes = df_file_đuôi['Type File'].tolist()\n",
    "\n",
    "# Tạo danh sách trống\n",
    "frequency_list = []\n",
    "\n",
    "# Lặp qua từng hàng trong data frame\n",
    "for index, row in df.iterrows():\n",
    "    file = row[\"Changed Files\"]\n",
    "    for suffix in file_suffixes:\n",
    "        if suffix in file:\n",
    "            # Tăng số lần xuất hiện của đuôi trong danh sách\n",
    "            frequency_list.append(suffix)\n",
    "\n",
    "# Tạo data frame từ danh sách đuôi và số lần xuất hiện\n",
    "frequency_df = pd.DataFrame({\"Type\": frequency_list})\n",
    "frequency_counts = frequency_df[\"Type\"].value_counts().reset_index()\n",
    "frequency_counts.columns = [\"Type\", \"Frequency\"]\n",
    "\n",
    "frequency_counts.head()"
   ]
  },
  {
   "cell_type": "markdown",
   "id": "f549e325",
   "metadata": {},
   "source": [
    "<span style=\"color: blue;\">NHẬN XÉT DATA FRAME<span>"
   ]
  },
  {
   "cell_type": "code",
   "execution_count": 108,
   "id": "ddba0089",
   "metadata": {},
   "outputs": [],
   "source": [
    "#Các loại file thường thay đổi là .py(tệp Python), .md(tệp Markdown),.yml(tệp YAML), .xml(tệp XML), .gitignore(tệp tin Git Ignore)\n",
    "#Từ đó ta thấy các tệp tin thay đổi thường liên quan mã nguồn python, ghi chú, phân tích dữ liệu, chứa các thông tin lưu trữ,..."
   ]
  },
  {
   "cell_type": "markdown",
   "id": "7462d3ae",
   "metadata": {},
   "source": [
    "# Interpretation & Conclusion"
   ]
  },
  {
   "cell_type": "code",
   "execution_count": 109,
   "id": "b205a786",
   "metadata": {},
   "outputs": [],
   "source": [
    "#Dưới đây là các kết luận sau khi chúng ta xử lí dữ liệu và phân tích:\n",
    "\n",
    "#- Thứ nhất là yếu tố tháng, số lượng commit từ tháng 4 đến tháng 8 đạt mức cao có thể là do từ tháng 4 đến tháng 8 rơi vào mùa hè, mùa du lịch, sinh viên và nhiều người có thể có thời gian để trau dồi kiến thức và tìm hiểu thêm nhiều khóa học, vấn đề.\n",
    "#- Thứ hai là yếu tố năm, số lượng commit giảm dần từ năm 2016 năm có thể là do năm 2016, 2017, vấn đề mới được đưa ra và rất nhiều người tò mò, đóng góp các commit, vấn đề giảm dần độ hot từ năm 2018 trở đi nên số lượng commit dần ít đi.\n",
    "#- Thứ ba , ta dự đoán số lượng commit đạt được trong năm 2021 từ dữ liệu sự tăng trưởng từ năm 2019 đến năm 2020 bằng mô hình Linear Regression vànhận thấy số lượng commit dự đoán năm 2021 tăng nhẹ so với năm 2020.\n",
    "#- Thứ tư, chủ đề của commit thường liên quan đến  vào việc sửa lỗi và cải thiện trong tài liệu và mã nguồn ; hỗ trợ, xử lý vấn đề, và xử lý dữ liệu ; các file thường là các hàm, lớp, Python và TensorFlow.\n",
    "#- Thứ năm, người dùng có xu hướng làm việc vào buổi tối( 18h- 5h sáng hôm sau), buổi sáng và buổi trưa có thể là thời gian học tập, làm việc và nghỉ ngơi của người dùng nên số lượng commit thường ít vào thời điểm này.\n",
    "#- Thứ sáu, tác giả đóng góp lâu nhất và nhiều nhất là Aymeric Damien.\n",
    "#- Thứ bảy, ta thấy các bài commit thường đến từ các quốc gia ở Châu Á(Trung Quốc, Hàn, Nga,..) và các quốc gia đến từ Châu Âu(Đức, Phần Lan, Czech,..) và Châu Mĩ có 1 đại diện là Mĩ. Trong đó Trung Quốc đóng góp lớn nhất, tiếp theo sau là Mĩ. Các bài commit thường đến từ các trường đại học, tổ chức nghiên cứu, các công ti(dựa vào đuôi email).\n",
    "#- Ta thấy các tệp tin thay đổi thường liên quan mã nguồn python, ghi chú, phân tích dữ liệu, chứa các thông tin lưu trữ,…( các file có dạng .py, .md, .yml, .xml, .gitignore, .ipynb, ….)."
   ]
  }
 ],
 "metadata": {
  "kernelspec": {
   "display_name": "Python 3 (ipykernel)",
   "language": "python",
   "name": "python3"
  },
  "language_info": {
   "codemirror_mode": {
    "name": "ipython",
    "version": 3
   },
   "file_extension": ".py",
   "mimetype": "text/x-python",
   "name": "python",
   "nbconvert_exporter": "python",
   "pygments_lexer": "ipython3",
   "version": "3.10.10"
  }
 },
 "nbformat": 4,
 "nbformat_minor": 5
}
